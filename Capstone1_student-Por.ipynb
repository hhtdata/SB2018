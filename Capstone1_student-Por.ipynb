{
 "cells": [
  {
   "cell_type": "code",
   "execution_count": 118,
   "metadata": {
    "collapsed": true
   },
   "outputs": [],
   "source": [
    "import pandas as pd\n",
    "import numpy as np\n",
    "import matplotlib.pyplot as plt"
   ]
  },
  {
   "cell_type": "code",
   "execution_count": 119,
   "metadata": {
    "collapsed": true,
    "scrolled": true
   },
   "outputs": [],
   "source": [
    "df_student = pd.read_csv('student-por.csv',sep=';',header=1,skipinitialspace=True)"
   ]
  },
  {
   "cell_type": "code",
   "execution_count": 120,
   "metadata": {},
   "outputs": [
    {
     "data": {
      "text/html": [
       "<div>\n",
       "<style>\n",
       "    .dataframe thead tr:only-child th {\n",
       "        text-align: right;\n",
       "    }\n",
       "\n",
       "    .dataframe thead th {\n",
       "        text-align: left;\n",
       "    }\n",
       "\n",
       "    .dataframe tbody tr th {\n",
       "        vertical-align: top;\n",
       "    }\n",
       "</style>\n",
       "<table border=\"1\" class=\"dataframe\">\n",
       "  <thead>\n",
       "    <tr style=\"text-align: right;\">\n",
       "      <th></th>\n",
       "      <th>GP</th>\n",
       "      <th>F</th>\n",
       "      <th>18</th>\n",
       "      <th>U</th>\n",
       "      <th>GT3</th>\n",
       "      <th>A</th>\n",
       "      <th>4</th>\n",
       "      <th>4.1</th>\n",
       "      <th>at_home</th>\n",
       "      <th>teacher</th>\n",
       "      <th>...</th>\n",
       "      <th>4.2</th>\n",
       "      <th>3</th>\n",
       "      <th>4.3</th>\n",
       "      <th>1</th>\n",
       "      <th>1.1</th>\n",
       "      <th>3.1</th>\n",
       "      <th>4.4</th>\n",
       "      <th>0.1</th>\n",
       "      <th>11</th>\n",
       "      <th>11.1</th>\n",
       "    </tr>\n",
       "  </thead>\n",
       "  <tbody>\n",
       "    <tr>\n",
       "      <th>0</th>\n",
       "      <td>GP</td>\n",
       "      <td>F</td>\n",
       "      <td>17</td>\n",
       "      <td>U</td>\n",
       "      <td>GT3</td>\n",
       "      <td>T</td>\n",
       "      <td>1</td>\n",
       "      <td>1</td>\n",
       "      <td>at_home</td>\n",
       "      <td>other</td>\n",
       "      <td>...</td>\n",
       "      <td>5</td>\n",
       "      <td>3</td>\n",
       "      <td>3</td>\n",
       "      <td>1</td>\n",
       "      <td>1</td>\n",
       "      <td>3</td>\n",
       "      <td>2</td>\n",
       "      <td>9</td>\n",
       "      <td>11</td>\n",
       "      <td>11</td>\n",
       "    </tr>\n",
       "    <tr>\n",
       "      <th>1</th>\n",
       "      <td>GP</td>\n",
       "      <td>F</td>\n",
       "      <td>15</td>\n",
       "      <td>U</td>\n",
       "      <td>LE3</td>\n",
       "      <td>T</td>\n",
       "      <td>1</td>\n",
       "      <td>1</td>\n",
       "      <td>at_home</td>\n",
       "      <td>other</td>\n",
       "      <td>...</td>\n",
       "      <td>4</td>\n",
       "      <td>3</td>\n",
       "      <td>2</td>\n",
       "      <td>2</td>\n",
       "      <td>3</td>\n",
       "      <td>3</td>\n",
       "      <td>6</td>\n",
       "      <td>12</td>\n",
       "      <td>13</td>\n",
       "      <td>12</td>\n",
       "    </tr>\n",
       "    <tr>\n",
       "      <th>2</th>\n",
       "      <td>GP</td>\n",
       "      <td>F</td>\n",
       "      <td>15</td>\n",
       "      <td>U</td>\n",
       "      <td>GT3</td>\n",
       "      <td>T</td>\n",
       "      <td>4</td>\n",
       "      <td>2</td>\n",
       "      <td>health</td>\n",
       "      <td>services</td>\n",
       "      <td>...</td>\n",
       "      <td>3</td>\n",
       "      <td>2</td>\n",
       "      <td>2</td>\n",
       "      <td>1</td>\n",
       "      <td>1</td>\n",
       "      <td>5</td>\n",
       "      <td>0</td>\n",
       "      <td>14</td>\n",
       "      <td>14</td>\n",
       "      <td>14</td>\n",
       "    </tr>\n",
       "    <tr>\n",
       "      <th>3</th>\n",
       "      <td>GP</td>\n",
       "      <td>F</td>\n",
       "      <td>16</td>\n",
       "      <td>U</td>\n",
       "      <td>GT3</td>\n",
       "      <td>T</td>\n",
       "      <td>3</td>\n",
       "      <td>3</td>\n",
       "      <td>other</td>\n",
       "      <td>other</td>\n",
       "      <td>...</td>\n",
       "      <td>4</td>\n",
       "      <td>3</td>\n",
       "      <td>2</td>\n",
       "      <td>1</td>\n",
       "      <td>2</td>\n",
       "      <td>5</td>\n",
       "      <td>0</td>\n",
       "      <td>11</td>\n",
       "      <td>13</td>\n",
       "      <td>13</td>\n",
       "    </tr>\n",
       "    <tr>\n",
       "      <th>4</th>\n",
       "      <td>GP</td>\n",
       "      <td>M</td>\n",
       "      <td>16</td>\n",
       "      <td>U</td>\n",
       "      <td>LE3</td>\n",
       "      <td>T</td>\n",
       "      <td>4</td>\n",
       "      <td>3</td>\n",
       "      <td>services</td>\n",
       "      <td>other</td>\n",
       "      <td>...</td>\n",
       "      <td>5</td>\n",
       "      <td>4</td>\n",
       "      <td>2</td>\n",
       "      <td>1</td>\n",
       "      <td>2</td>\n",
       "      <td>5</td>\n",
       "      <td>6</td>\n",
       "      <td>12</td>\n",
       "      <td>12</td>\n",
       "      <td>13</td>\n",
       "    </tr>\n",
       "  </tbody>\n",
       "</table>\n",
       "<p>5 rows × 33 columns</p>\n",
       "</div>"
      ],
      "text/plain": [
       "   GP  F  18  U  GT3  A  4  4.1   at_home   teacher ...  4.2  3  4.3  1  1.1  \\\n",
       "0  GP  F  17  U  GT3  T  1    1   at_home     other ...    5  3    3  1    1   \n",
       "1  GP  F  15  U  LE3  T  1    1   at_home     other ...    4  3    2  2    3   \n",
       "2  GP  F  15  U  GT3  T  4    2    health  services ...    3  2    2  1    1   \n",
       "3  GP  F  16  U  GT3  T  3    3     other     other ...    4  3    2  1    2   \n",
       "4  GP  M  16  U  LE3  T  4    3  services     other ...    5  4    2  1    2   \n",
       "\n",
       "  3.1 4.4 0.1  11 11.1  \n",
       "0   3   2   9  11   11  \n",
       "1   3   6  12  13   12  \n",
       "2   5   0  14  14   14  \n",
       "3   5   0  11  13   13  \n",
       "4   5   6  12  12   13  \n",
       "\n",
       "[5 rows x 33 columns]"
      ]
     },
     "execution_count": 120,
     "metadata": {},
     "output_type": "execute_result"
    }
   ],
   "source": [
    "df_student.head()"
   ]
  },
  {
   "cell_type": "code",
   "execution_count": 121,
   "metadata": {
    "collapsed": true
   },
   "outputs": [],
   "source": [
    "# Q1: How many columns are there?\n",
    "\n",
    "# A1: There are 33 columns."
   ]
  },
  {
   "cell_type": "code",
   "execution_count": 122,
   "metadata": {
    "collapsed": true
   },
   "outputs": [],
   "source": [
    "# Q1: What types are the columms?\n",
    "\n",
    "# A1: see below"
   ]
  },
  {
   "cell_type": "code",
   "execution_count": 123,
   "metadata": {},
   "outputs": [
    {
     "data": {
      "text/plain": [
       "GP         object\n",
       "F          object\n",
       "18          int64\n",
       "U          object\n",
       "GT3        object\n",
       "A          object\n",
       "4           int64\n",
       "4.1         int64\n",
       "at_home    object\n",
       "teacher    object\n",
       "course     object\n",
       "mother     object\n",
       "2           int64\n",
       "2.1         int64\n",
       "0           int64\n",
       "yes        object\n",
       "no         object\n",
       "no.1       object\n",
       "no.2       object\n",
       "yes.1      object\n",
       "yes.2      object\n",
       "no.3       object\n",
       "no.4       object\n",
       "4.2         int64\n",
       "3           int64\n",
       "4.3         int64\n",
       "1           int64\n",
       "1.1         int64\n",
       "3.1         int64\n",
       "4.4         int64\n",
       "0.1         int64\n",
       "11          int64\n",
       "11.1        int64\n",
       "dtype: object"
      ]
     },
     "execution_count": 123,
     "metadata": {},
     "output_type": "execute_result"
    }
   ],
   "source": [
    "df_student.dtypes"
   ]
  },
  {
   "cell_type": "code",
   "execution_count": 124,
   "metadata": {
    "collapsed": true
   },
   "outputs": [],
   "source": [
    "# Q1: Are there any missing values?\n",
    "\n",
    "# A1: No"
   ]
  },
  {
   "cell_type": "code",
   "execution_count": 125,
   "metadata": {},
   "outputs": [
    {
     "data": {
      "text/plain": [
       "False"
      ]
     },
     "execution_count": 125,
     "metadata": {},
     "output_type": "execute_result"
    }
   ],
   "source": [
    "df_student.isnull().values.any()"
   ]
  },
  {
   "cell_type": "code",
   "execution_count": 126,
   "metadata": {
    "scrolled": true
   },
   "outputs": [
    {
     "data": {
      "text/html": [
       "<div>\n",
       "<style>\n",
       "    .dataframe thead tr:only-child th {\n",
       "        text-align: right;\n",
       "    }\n",
       "\n",
       "    .dataframe thead th {\n",
       "        text-align: left;\n",
       "    }\n",
       "\n",
       "    .dataframe tbody tr th {\n",
       "        vertical-align: top;\n",
       "    }\n",
       "</style>\n",
       "<table border=\"1\" class=\"dataframe\">\n",
       "  <thead>\n",
       "    <tr style=\"text-align: right;\">\n",
       "      <th></th>\n",
       "      <th>18</th>\n",
       "      <th>4</th>\n",
       "      <th>4.1</th>\n",
       "      <th>2</th>\n",
       "      <th>2.1</th>\n",
       "      <th>0</th>\n",
       "      <th>4.2</th>\n",
       "      <th>3</th>\n",
       "      <th>4.3</th>\n",
       "      <th>1</th>\n",
       "      <th>1.1</th>\n",
       "      <th>3.1</th>\n",
       "      <th>4.4</th>\n",
       "      <th>0.1</th>\n",
       "      <th>11</th>\n",
       "      <th>11.1</th>\n",
       "    </tr>\n",
       "  </thead>\n",
       "  <tbody>\n",
       "    <tr>\n",
       "      <th>count</th>\n",
       "      <td>648.000000</td>\n",
       "      <td>648.000000</td>\n",
       "      <td>648.000000</td>\n",
       "      <td>648.000000</td>\n",
       "      <td>648.000000</td>\n",
       "      <td>648.000000</td>\n",
       "      <td>648.000000</td>\n",
       "      <td>648.000000</td>\n",
       "      <td>648.000000</td>\n",
       "      <td>648.000000</td>\n",
       "      <td>648.000000</td>\n",
       "      <td>648.000000</td>\n",
       "      <td>648.000000</td>\n",
       "      <td>648.000000</td>\n",
       "      <td>648.000000</td>\n",
       "      <td>648.000000</td>\n",
       "    </tr>\n",
       "    <tr>\n",
       "      <th>mean</th>\n",
       "      <td>16.742284</td>\n",
       "      <td>2.512346</td>\n",
       "      <td>2.304012</td>\n",
       "      <td>1.567901</td>\n",
       "      <td>1.930556</td>\n",
       "      <td>0.222222</td>\n",
       "      <td>3.930556</td>\n",
       "      <td>3.180556</td>\n",
       "      <td>3.183642</td>\n",
       "      <td>1.503086</td>\n",
       "      <td>2.282407</td>\n",
       "      <td>3.537037</td>\n",
       "      <td>3.658951</td>\n",
       "      <td>11.416667</td>\n",
       "      <td>11.570988</td>\n",
       "      <td>11.907407</td>\n",
       "    </tr>\n",
       "    <tr>\n",
       "      <th>std</th>\n",
       "      <td>1.218077</td>\n",
       "      <td>1.133923</td>\n",
       "      <td>1.098763</td>\n",
       "      <td>0.749046</td>\n",
       "      <td>0.830146</td>\n",
       "      <td>0.593629</td>\n",
       "      <td>0.956451</td>\n",
       "      <td>1.051881</td>\n",
       "      <td>1.176237</td>\n",
       "      <td>0.925338</td>\n",
       "      <td>1.284385</td>\n",
       "      <td>1.447223</td>\n",
       "      <td>4.644324</td>\n",
       "      <td>2.710532</td>\n",
       "      <td>2.915803</td>\n",
       "      <td>3.232955</td>\n",
       "    </tr>\n",
       "    <tr>\n",
       "      <th>min</th>\n",
       "      <td>15.000000</td>\n",
       "      <td>0.000000</td>\n",
       "      <td>0.000000</td>\n",
       "      <td>1.000000</td>\n",
       "      <td>1.000000</td>\n",
       "      <td>0.000000</td>\n",
       "      <td>1.000000</td>\n",
       "      <td>1.000000</td>\n",
       "      <td>1.000000</td>\n",
       "      <td>1.000000</td>\n",
       "      <td>1.000000</td>\n",
       "      <td>1.000000</td>\n",
       "      <td>0.000000</td>\n",
       "      <td>4.000000</td>\n",
       "      <td>0.000000</td>\n",
       "      <td>0.000000</td>\n",
       "    </tr>\n",
       "    <tr>\n",
       "      <th>25%</th>\n",
       "      <td>16.000000</td>\n",
       "      <td>2.000000</td>\n",
       "      <td>1.000000</td>\n",
       "      <td>1.000000</td>\n",
       "      <td>1.000000</td>\n",
       "      <td>0.000000</td>\n",
       "      <td>4.000000</td>\n",
       "      <td>3.000000</td>\n",
       "      <td>2.000000</td>\n",
       "      <td>1.000000</td>\n",
       "      <td>1.000000</td>\n",
       "      <td>2.000000</td>\n",
       "      <td>0.000000</td>\n",
       "      <td>10.000000</td>\n",
       "      <td>10.000000</td>\n",
       "      <td>10.000000</td>\n",
       "    </tr>\n",
       "    <tr>\n",
       "      <th>50%</th>\n",
       "      <td>17.000000</td>\n",
       "      <td>2.000000</td>\n",
       "      <td>2.000000</td>\n",
       "      <td>1.000000</td>\n",
       "      <td>2.000000</td>\n",
       "      <td>0.000000</td>\n",
       "      <td>4.000000</td>\n",
       "      <td>3.000000</td>\n",
       "      <td>3.000000</td>\n",
       "      <td>1.000000</td>\n",
       "      <td>2.000000</td>\n",
       "      <td>4.000000</td>\n",
       "      <td>2.000000</td>\n",
       "      <td>11.000000</td>\n",
       "      <td>11.000000</td>\n",
       "      <td>12.000000</td>\n",
       "    </tr>\n",
       "    <tr>\n",
       "      <th>75%</th>\n",
       "      <td>18.000000</td>\n",
       "      <td>4.000000</td>\n",
       "      <td>3.000000</td>\n",
       "      <td>2.000000</td>\n",
       "      <td>2.000000</td>\n",
       "      <td>0.000000</td>\n",
       "      <td>5.000000</td>\n",
       "      <td>4.000000</td>\n",
       "      <td>4.000000</td>\n",
       "      <td>2.000000</td>\n",
       "      <td>3.000000</td>\n",
       "      <td>5.000000</td>\n",
       "      <td>6.000000</td>\n",
       "      <td>13.000000</td>\n",
       "      <td>13.000000</td>\n",
       "      <td>14.000000</td>\n",
       "    </tr>\n",
       "    <tr>\n",
       "      <th>max</th>\n",
       "      <td>22.000000</td>\n",
       "      <td>4.000000</td>\n",
       "      <td>4.000000</td>\n",
       "      <td>4.000000</td>\n",
       "      <td>4.000000</td>\n",
       "      <td>3.000000</td>\n",
       "      <td>5.000000</td>\n",
       "      <td>5.000000</td>\n",
       "      <td>5.000000</td>\n",
       "      <td>5.000000</td>\n",
       "      <td>5.000000</td>\n",
       "      <td>5.000000</td>\n",
       "      <td>32.000000</td>\n",
       "      <td>19.000000</td>\n",
       "      <td>19.000000</td>\n",
       "      <td>19.000000</td>\n",
       "    </tr>\n",
       "  </tbody>\n",
       "</table>\n",
       "</div>"
      ],
      "text/plain": [
       "               18           4         4.1           2         2.1           0  \\\n",
       "count  648.000000  648.000000  648.000000  648.000000  648.000000  648.000000   \n",
       "mean    16.742284    2.512346    2.304012    1.567901    1.930556    0.222222   \n",
       "std      1.218077    1.133923    1.098763    0.749046    0.830146    0.593629   \n",
       "min     15.000000    0.000000    0.000000    1.000000    1.000000    0.000000   \n",
       "25%     16.000000    2.000000    1.000000    1.000000    1.000000    0.000000   \n",
       "50%     17.000000    2.000000    2.000000    1.000000    2.000000    0.000000   \n",
       "75%     18.000000    4.000000    3.000000    2.000000    2.000000    0.000000   \n",
       "max     22.000000    4.000000    4.000000    4.000000    4.000000    3.000000   \n",
       "\n",
       "              4.2           3         4.3           1         1.1         3.1  \\\n",
       "count  648.000000  648.000000  648.000000  648.000000  648.000000  648.000000   \n",
       "mean     3.930556    3.180556    3.183642    1.503086    2.282407    3.537037   \n",
       "std      0.956451    1.051881    1.176237    0.925338    1.284385    1.447223   \n",
       "min      1.000000    1.000000    1.000000    1.000000    1.000000    1.000000   \n",
       "25%      4.000000    3.000000    2.000000    1.000000    1.000000    2.000000   \n",
       "50%      4.000000    3.000000    3.000000    1.000000    2.000000    4.000000   \n",
       "75%      5.000000    4.000000    4.000000    2.000000    3.000000    5.000000   \n",
       "max      5.000000    5.000000    5.000000    5.000000    5.000000    5.000000   \n",
       "\n",
       "              4.4         0.1          11        11.1  \n",
       "count  648.000000  648.000000  648.000000  648.000000  \n",
       "mean     3.658951   11.416667   11.570988   11.907407  \n",
       "std      4.644324    2.710532    2.915803    3.232955  \n",
       "min      0.000000    4.000000    0.000000    0.000000  \n",
       "25%      0.000000   10.000000   10.000000   10.000000  \n",
       "50%      2.000000   11.000000   11.000000   12.000000  \n",
       "75%      6.000000   13.000000   13.000000   14.000000  \n",
       "max     32.000000   19.000000   19.000000   19.000000  "
      ]
     },
     "execution_count": 126,
     "metadata": {},
     "output_type": "execute_result"
    }
   ],
   "source": [
    "df_student.describe()"
   ]
  },
  {
   "cell_type": "markdown",
   "metadata": {
    "collapsed": true
   },
   "source": [
    "Q1: Are there an equal number of M and F?\n",
    "\n",
    "A1: There are 382 M and 266 F."
   ]
  },
  {
   "cell_type": "code",
   "execution_count": 128,
   "metadata": {
    "scrolled": true
   },
   "outputs": [
    {
     "data": {
      "text/html": [
       "<div>\n",
       "<style>\n",
       "    .dataframe thead tr:only-child th {\n",
       "        text-align: right;\n",
       "    }\n",
       "\n",
       "    .dataframe thead th {\n",
       "        text-align: left;\n",
       "    }\n",
       "\n",
       "    .dataframe tbody tr th {\n",
       "        vertical-align: top;\n",
       "    }\n",
       "</style>\n",
       "<table border=\"1\" class=\"dataframe\">\n",
       "  <thead>\n",
       "    <tr style=\"text-align: right;\">\n",
       "      <th></th>\n",
       "      <th>GP</th>\n",
       "      <th>18</th>\n",
       "      <th>U</th>\n",
       "      <th>GT3</th>\n",
       "      <th>A</th>\n",
       "      <th>4</th>\n",
       "      <th>4.1</th>\n",
       "      <th>at_home</th>\n",
       "      <th>teacher</th>\n",
       "      <th>course</th>\n",
       "      <th>...</th>\n",
       "      <th>4.2</th>\n",
       "      <th>3</th>\n",
       "      <th>4.3</th>\n",
       "      <th>1</th>\n",
       "      <th>1.1</th>\n",
       "      <th>3.1</th>\n",
       "      <th>4.4</th>\n",
       "      <th>0.1</th>\n",
       "      <th>11</th>\n",
       "      <th>11.1</th>\n",
       "    </tr>\n",
       "    <tr>\n",
       "      <th>F</th>\n",
       "      <th></th>\n",
       "      <th></th>\n",
       "      <th></th>\n",
       "      <th></th>\n",
       "      <th></th>\n",
       "      <th></th>\n",
       "      <th></th>\n",
       "      <th></th>\n",
       "      <th></th>\n",
       "      <th></th>\n",
       "      <th></th>\n",
       "      <th></th>\n",
       "      <th></th>\n",
       "      <th></th>\n",
       "      <th></th>\n",
       "      <th></th>\n",
       "      <th></th>\n",
       "      <th></th>\n",
       "      <th></th>\n",
       "      <th></th>\n",
       "      <th></th>\n",
       "    </tr>\n",
       "  </thead>\n",
       "  <tbody>\n",
       "    <tr>\n",
       "      <th>F</th>\n",
       "      <td>382</td>\n",
       "      <td>382</td>\n",
       "      <td>382</td>\n",
       "      <td>382</td>\n",
       "      <td>382</td>\n",
       "      <td>382</td>\n",
       "      <td>382</td>\n",
       "      <td>382</td>\n",
       "      <td>382</td>\n",
       "      <td>382</td>\n",
       "      <td>...</td>\n",
       "      <td>382</td>\n",
       "      <td>382</td>\n",
       "      <td>382</td>\n",
       "      <td>382</td>\n",
       "      <td>382</td>\n",
       "      <td>382</td>\n",
       "      <td>382</td>\n",
       "      <td>382</td>\n",
       "      <td>382</td>\n",
       "      <td>382</td>\n",
       "    </tr>\n",
       "    <tr>\n",
       "      <th>M</th>\n",
       "      <td>266</td>\n",
       "      <td>266</td>\n",
       "      <td>266</td>\n",
       "      <td>266</td>\n",
       "      <td>266</td>\n",
       "      <td>266</td>\n",
       "      <td>266</td>\n",
       "      <td>266</td>\n",
       "      <td>266</td>\n",
       "      <td>266</td>\n",
       "      <td>...</td>\n",
       "      <td>266</td>\n",
       "      <td>266</td>\n",
       "      <td>266</td>\n",
       "      <td>266</td>\n",
       "      <td>266</td>\n",
       "      <td>266</td>\n",
       "      <td>266</td>\n",
       "      <td>266</td>\n",
       "      <td>266</td>\n",
       "      <td>266</td>\n",
       "    </tr>\n",
       "  </tbody>\n",
       "</table>\n",
       "<p>2 rows × 32 columns</p>\n",
       "</div>"
      ],
      "text/plain": [
       "    GP   18    U  GT3    A    4  4.1  at_home  teacher  course  ...   4.2  \\\n",
       "F                                                               ...         \n",
       "F  382  382  382  382  382  382  382      382      382     382  ...   382   \n",
       "M  266  266  266  266  266  266  266      266      266     266  ...   266   \n",
       "\n",
       "     3  4.3    1  1.1  3.1  4.4  0.1   11  11.1  \n",
       "F                                                \n",
       "F  382  382  382  382  382  382  382  382   382  \n",
       "M  266  266  266  266  266  266  266  266   266  \n",
       "\n",
       "[2 rows x 32 columns]"
      ]
     },
     "execution_count": 128,
     "metadata": {},
     "output_type": "execute_result"
    }
   ],
   "source": [
    "df_student.groupby('F').count()"
   ]
  },
  {
   "cell_type": "code",
   "execution_count": 129,
   "metadata": {
    "collapsed": true
   },
   "outputs": [],
   "source": [
    "# Add column names for readability\n",
    "names = ['school','sex','age','address','famsize','Pstatus','Medu','Fedu','Mjob','Fjob','reason',\\\n",
    "           'guardian','traveltime','studytime','failures','schoolsup','famsup','paid','activities',\\\n",
    "            'nursery','higher','internet','romantic','famrel','freetime','goout','Dalc','Walc',\\\n",
    "            'health','absences','G1','G2','G3']"
   ]
  },
  {
   "cell_type": "code",
   "execution_count": 130,
   "metadata": {
    "collapsed": true
   },
   "outputs": [],
   "source": [
    "df_student.columns = names"
   ]
  },
  {
   "cell_type": "code",
   "execution_count": 131,
   "metadata": {},
   "outputs": [
    {
     "data": {
      "text/html": [
       "<div>\n",
       "<style>\n",
       "    .dataframe thead tr:only-child th {\n",
       "        text-align: right;\n",
       "    }\n",
       "\n",
       "    .dataframe thead th {\n",
       "        text-align: left;\n",
       "    }\n",
       "\n",
       "    .dataframe tbody tr th {\n",
       "        vertical-align: top;\n",
       "    }\n",
       "</style>\n",
       "<table border=\"1\" class=\"dataframe\">\n",
       "  <thead>\n",
       "    <tr style=\"text-align: right;\">\n",
       "      <th></th>\n",
       "      <th>school</th>\n",
       "      <th>sex</th>\n",
       "      <th>age</th>\n",
       "      <th>address</th>\n",
       "      <th>famsize</th>\n",
       "      <th>Pstatus</th>\n",
       "      <th>Medu</th>\n",
       "      <th>Fedu</th>\n",
       "      <th>Mjob</th>\n",
       "      <th>Fjob</th>\n",
       "      <th>...</th>\n",
       "      <th>famrel</th>\n",
       "      <th>freetime</th>\n",
       "      <th>goout</th>\n",
       "      <th>Dalc</th>\n",
       "      <th>Walc</th>\n",
       "      <th>health</th>\n",
       "      <th>absences</th>\n",
       "      <th>G1</th>\n",
       "      <th>G2</th>\n",
       "      <th>G3</th>\n",
       "    </tr>\n",
       "  </thead>\n",
       "  <tbody>\n",
       "    <tr>\n",
       "      <th>0</th>\n",
       "      <td>GP</td>\n",
       "      <td>F</td>\n",
       "      <td>17</td>\n",
       "      <td>U</td>\n",
       "      <td>GT3</td>\n",
       "      <td>T</td>\n",
       "      <td>1</td>\n",
       "      <td>1</td>\n",
       "      <td>at_home</td>\n",
       "      <td>other</td>\n",
       "      <td>...</td>\n",
       "      <td>5</td>\n",
       "      <td>3</td>\n",
       "      <td>3</td>\n",
       "      <td>1</td>\n",
       "      <td>1</td>\n",
       "      <td>3</td>\n",
       "      <td>2</td>\n",
       "      <td>9</td>\n",
       "      <td>11</td>\n",
       "      <td>11</td>\n",
       "    </tr>\n",
       "    <tr>\n",
       "      <th>1</th>\n",
       "      <td>GP</td>\n",
       "      <td>F</td>\n",
       "      <td>15</td>\n",
       "      <td>U</td>\n",
       "      <td>LE3</td>\n",
       "      <td>T</td>\n",
       "      <td>1</td>\n",
       "      <td>1</td>\n",
       "      <td>at_home</td>\n",
       "      <td>other</td>\n",
       "      <td>...</td>\n",
       "      <td>4</td>\n",
       "      <td>3</td>\n",
       "      <td>2</td>\n",
       "      <td>2</td>\n",
       "      <td>3</td>\n",
       "      <td>3</td>\n",
       "      <td>6</td>\n",
       "      <td>12</td>\n",
       "      <td>13</td>\n",
       "      <td>12</td>\n",
       "    </tr>\n",
       "    <tr>\n",
       "      <th>2</th>\n",
       "      <td>GP</td>\n",
       "      <td>F</td>\n",
       "      <td>15</td>\n",
       "      <td>U</td>\n",
       "      <td>GT3</td>\n",
       "      <td>T</td>\n",
       "      <td>4</td>\n",
       "      <td>2</td>\n",
       "      <td>health</td>\n",
       "      <td>services</td>\n",
       "      <td>...</td>\n",
       "      <td>3</td>\n",
       "      <td>2</td>\n",
       "      <td>2</td>\n",
       "      <td>1</td>\n",
       "      <td>1</td>\n",
       "      <td>5</td>\n",
       "      <td>0</td>\n",
       "      <td>14</td>\n",
       "      <td>14</td>\n",
       "      <td>14</td>\n",
       "    </tr>\n",
       "    <tr>\n",
       "      <th>3</th>\n",
       "      <td>GP</td>\n",
       "      <td>F</td>\n",
       "      <td>16</td>\n",
       "      <td>U</td>\n",
       "      <td>GT3</td>\n",
       "      <td>T</td>\n",
       "      <td>3</td>\n",
       "      <td>3</td>\n",
       "      <td>other</td>\n",
       "      <td>other</td>\n",
       "      <td>...</td>\n",
       "      <td>4</td>\n",
       "      <td>3</td>\n",
       "      <td>2</td>\n",
       "      <td>1</td>\n",
       "      <td>2</td>\n",
       "      <td>5</td>\n",
       "      <td>0</td>\n",
       "      <td>11</td>\n",
       "      <td>13</td>\n",
       "      <td>13</td>\n",
       "    </tr>\n",
       "    <tr>\n",
       "      <th>4</th>\n",
       "      <td>GP</td>\n",
       "      <td>M</td>\n",
       "      <td>16</td>\n",
       "      <td>U</td>\n",
       "      <td>LE3</td>\n",
       "      <td>T</td>\n",
       "      <td>4</td>\n",
       "      <td>3</td>\n",
       "      <td>services</td>\n",
       "      <td>other</td>\n",
       "      <td>...</td>\n",
       "      <td>5</td>\n",
       "      <td>4</td>\n",
       "      <td>2</td>\n",
       "      <td>1</td>\n",
       "      <td>2</td>\n",
       "      <td>5</td>\n",
       "      <td>6</td>\n",
       "      <td>12</td>\n",
       "      <td>12</td>\n",
       "      <td>13</td>\n",
       "    </tr>\n",
       "    <tr>\n",
       "      <th>5</th>\n",
       "      <td>GP</td>\n",
       "      <td>M</td>\n",
       "      <td>16</td>\n",
       "      <td>U</td>\n",
       "      <td>LE3</td>\n",
       "      <td>T</td>\n",
       "      <td>2</td>\n",
       "      <td>2</td>\n",
       "      <td>other</td>\n",
       "      <td>other</td>\n",
       "      <td>...</td>\n",
       "      <td>4</td>\n",
       "      <td>4</td>\n",
       "      <td>4</td>\n",
       "      <td>1</td>\n",
       "      <td>1</td>\n",
       "      <td>3</td>\n",
       "      <td>0</td>\n",
       "      <td>13</td>\n",
       "      <td>12</td>\n",
       "      <td>13</td>\n",
       "    </tr>\n",
       "    <tr>\n",
       "      <th>6</th>\n",
       "      <td>GP</td>\n",
       "      <td>F</td>\n",
       "      <td>17</td>\n",
       "      <td>U</td>\n",
       "      <td>GT3</td>\n",
       "      <td>A</td>\n",
       "      <td>4</td>\n",
       "      <td>4</td>\n",
       "      <td>other</td>\n",
       "      <td>teacher</td>\n",
       "      <td>...</td>\n",
       "      <td>4</td>\n",
       "      <td>1</td>\n",
       "      <td>4</td>\n",
       "      <td>1</td>\n",
       "      <td>1</td>\n",
       "      <td>1</td>\n",
       "      <td>2</td>\n",
       "      <td>10</td>\n",
       "      <td>13</td>\n",
       "      <td>13</td>\n",
       "    </tr>\n",
       "    <tr>\n",
       "      <th>7</th>\n",
       "      <td>GP</td>\n",
       "      <td>M</td>\n",
       "      <td>15</td>\n",
       "      <td>U</td>\n",
       "      <td>LE3</td>\n",
       "      <td>A</td>\n",
       "      <td>3</td>\n",
       "      <td>2</td>\n",
       "      <td>services</td>\n",
       "      <td>other</td>\n",
       "      <td>...</td>\n",
       "      <td>4</td>\n",
       "      <td>2</td>\n",
       "      <td>2</td>\n",
       "      <td>1</td>\n",
       "      <td>1</td>\n",
       "      <td>1</td>\n",
       "      <td>0</td>\n",
       "      <td>15</td>\n",
       "      <td>16</td>\n",
       "      <td>17</td>\n",
       "    </tr>\n",
       "    <tr>\n",
       "      <th>8</th>\n",
       "      <td>GP</td>\n",
       "      <td>M</td>\n",
       "      <td>15</td>\n",
       "      <td>U</td>\n",
       "      <td>GT3</td>\n",
       "      <td>T</td>\n",
       "      <td>3</td>\n",
       "      <td>4</td>\n",
       "      <td>other</td>\n",
       "      <td>other</td>\n",
       "      <td>...</td>\n",
       "      <td>5</td>\n",
       "      <td>5</td>\n",
       "      <td>1</td>\n",
       "      <td>1</td>\n",
       "      <td>1</td>\n",
       "      <td>5</td>\n",
       "      <td>0</td>\n",
       "      <td>12</td>\n",
       "      <td>12</td>\n",
       "      <td>13</td>\n",
       "    </tr>\n",
       "    <tr>\n",
       "      <th>9</th>\n",
       "      <td>GP</td>\n",
       "      <td>F</td>\n",
       "      <td>15</td>\n",
       "      <td>U</td>\n",
       "      <td>GT3</td>\n",
       "      <td>T</td>\n",
       "      <td>4</td>\n",
       "      <td>4</td>\n",
       "      <td>teacher</td>\n",
       "      <td>health</td>\n",
       "      <td>...</td>\n",
       "      <td>3</td>\n",
       "      <td>3</td>\n",
       "      <td>3</td>\n",
       "      <td>1</td>\n",
       "      <td>2</td>\n",
       "      <td>2</td>\n",
       "      <td>2</td>\n",
       "      <td>14</td>\n",
       "      <td>14</td>\n",
       "      <td>14</td>\n",
       "    </tr>\n",
       "  </tbody>\n",
       "</table>\n",
       "<p>10 rows × 33 columns</p>\n",
       "</div>"
      ],
      "text/plain": [
       "  school sex  age address famsize Pstatus  Medu  Fedu      Mjob      Fjob ...  \\\n",
       "0     GP   F   17       U     GT3       T     1     1   at_home     other ...   \n",
       "1     GP   F   15       U     LE3       T     1     1   at_home     other ...   \n",
       "2     GP   F   15       U     GT3       T     4     2    health  services ...   \n",
       "3     GP   F   16       U     GT3       T     3     3     other     other ...   \n",
       "4     GP   M   16       U     LE3       T     4     3  services     other ...   \n",
       "5     GP   M   16       U     LE3       T     2     2     other     other ...   \n",
       "6     GP   F   17       U     GT3       A     4     4     other   teacher ...   \n",
       "7     GP   M   15       U     LE3       A     3     2  services     other ...   \n",
       "8     GP   M   15       U     GT3       T     3     4     other     other ...   \n",
       "9     GP   F   15       U     GT3       T     4     4   teacher    health ...   \n",
       "\n",
       "  famrel freetime  goout  Dalc  Walc health absences  G1  G2  G3  \n",
       "0      5        3      3     1     1      3        2   9  11  11  \n",
       "1      4        3      2     2     3      3        6  12  13  12  \n",
       "2      3        2      2     1     1      5        0  14  14  14  \n",
       "3      4        3      2     1     2      5        0  11  13  13  \n",
       "4      5        4      2     1     2      5        6  12  12  13  \n",
       "5      4        4      4     1     1      3        0  13  12  13  \n",
       "6      4        1      4     1     1      1        2  10  13  13  \n",
       "7      4        2      2     1     1      1        0  15  16  17  \n",
       "8      5        5      1     1     1      5        0  12  12  13  \n",
       "9      3        3      3     1     2      2        2  14  14  14  \n",
       "\n",
       "[10 rows x 33 columns]"
      ]
     },
     "execution_count": 131,
     "metadata": {},
     "output_type": "execute_result"
    }
   ],
   "source": [
    "df_student.head(10)"
   ]
  },
  {
   "cell_type": "code",
   "execution_count": 132,
   "metadata": {},
   "outputs": [
    {
     "name": "stdout",
     "output_type": "stream",
     "text": [
      "    school sex  age address famsize Pstatus  Medu  Fedu      Mjob      Fjob  \\\n",
      "0       GP   F   17       U     GT3       T     1     1   at_home     other   \n",
      "1       GP   F   15       U     LE3       T     1     1   at_home     other   \n",
      "2       GP   F   15       U     GT3       T     4     2    health  services   \n",
      "3       GP   F   16       U     GT3       T     3     3     other     other   \n",
      "6       GP   F   17       U     GT3       A     4     4     other   teacher   \n",
      "9       GP   F   15       U     GT3       T     4     4   teacher    health   \n",
      "10      GP   F   15       U     GT3       T     2     1  services     other   \n",
      "14      GP   F   16       U     GT3       T     4     4    health     other   \n",
      "15      GP   F   16       U     GT3       T     4     4  services  services   \n",
      "16      GP   F   16       U     GT3       T     3     3     other     other   \n",
      "23      GP   F   15       R     GT3       T     2     4  services    health   \n",
      "24      GP   F   16       U     GT3       T     2     2  services  services   \n",
      "34      GP   F   15       U     GT3       T     2     3     other     other   \n",
      "37      GP   F   15       R     GT3       T     3     4  services    health   \n",
      "38      GP   F   15       R     GT3       T     2     2   at_home     other   \n",
      "39      GP   F   16       U     LE3       T     2     2     other     other   \n",
      "43      GP   F   16       U     LE3       T     2     2     other   at_home   \n",
      "44      GP   F   15       U     LE3       A     4     3     other     other   \n",
      "45      GP   F   16       U     LE3       A     3     3     other  services   \n",
      "48      GP   F   15       U     GT3       T     4     4  services   teacher   \n",
      "49      GP   F   16       U     LE3       T     2     2  services  services   \n",
      "50      GP   F   15       U     LE3       T     4     2    health     other   \n",
      "52      GP   F   15       U     GT3       T     4     4  services  services   \n",
      "53      GP   F   15       U     LE3       A     3     3     other     other   \n",
      "54      GP   F   16       U     GT3       A     2     1     other     other   \n",
      "55      GP   F   15       U     GT3       A     4     3  services  services   \n",
      "58      GP   F   16       U     GT3       T     4     2  services     other   \n",
      "59      GP   F   16       R     GT3       T     4     4    health   teacher   \n",
      "60      GP   F   16       U     GT3       T     1     1  services  services   \n",
      "61      GP   F   16       U     LE3       T     1     2     other  services   \n",
      "..     ...  ..  ...     ...     ...     ...   ...   ...       ...       ...   \n",
      "606     MS   F   17       R     LE3       A     2     1  services     other   \n",
      "607     MS   F   18       U     LE3       A     1     1   at_home  services   \n",
      "608     MS   F   18       U     GT3       T     1     2   at_home   at_home   \n",
      "609     MS   F   19       R     GT3       A     1     1   at_home   at_home   \n",
      "610     MS   F   18       R     GT3       T     2     2  services     other   \n",
      "612     MS   F   18       U     GT3       T     3     3  services  services   \n",
      "613     MS   F   17       R     GT3       T     4     4   teacher  services   \n",
      "614     MS   F   17       U     LE3       A     3     2  services     other   \n",
      "616     MS   F   18       U     LE3       T     1     1   at_home  services   \n",
      "617     MS   F   18       R     LE3       A     1     2   at_home     other   \n",
      "618     MS   F   18       U     GT3       T     3     3  services  services   \n",
      "619     MS   F   17       U     LE3       T     4     4   at_home   at_home   \n",
      "620     MS   F   17       R     GT3       T     1     2     other  services   \n",
      "623     MS   F   17       R     GT3       T     1     1     other  services   \n",
      "624     MS   F   18       U     GT3       T     2     3   at_home  services   \n",
      "625     MS   F   18       R     GT3       T     4     4     other   teacher   \n",
      "627     MS   F   17       U     GT3       T     2     2     other   at_home   \n",
      "628     MS   F   17       R     GT3       T     1     2     other     other   \n",
      "629     MS   F   18       R     LE3       T     4     4     other     other   \n",
      "630     MS   F   18       R     GT3       T     1     1     other     other   \n",
      "631     MS   F   19       R     GT3       T     1     1   at_home     other   \n",
      "632     MS   F   18       R     LE3       T     4     4   teacher  services   \n",
      "633     MS   F   18       U     GT3       T     3     3     other     other   \n",
      "634     MS   F   17       R     GT3       T     3     1   at_home     other   \n",
      "640     MS   F   18       R     GT3       T     2     2   at_home     other   \n",
      "641     MS   F   17       U     GT3       T     4     3   teacher     other   \n",
      "642     MS   F   18       R     GT3       T     4     4   teacher   at_home   \n",
      "643     MS   F   19       R     GT3       T     2     3  services     other   \n",
      "644     MS   F   18       U     LE3       T     3     1   teacher  services   \n",
      "645     MS   F   18       U     GT3       T     1     1     other     other   \n",
      "\n",
      "    ... famrel freetime  goout  Dalc  Walc health absences  G1  G2  G3  \n",
      "0   ...      5        3      3     1     1      3        2   9  11  11  \n",
      "1   ...      4        3      2     2     3      3        6  12  13  12  \n",
      "2   ...      3        2      2     1     1      5        0  14  14  14  \n",
      "3   ...      4        3      2     1     2      5        0  11  13  13  \n",
      "6   ...      4        1      4     1     1      1        2  10  13  13  \n",
      "9   ...      3        3      3     1     2      2        2  14  14  14  \n",
      "10  ...      5        2      2     1     1      4        0  10  12  13  \n",
      "14  ...      4        4      4     1     2      2        6  17  17  17  \n",
      "15  ...      3        2      3     1     2      2       10  13  13  14  \n",
      "16  ...      5        3      2     1     1      4        2  13  14  14  \n",
      "23  ...      4        3      2     1     1      5        2  10  11  10  \n",
      "24  ...      1        2      2     1     3      5        6  10  11  12  \n",
      "34  ...      3        5      1     1     1      5        4  11  11  11  \n",
      "37  ...      4        3      2     1     1      5        2  11  12  12  \n",
      "38  ...      4        3      1     1     1      2        8  14  13  12  \n",
      "39  ...      3        3      3     1     2      3       16  11  11  10  \n",
      "43  ...      4        3      3     2     2      5       14  10  11  11  \n",
      "44  ...      5        2      2     1     1      5        4  10  11  11  \n",
      "45  ...      2        3      5     1     4      3        6  13  12  13  \n",
      "48  ...      4        4      4     1     1      3        2  13  12  12  \n",
      "49  ...      4        3      3     2     3      4        0  14  13  13  \n",
      "50  ...      4        3      3     1     1      5        0  16  14  16  \n",
      "52  ...      3        3      4     2     3      5        0  13  12  12  \n",
      "53  ...      5        3      4     4     4      1        0  13  12  13  \n",
      "54  ...      5        3      4     1     1      2        2  12  13  12  \n",
      "55  ...      4        3      2     1     1      1        0  15  14  15  \n",
      "58  ...      4        2      3     1     1      5        2  16  15  16  \n",
      "59  ...      2        4      4     2     3      4        0  17  16  16  \n",
      "60  ...      5        5      5     5     5      5        0  10  10  16  \n",
      "61  ...      4        4      3     1     1      1        0  13  13  10  \n",
      "..  ...    ...      ...    ...   ...   ...    ...      ...  ..  ..  ..  \n",
      "606 ...      5        3      3     1     2      2        5  11  11  12  \n",
      "607 ...      5        2      3     1     2      3        2   8  10  11  \n",
      "608 ...      4        1      1     1     1      4        0  11  11  12  \n",
      "609 ...      3        5      4     1     4      1        0   8   0   0  \n",
      "610 ...      4        2      1     1     1      4        5  14  14  15  \n",
      "612 ...      5        3      4     1     1      5        0  10  10  10  \n",
      "613 ...      4        3      3     1     2      5        2  12  12  12  \n",
      "614 ...      1        2      3     1     2      5        0  15  14  15  \n",
      "616 ...      5        3      2     1     1      4        0  19  17  18  \n",
      "617 ...      4        3      4     1     4      5        0  16  15  15  \n",
      "618 ...      4        3      2     1     3      3        6  13  12  13  \n",
      "619 ...      2        3      4     1     1      1        4  15  14  15  \n",
      "620 ...      3        2      2     1     2      3        0  13  13  13  \n",
      "623 ...      5        2      1     1     2      1        0   8   8   9  \n",
      "624 ...      5        2      3     1     2      4        0  10  10  10  \n",
      "625 ...      3        2      2     4     2      5        0   7   5   0  \n",
      "627 ...      3        4      3     1     1      3        8  10  11  12  \n",
      "628 ...      3        5      5     1     3      1        4   7   8   9  \n",
      "629 ...      5        4      4     1     1      1        0  15  17  17  \n",
      "630 ...      4        3      2     1     2      4        4  10  11  12  \n",
      "631 ...      4        3      3     1     1      3        4   7   8   9  \n",
      "632 ...      5        4      3     3     4      2        1  13  14  14  \n",
      "633 ...      4        1      3     1     2      1        1  16  16  16  \n",
      "634 ...      4        5      4     2     3      1       10   8   9   9  \n",
      "640 ...      5        3      3     1     3      4        0  14  17  15  \n",
      "641 ...      5        5      4     1     1      1        0   6   9  11  \n",
      "642 ...      4        4      3     2     2      5        4   7   9  10  \n",
      "643 ...      5        4      2     1     2      5        4  10  11  10  \n",
      "644 ...      4        3      4     1     1      1        4  15  15  16  \n",
      "645 ...      1        1      1     1     1      5        6  11  12   9  \n",
      "\n",
      "[382 rows x 33 columns]\n"
     ]
    }
   ],
   "source": [
    "df_student_f = df_student[(df_student['sex']) == 'F']\n",
    "print(df_student_f)"
   ]
  },
  {
   "cell_type": "code",
   "execution_count": 133,
   "metadata": {},
   "outputs": [
    {
     "data": {
      "image/png": "[encoded data removed]",
      "text/plain": [
       "<matplotlib.figure.Figure at 0x2a662dbfbe0>"
      ]
     },
     "metadata": {},
     "output_type": "display_data"
    }
   ],
   "source": [
    "fx = df_student_f['G3']\n",
    "num_bins = 8\n",
    "plt.hist(fx, num_bins, color = 'red', alpha = 0.5)\n",
    "plt.show()"
   ]
  },
  {
   "cell_type": "code",
   "execution_count": 134,
   "metadata": {},
   "outputs": [
    {
     "name": "stdout",
     "output_type": "stream",
     "text": [
      "    school sex  age address famsize Pstatus  Medu  Fedu      Mjob      Fjob  \\\n",
      "4       GP   M   16       U     LE3       T     4     3  services     other   \n",
      "5       GP   M   16       U     LE3       T     2     2     other     other   \n",
      "7       GP   M   15       U     LE3       A     3     2  services     other   \n",
      "8       GP   M   15       U     GT3       T     3     4     other     other   \n",
      "11      GP   M   15       U     LE3       T     4     4    health  services   \n",
      "12      GP   M   15       U     GT3       T     4     3   teacher     other   \n",
      "13      GP   M   15       U     GT3       A     2     2     other     other   \n",
      "17      GP   M   17       U     GT3       T     3     2  services  services   \n",
      "18      GP   M   16       U     LE3       T     4     3    health     other   \n",
      "19      GP   M   15       U     GT3       T     4     3   teacher     other   \n",
      "20      GP   M   15       U     GT3       T     4     4    health    health   \n",
      "21      GP   M   16       U     LE3       T     4     2   teacher     other   \n",
      "22      GP   M   16       U     LE3       T     2     2     other     other   \n",
      "25      GP   M   15       U     GT3       T     2     2     other     other   \n",
      "26      GP   M   15       U     GT3       T     4     2    health  services   \n",
      "27      GP   M   16       U     LE3       A     3     4  services     other   \n",
      "28      GP   M   16       U     GT3       T     4     4   teacher   teacher   \n",
      "29      GP   M   15       U     GT3       T     4     4    health  services   \n",
      "30      GP   M   15       U     GT3       T     4     4  services  services   \n",
      "31      GP   M   15       R     GT3       T     4     3   teacher   at_home   \n",
      "32      GP   M   15       U     LE3       T     3     3     other     other   \n",
      "33      GP   M   16       U     GT3       T     3     2     other     other   \n",
      "35      GP   M   15       U     LE3       T     4     3   teacher  services   \n",
      "36      GP   M   16       R     GT3       A     4     4     other   teacher   \n",
      "40      GP   M   15       U     LE3       T     4     4   teacher     other   \n",
      "41      GP   M   15       U     GT3       T     4     4  services   teacher   \n",
      "42      GP   M   15       U     GT3       T     2     2  services  services   \n",
      "46      GP   M   16       U     GT3       T     4     3    health  services   \n",
      "47      GP   M   15       U     GT3       T     4     2   teacher     other   \n",
      "51      GP   M   15       U     LE3       A     4     2    health    health   \n",
      "..     ...  ..  ...     ...     ...     ...   ...   ...       ...       ...   \n",
      "563     MS   M   16       R     GT3       T     3     2  services     other   \n",
      "564     MS   M   16       R     LE3       T     1     1   at_home     other   \n",
      "565     MS   M   18       R     GT3       T     1     1  services     other   \n",
      "566     MS   M   18       R     GT3       T     3     2  services     other   \n",
      "567     MS   M   19       U     GT3       T     3     2   at_home  services   \n",
      "568     MS   M   18       U     GT3       T     3     3   at_home   at_home   \n",
      "569     MS   M   16       R     GT3       T     2     2  services  services   \n",
      "570     MS   M   19       U     GT3       T     2     1   at_home     other   \n",
      "573     MS   M   20       R     GT3       T     1     1     other     other   \n",
      "575     MS   M   18       R     GT3       T     3     2     other     other   \n",
      "576     MS   M   19       R     GT3       T     1     1     other  services   \n",
      "577     MS   M   17       U     GT3       T     3     3    health     other   \n",
      "578     MS   M   18       U     LE3       T     1     3   at_home  services   \n",
      "579     MS   M   19       R     GT3       T     1     1     other     other   \n",
      "594     MS   M   18       U     LE3       T     4     4  services     other   \n",
      "597     MS   M   18       U     LE3       T     1     2   at_home  services   \n",
      "598     MS   M   18       R     GT3       T     4     4   at_home  services   \n",
      "599     MS   M   17       R     GT3       T     1     1     other  services   \n",
      "611     MS   M   17       R     GT3       T     4     3  services     other   \n",
      "615     MS   M   18       U     LE3       T     1     1     other  services   \n",
      "621     MS   M   18       R     GT3       T     1     3   at_home     other   \n",
      "622     MS   M   18       U     LE3       T     4     4   teacher  services   \n",
      "626     MS   M   18       R     LE3       T     1     2   at_home  services   \n",
      "635     MS   M   18       U     GT3       T     4     4   teacher   teacher   \n",
      "636     MS   M   18       R     GT3       T     2     1     other     other   \n",
      "637     MS   M   17       U     GT3       T     2     3     other  services   \n",
      "638     MS   M   19       R     GT3       T     1     1     other  services   \n",
      "639     MS   M   18       R     GT3       T     4     2     other     other   \n",
      "646     MS   M   17       U     LE3       T     3     1  services  services   \n",
      "647     MS   M   18       R     LE3       T     3     2  services     other   \n",
      "\n",
      "    ... famrel freetime  goout  Dalc  Walc health absences  G1  G2  G3  \n",
      "4   ...      5        4      2     1     2      5        6  12  12  13  \n",
      "5   ...      4        4      4     1     1      3        0  13  12  13  \n",
      "7   ...      4        2      2     1     1      1        0  15  16  17  \n",
      "8   ...      5        5      1     1     1      5        0  12  12  13  \n",
      "11  ...      4        3      3     1     3      5        0  12  13  12  \n",
      "12  ...      5        4      3     1     2      3        0  12  12  13  \n",
      "13  ...      4        5      2     1     1      3        0  14  14  15  \n",
      "17  ...      5        5      5     2     4      5        2   8   8   7  \n",
      "18  ...      3        1      3     1     3      5        6  12  12  12  \n",
      "19  ...      4        4      1     1     1      1        0  12  13  14  \n",
      "20  ...      5        4      2     1     1      5        0  11  12  12  \n",
      "21  ...      4        5      1     1     3      5        0  12  13  14  \n",
      "22  ...      5        4      4     2     4      5        2  10  10  10  \n",
      "25  ...      4        2      2     1     2      5        8  11  12  12  \n",
      "26  ...      2        2      4     2     4      1        0  11  11  11  \n",
      "27  ...      5        3      3     1     1      5        2  12  12  13  \n",
      "28  ...      4        4      5     5     5      5        4  12  11  12  \n",
      "29  ...      5        4      2     3     4      5        0  10  11  11  \n",
      "30  ...      4        3      1     1     1      5        2  15  15  15  \n",
      "31  ...      4        5      2     1     1      5        0  13  14  15  \n",
      "32  ...      5        3      2     1     1      2        0  13  12  12  \n",
      "33  ...      5        4      3     1     1      5        4  12  12  12  \n",
      "35  ...      5        4      3     1     1      4        0  14  14  14  \n",
      "36  ...      2        4      3     1     1      5        4  13  13  13  \n",
      "40  ...      5        4      3     2     4      5        8  10  11  11  \n",
      "41  ...      4        3      3     1     1      5        0  14  15  15  \n",
      "42  ...      5        4      1     1     1      1        0   9  10  10  \n",
      "46  ...      4        2      2     1     1      2        2  17  17  17  \n",
      "47  ...      4        3      3     2     2      5        4  11  12  13  \n",
      "51  ...      5        5      5     3     4      5        4  10   9   9  \n",
      "..  ...    ...      ...    ...   ...   ...    ...      ...  ..  ..  ..  \n",
      "563 ...      4        5      5     2     3      5        2  11   9  10  \n",
      "564 ...      4        5      5     2     4      5        0  10  10   9  \n",
      "565 ...      5        3      3     2     3      5        2   9   7   9  \n",
      "566 ...      2        3      1     2     2      5        0   4   0   0  \n",
      "567 ...      3        2      1     1     1      3        4   6  11   9  \n",
      "568 ...      4        4      5     1     3      3        9   4   8   8  \n",
      "569 ...      5        4      3     2     4      4        6   7   8   8  \n",
      "570 ...      4        4      3     1     3      5        4   8   9   9  \n",
      "573 ...      4        4      3     2     4      4       12   8  11  10  \n",
      "575 ...      2        5      5     5     5      5        8   9  10  11  \n",
      "576 ...      5        4      4     3     3      2        8  10   9  11  \n",
      "577 ...      4        5      4     2     3      3        4   8   9  10  \n",
      "578 ...      4        3      3     2     3      3        0   9  10   9  \n",
      "579 ...      4        4      4     3     3      5        4   8   9  10  \n",
      "594 ...      5        4      5     1     1      5        3  17  17  17  \n",
      "597 ...      4        1      4     5     5      1        8  10  11  11  \n",
      "598 ...      2        5      5     1     1      1        5  12  13  14  \n",
      "599 ...      4        2      3     3     4      4        4  12  13  14  \n",
      "611 ...      4        5      5     1     3      2        4  10  11  11  \n",
      "615 ...      3        3      2     1     2      3        2  14  13  14  \n",
      "621 ...      3        3      4     2     4      3        0   8  10   9  \n",
      "622 ...      4        2      2     2     2      5        0  15  16  16  \n",
      "626 ...      4        3      3     2     3      3        3   9  10  10  \n",
      "635 ...      3        2      4     1     4      2        4  17  18  19  \n",
      "636 ...      4        4      3     1     3      5        0   7   7   0  \n",
      "637 ...      4        4      3     1     1      3        4  14  15  16  \n",
      "638 ...      4        3      2     1     3      5        0   5   8   0  \n",
      "639 ...      5        4      3     4     3      3        0   7   7   0  \n",
      "646 ...      2        4      5     3     4      2        6  10  10  10  \n",
      "647 ...      4        4      1     3     4      5        4  10  11  11  \n",
      "\n",
      "[266 rows x 33 columns]\n"
     ]
    }
   ],
   "source": [
    "df_student_m = df_student[(df_student['sex']) == 'M']\n",
    "print (df_student_m)"
   ]
  },
  {
   "cell_type": "code",
   "execution_count": 135,
   "metadata": {},
   "outputs": [
    {
     "data": {
      "image/png": "[encoded data removed]",
      "text/plain": [
       "<matplotlib.figure.Figure at 0x2a662ef2c88>"
      ]
     },
     "metadata": {},
     "output_type": "display_data"
    }
   ],
   "source": [
    "mx = df_student_m['G3']\n",
    "num_bins = 8\n",
    "plt.hist(mx, num_bins, color = 'blue', alpha = 0.5)\n",
    "plt.show()"
   ]
  },
  {
   "cell_type": "code",
   "execution_count": 136,
   "metadata": {},
   "outputs": [
    {
     "data": {
      "text/plain": [
       "age           16.785340\n",
       "Medu           2.397906\n",
       "Fedu           2.225131\n",
       "traveltime     1.541885\n",
       "studytime      2.073298\n",
       "failures       0.185864\n",
       "famrel         3.863874\n",
       "freetime       3.052356\n",
       "goout          3.125654\n",
       "Dalc           1.285340\n",
       "Walc           1.939791\n",
       "health         3.369110\n",
       "absences       3.575916\n",
       "G1            11.667539\n",
       "G2            11.824607\n",
       "G3            12.256545\n",
       "dtype: float64"
      ]
     },
     "execution_count": 136,
     "metadata": {},
     "output_type": "execute_result"
    }
   ],
   "source": [
    "df_student_f.mean()"
   ]
  },
  {
   "cell_type": "code",
   "execution_count": 137,
   "metadata": {},
   "outputs": [
    {
     "data": {
      "text/plain": [
       "age           16.680451\n",
       "Medu           2.676692\n",
       "Fedu           2.417293\n",
       "traveltime     1.605263\n",
       "studytime      1.725564\n",
       "failures       0.274436\n",
       "famrel         4.026316\n",
       "freetime       3.364662\n",
       "goout          3.266917\n",
       "Dalc           1.815789\n",
       "Walc           2.774436\n",
       "health         3.778195\n",
       "absences       3.778195\n",
       "G1            11.056391\n",
       "G2            11.206767\n",
       "G3            11.406015\n",
       "dtype: float64"
      ]
     },
     "execution_count": 137,
     "metadata": {},
     "output_type": "execute_result"
    }
   ],
   "source": [
    "df_student_m.mean()"
   ]
  },
  {
   "cell_type": "code",
   "execution_count": 138,
   "metadata": {},
   "outputs": [
    {
     "data": {
      "image/png": "[encoded data removed]",
      "text/plain": [
       "<matplotlib.figure.Figure at 0x2a663104d68>"
      ]
     },
     "metadata": {},
     "output_type": "display_data"
    },
    {
     "data": {
      "image/png": "[encoded data removed]",
      "text/plain": [
       "<matplotlib.figure.Figure at 0x2a663160f60>"
      ]
     },
     "metadata": {},
     "output_type": "display_data"
    },
    {
     "data": {
      "image/png": "[encoded data removed]",
      "text/plain": [
       "<matplotlib.figure.Figure at 0x2a663104a20>"
      ]
     },
     "metadata": {},
     "output_type": "display_data"
    },
    {
     "data": {
      "image/png": "[encoded data removed]",
      "text/plain": [
       "<matplotlib.figure.Figure at 0x2a6630edf28>"
      ]
     },
     "metadata": {},
     "output_type": "display_data"
    }
   ],
   "source": [
    "# Is there a correlation between the amount a student studies (st) and their final grade (g)?\n",
    "\n",
    "df_student_f_st = df_student_f['studytime']\n",
    "df_student_f_g = df_student_f['G3']\n",
    "\n",
    "df_student_m_st = df_student_m['studytime']\n",
    "df_student_m_g = df_student_m['G3']\n",
    "\n",
    "plt.scatter(df_student_f_st, df_student_f_g, alpha = 0.5)\n",
    "plt.show()\n",
    "\n",
    "plt.scatter(df_student_m_st, df_student_m_g, alpha = 0.5)\n",
    "plt.show()\n",
    "\n",
    "import seaborn as sns\n",
    "sns.boxplot(df_student_f_st,df_student_f_g)\n",
    "plt.show()\n",
    "sns.boxplot(df_student_m_st,df_student_m_g)\n",
    "plt.show()"
   ]
  },
  {
   "cell_type": "code",
   "execution_count": 139,
   "metadata": {
    "collapsed": true
   },
   "outputs": [],
   "source": [
    "# Conclusion: increasing study time correlates positively with better final grades for female \n",
    "# students. For male students the study time correlates positively with better final grades up to \n",
    "# up to a study time of 5 to 10 hours. For male students, studying longer than 10 hours has a negative\n",
    "# correlation with final grades."
   ]
  },
  {
   "cell_type": "code",
   "execution_count": 140,
   "metadata": {},
   "outputs": [
    {
     "data": {
      "text/plain": [
       "LinregressResult(slope=0.97913828337874687, intercept=10.22649863760218, rvalue=0.25153238263502709, pvalue=6.3472194843240125e-07, stderr=0.19327063859378724)"
      ]
     },
     "execution_count": 140,
     "metadata": {},
     "output_type": "execute_result"
    }
   ],
   "source": [
    "from scipy.stats import linregress\n",
    "linregress(df_student_f_st, df_student_f_g)"
   ]
  },
  {
   "cell_type": "code",
   "execution_count": 141,
   "metadata": {},
   "outputs": [
    {
     "data": {
      "text/plain": [
       "LinregressResult(slope=0.81031223383259965, intercept=10.007769491243748, rvalue=0.20165073399775979, pvalue=0.00094174461192573188, stderr=0.24223462340641427)"
      ]
     },
     "execution_count": 141,
     "metadata": {},
     "output_type": "execute_result"
    }
   ],
   "source": [
    "linregress(df_student_m_st, df_student_m_g)"
   ]
  },
  {
   "cell_type": "code",
   "execution_count": 142,
   "metadata": {},
   "outputs": [
    {
     "data": {
      "image/png": "[encoded data removed]",
      "text/plain": [
       "<matplotlib.figure.Figure at 0x2a66305a358>"
      ]
     },
     "metadata": {},
     "output_type": "display_data"
    },
    {
     "data": {
      "image/png": "[encoded data removed]",
      "text/plain": [
       "<matplotlib.figure.Figure at 0x2a65c083d68>"
      ]
     },
     "metadata": {},
     "output_type": "display_data"
    },
    {
     "data": {
      "image/png": "[encoded data removed]",
      "text/plain": [
       "<matplotlib.figure.Figure at 0x2a663170f28>"
      ]
     },
     "metadata": {},
     "output_type": "display_data"
    },
    {
     "data": {
      "text/plain": [
       "<function matplotlib.pyplot.show>"
      ]
     },
     "execution_count": 142,
     "metadata": {},
     "output_type": "execute_result"
    }
   ],
   "source": [
    "# Is there a correlation between the amount of time that the students go out (goout) and their\n",
    "# grades (g)?\n",
    "\n",
    "df_student_f_go = df_student_f['goout']\n",
    "\n",
    "df_student_m_go = df_student_m['goout']\n",
    "\n",
    "plt.scatter(df_student_f_go, df_student_f_g, alpha = 0.5)\n",
    "plt.show()\n",
    "\n",
    "plt.scatter(df_student_m_go, df_student_m_g, alpha = 0.5)\n",
    "plt.show()\n",
    "\n",
    "sns.boxplot(df_student_f_go, df_student_f_g)\n",
    "plt.show()\n",
    "\n",
    "sns.boxplot(df_student_m_go, df_student_m_g)\n",
    "plt.show"
   ]
  },
  {
   "cell_type": "markdown",
   "metadata": {
    "collapsed": true
   },
   "source": [
    "Conclusion: Going out with friends doesn't correlate with their final grade (G3)"
   ]
  },
  {
   "cell_type": "code",
   "execution_count": 144,
   "metadata": {},
   "outputs": [
    {
     "data": {
      "image/png": "[encoded data removed]",
      "text/plain": [
       "<matplotlib.figure.Figure at 0x2a66312a278>"
      ]
     },
     "metadata": {},
     "output_type": "display_data"
    },
    {
     "data": {
      "image/png": "[encoded data removed]",
      "text/plain": [
       "<matplotlib.figure.Figure at 0x2a6630cbda0>"
      ]
     },
     "metadata": {},
     "output_type": "display_data"
    }
   ],
   "source": [
    "# Is there a correlation between the student's family size and their grades?\n",
    "\n",
    "df_student_fs = df_student['famsize']\n",
    "df_student_g = df_student['G3']\n",
    "\n",
    "plt.scatter(df_student_fs, df_student_g, alpha = 0.5)\n",
    "plt.show()\n",
    "\n",
    "sns.boxplot(df_student_fs, df_student_g)\n",
    "plt.show()"
   ]
  },
  {
   "cell_type": "markdown",
   "metadata": {
    "collapsed": true
   },
   "source": [
    " Concluson: Family size has no correlation with final student grades"
   ]
  },
  {
   "cell_type": "code",
   "execution_count": 146,
   "metadata": {},
   "outputs": [
    {
     "data": {
      "image/png": "[encoded data removed]",
      "text/plain": [
       "<matplotlib.figure.Figure at 0x2a66309dcf8>"
      ]
     },
     "metadata": {},
     "output_type": "display_data"
    },
    {
     "data": {
      "image/png": "[encoded data removed]",
      "text/plain": [
       "<matplotlib.figure.Figure at 0x2a662d64860>"
      ]
     },
     "metadata": {},
     "output_type": "display_data"
    }
   ],
   "source": [
    "# Is there a correlation between the education of the student's mother and their grades?\n",
    "\n",
    "df_student_medu = df_student['Medu']\n",
    "df_student_g = df_student['G3']\n",
    "\n",
    "plt.scatter(df_student_medu, df_student_g, alpha = 0.5)\n",
    "plt.show()\n",
    "\n",
    "sns.boxplot(df_student_medu, df_student_g)\n",
    "plt.show()"
   ]
  },
  {
   "cell_type": "code",
   "execution_count": 147,
   "metadata": {},
   "outputs": [
    {
     "data": {
      "image/png": "[encoded data removed]",
      "text/plain": [
       "<matplotlib.figure.Figure at 0x2a6626955c0>"
      ]
     },
     "metadata": {},
     "output_type": "display_data"
    },
    {
     "data": {
      "image/png": "[encoded data removed]",
      "text/plain": [
       "<matplotlib.figure.Figure at 0x2a6625ad240>"
      ]
     },
     "metadata": {},
     "output_type": "display_data"
    }
   ],
   "source": [
    "# Is there a correlation between the father's education level and the students grades?\n",
    "\n",
    "df_student_fedu = df_student['Fedu']\n",
    "df_student_g = df_student['G3']\n",
    "\n",
    "plt.scatter(df_student_fedu, df_student_g, alpha = 0.5)\n",
    "plt.show()\n",
    "\n",
    "sns.boxplot(df_student_fedu, df_student_g)\n",
    "plt.show() "
   ]
  },
  {
   "cell_type": "code",
   "execution_count": 148,
   "metadata": {},
   "outputs": [
    {
     "data": {
      "image/png": "[encoded data removed]",
      "text/plain": [
       "<matplotlib.figure.Figure at 0x2a663123dd8>"
      ]
     },
     "metadata": {},
     "output_type": "display_data"
    },
    {
     "data": {
      "image/png": "[encoded data removed]",
      "text/plain": [
       "<matplotlib.figure.Figure at 0x2a662f6aa58>"
      ]
     },
     "metadata": {},
     "output_type": "display_data"
    }
   ],
   "source": [
    "# Is there a correlation between the travel time from home to school and their grades?\n",
    "\n",
    "df_student_tt = df_student['traveltime']\n",
    "df_student_g = df_student['G3']\n",
    "\n",
    "plt.scatter(df_student_tt, df_student_g, alpha = 0.5)\n",
    "plt.show()\n",
    "\n",
    "sns.boxplot(df_student_tt, df_student_g)\n",
    "plt.show()"
   ]
  },
  {
   "cell_type": "code",
   "execution_count": 149,
   "metadata": {},
   "outputs": [
    {
     "data": {
      "image/png": "[encoded data removed]",
      "text/plain": [
       "<matplotlib.figure.Figure at 0x2a662e4c5f8>"
      ]
     },
     "metadata": {},
     "output_type": "display_data"
    },
    {
     "data": {
      "image/png": "[encoded data removed]",
      "text/plain": [
       "<matplotlib.figure.Figure at 0x2a6625a1358>"
      ]
     },
     "metadata": {},
     "output_type": "display_data"
    }
   ],
   "source": [
    "# Is there a correlation between the student's previous failures and their grades?\n",
    "\n",
    "df_student_fail = df_student['failures']\n",
    "df_student_g = df_student['G3']\n",
    "\n",
    "plt.scatter(df_student_fail, df_student_g, alpha = 0.5)\n",
    "plt.show()\n",
    "\n",
    "sns.boxplot(df_student_fail, df_student_g)\n",
    "plt.show()"
   ]
  },
  {
   "cell_type": "code",
   "execution_count": 150,
   "metadata": {},
   "outputs": [
    {
     "data": {
      "image/png": "[encoded data removed]",
      "text/plain": [
       "<matplotlib.figure.Figure at 0x2a661f5d4e0>"
      ]
     },
     "metadata": {},
     "output_type": "display_data"
    },
    {
     "data": {
      "image/png": "[encoded data removed]",
      "text/plain": [
       "<matplotlib.figure.Figure at 0x2a662548c18>"
      ]
     },
     "metadata": {},
     "output_type": "display_data"
    }
   ],
   "source": [
    "# Is there a correlation between the student's support from the school and their grades?\n",
    "\n",
    "df_student_sups = df_student['schoolsup']\n",
    "df_student_g = df_student['G3']\n",
    "\n",
    "plt.scatter(df_student_sups, df_student_g, alpha = 0.5)\n",
    "plt.show()\n",
    "\n",
    "sns.boxplot(df_student_sups, df_student_g)\n",
    "plt.show()"
   ]
  },
  {
   "cell_type": "code",
   "execution_count": 151,
   "metadata": {},
   "outputs": [
    {
     "data": {
      "image/png": "[encoded data removed]",
      "text/plain": [
       "<matplotlib.figure.Figure at 0x2a662ec2390>"
      ]
     },
     "metadata": {},
     "output_type": "display_data"
    },
    {
     "data": {
      "image/png": "[encoded data removed]",
      "text/plain": [
       "<matplotlib.figure.Figure at 0x2a662ec2fd0>"
      ]
     },
     "metadata": {},
     "output_type": "display_data"
    }
   ],
   "source": [
    "# Is there a correlation between the student's family education support and their grades?\n",
    "\n",
    "df_student_fes = df_student['famsup']\n",
    "df_student_g = df_student['G3']\n",
    "\n",
    "plt.scatter(df_student_fes, df_student_g, alpha = 0.5)\n",
    "plt.show()\n",
    "\n",
    "sns.boxplot(df_student_fes, df_student_g)\n",
    "plt.show()"
   ]
  },
  {
   "cell_type": "code",
   "execution_count": 152,
   "metadata": {},
   "outputs": [
    {
     "data": {
      "image/png": "[encoded data removed]",
      "text/plain": [
       "<matplotlib.figure.Figure at 0x2a662f1fe80>"
      ]
     },
     "metadata": {},
     "output_type": "display_data"
    },
    {
     "data": {
      "image/png": "[encoded data removed]",
      "text/plain": [
       "<matplotlib.figure.Figure at 0x2a662ec3eb8>"
      ]
     },
     "metadata": {},
     "output_type": "display_data"
    }
   ],
   "source": [
    "# Is there a correlation between the student's payment for extra classes and their grades?\n",
    "\n",
    "df_student_exc = df_student['paid']\n",
    "df_student_g = df_student['G3']\n",
    "\n",
    "plt.scatter(df_student_exc, df_student_g, alpha = 0.5)\n",
    "plt.show()\n",
    "\n",
    "sns.boxplot(df_student_exc, df_student_g)\n",
    "plt.show()"
   ]
  },
  {
   "cell_type": "code",
   "execution_count": 153,
   "metadata": {},
   "outputs": [
    {
     "data": {
      "image/png": "[encoded data removed]",
      "text/plain": [
       "<matplotlib.figure.Figure at 0x2a662d60e48>"
      ]
     },
     "metadata": {},
     "output_type": "display_data"
    },
    {
     "data": {
      "image/png": "[encoded data removed]",
      "text/plain": [
       "<matplotlib.figure.Figure at 0x2a662cfe978>"
      ]
     },
     "metadata": {},
     "output_type": "display_data"
    }
   ],
   "source": [
    "# Is there a correlation between the student's attendance in extra curricular activities \n",
    "#  and their grades?\n",
    "\n",
    "df_student_xca = df_student['activities']\n",
    "df_student_g = df_student['G3']\n",
    "\n",
    "plt.scatter(df_student_xca, df_student_g, alpha = 0.5)\n",
    "plt.show()\n",
    "\n",
    "sns.boxplot(df_student_xca, df_student_g)\n",
    "plt.show()"
   ]
  },
  {
   "cell_type": "code",
   "execution_count": 154,
   "metadata": {},
   "outputs": [
    {
     "data": {
      "image/png": "[encoded data removed]",
      "text/plain": [
       "<matplotlib.figure.Figure at 0x2a66261d6a0>"
      ]
     },
     "metadata": {},
     "output_type": "display_data"
    },
    {
     "data": {
      "image/png": "[encoded data removed]",
      "text/plain": [
       "<matplotlib.figure.Figure at 0x2a663048630>"
      ]
     },
     "metadata": {},
     "output_type": "display_data"
    }
   ],
   "source": [
    "# Is there a correlation between the student's who want to pursue higher education and their grades?\n",
    "\n",
    "df_student_high = df_student['higher']\n",
    "df_student_g = df_student['G3']\n",
    "\n",
    "plt.scatter(df_student_high, df_student_g, alpha = 0.5)\n",
    "plt.show()\n",
    "\n",
    "sns.boxplot(df_student_high, df_student_g)\n",
    "plt.show()"
   ]
  },
  {
   "cell_type": "code",
   "execution_count": 155,
   "metadata": {},
   "outputs": [
    {
     "data": {
      "image/png": "[encoded data removed]",
      "text/plain": [
       "<matplotlib.figure.Figure at 0x2a662d8f630>"
      ]
     },
     "metadata": {},
     "output_type": "display_data"
    },
    {
     "data": {
      "image/png": "[encoded data removed]",
      "text/plain": [
       "<matplotlib.figure.Figure at 0x2a662682668>"
      ]
     },
     "metadata": {},
     "output_type": "display_data"
    }
   ],
   "source": [
    "# Is there a correlation between the student's access to the internet at home and their grades?\n",
    "\n",
    "df_student_net = df_student['internet']\n",
    "df_student_g = df_student['G3']\n",
    "\n",
    "plt.scatter(df_student_net, df_student_g, alpha = 0.5)\n",
    "plt.show()\n",
    "\n",
    "sns.boxplot(df_student_net, df_student_g)\n",
    "plt.show()"
   ]
  },
  {
   "cell_type": "code",
   "execution_count": 156,
   "metadata": {},
   "outputs": [
    {
     "data": {
      "image/png": "[encoded data removed]",
      "text/plain": [
       "<matplotlib.figure.Figure at 0x2a662f6bf98>"
      ]
     },
     "metadata": {},
     "output_type": "display_data"
    },
    {
     "data": {
      "image/png": "[encoded data removed]",
      "text/plain": [
       "<matplotlib.figure.Figure at 0x2a663051ba8>"
      ]
     },
     "metadata": {},
     "output_type": "display_data"
    }
   ],
   "source": [
    "# Is there a correlation between the student's quality of family relationships and their grades?\n",
    "\n",
    "df_student_famrel = df_student['famrel']\n",
    "df_student_g = df_student['G3']\n",
    "\n",
    "plt.scatter(df_student_famrel, df_student_g, alpha = 0.5)\n",
    "plt.show()\n",
    "\n",
    "sns.boxplot(df_student_famrel, df_student_g)\n",
    "plt.show()"
   ]
  },
  {
   "cell_type": "code",
   "execution_count": 157,
   "metadata": {},
   "outputs": [
    {
     "data": {
      "image/png": "[encoded data removed]",
      "text/plain": [
       "<matplotlib.figure.Figure at 0x2a661f04cc0>"
      ]
     },
     "metadata": {},
     "output_type": "display_data"
    },
    {
     "data": {
      "image/png": "[encoded data removed]",
      "text/plain": [
       "<matplotlib.figure.Figure at 0x2a6630be0f0>"
      ]
     },
     "metadata": {},
     "output_type": "display_data"
    }
   ],
   "source": [
    "# Is there a correlation between the student's free time and their grades?\n",
    "\n",
    "df_student_ft = df_student['freetime']\n",
    "df_student_g = df_student['G3']\n",
    "\n",
    "plt.scatter(df_student_ft, df_student_g, alpha = 0.5)\n",
    "plt.show()\n",
    "\n",
    "sns.boxplot(df_student_ft, df_student_g)\n",
    "plt.show()"
   ]
  },
  {
   "cell_type": "code",
   "execution_count": 158,
   "metadata": {},
   "outputs": [
    {
     "data": {
      "image/png": "[encoded data removed]",
      "text/plain": [
       "<matplotlib.figure.Figure at 0x2a66254e080>"
      ]
     },
     "metadata": {},
     "output_type": "display_data"
    },
    {
     "data": {
      "image/png": "[encoded data removed]",
      "text/plain": [
       "<matplotlib.figure.Figure at 0x2a663025550>"
      ]
     },
     "metadata": {},
     "output_type": "display_data"
    }
   ],
   "source": [
    "# Is there a correlation between the student's daily comsumption of alcohol and their grades?\n",
    "\n",
    "df_student_dalc = df_student['Dalc']\n",
    "df_student_g = df_student['G3']\n",
    "\n",
    "plt.scatter(df_student_dalc, df_student_g, alpha = 0.5)\n",
    "plt.show()\n",
    "\n",
    "sns.boxplot(df_student_dalc, df_student_g)\n",
    "plt.show()"
   ]
  },
  {
   "cell_type": "code",
   "execution_count": 159,
   "metadata": {},
   "outputs": [
    {
     "data": {
      "image/png": "[encoded data removed]",
      "text/plain": [
       "<matplotlib.figure.Figure at 0x2a663193f60>"
      ]
     },
     "metadata": {},
     "output_type": "display_data"
    },
    {
     "data": {
      "image/png": "[encoded data removed]",
      "text/plain": [
       "<matplotlib.figure.Figure at 0x2a662dcb7f0>"
      ]
     },
     "metadata": {},
     "output_type": "display_data"
    }
   ],
   "source": [
    "# Is there a correlation between the student's weekend comsumption of alcohol and their grades?\n",
    "\n",
    "df_student_walc = df_student['Walc']\n",
    "df_student_g = df_student['G3']\n",
    "\n",
    "plt.scatter(df_student_walc, df_student_g, alpha = 0.5)\n",
    "plt.show()\n",
    "\n",
    "sns.boxplot(df_student_walc, df_student_g)\n",
    "plt.show()"
   ]
  },
  {
   "cell_type": "code",
   "execution_count": 160,
   "metadata": {},
   "outputs": [
    {
     "data": {
      "image/png": "[encoded data removed]",
      "text/plain": [
       "<matplotlib.figure.Figure at 0x2a662dab7f0>"
      ]
     },
     "metadata": {},
     "output_type": "display_data"
    },
    {
     "data": {
      "image/png": "[encoded data removed]",
      "text/plain": [
       "<matplotlib.figure.Figure at 0x2a662dffcf8>"
      ]
     },
     "metadata": {},
     "output_type": "display_data"
    }
   ],
   "source": [
    "# Is there a correlation between the student's health and their grades?\n",
    "\n",
    "df_student_h = df_student['health']\n",
    "df_student_g = df_student['G3']\n",
    "\n",
    "plt.scatter(df_student_h, df_student_g, alpha = 0.5)\n",
    "plt.show()\n",
    "\n",
    "sns.boxplot(df_student_h, df_student_g)\n",
    "plt.show()"
   ]
  },
  {
   "cell_type": "code",
   "execution_count": 161,
   "metadata": {},
   "outputs": [
    {
     "data": {
      "image/png": "[encoded data removed]",
      "text/plain": [
       "<matplotlib.figure.Figure at 0x2a663108438>"
      ]
     },
     "metadata": {},
     "output_type": "display_data"
    },
    {
     "data": {
      "image/png": "[encoded data removed]",
      "text/plain": [
       "<matplotlib.figure.Figure at 0x2a662617908>"
      ]
     },
     "metadata": {},
     "output_type": "display_data"
    }
   ],
   "source": [
    "# Is there a correlation between the student's absences and their grades?\n",
    "\n",
    "df_student_ab = df_student['absences']\n",
    "df_student_g = df_student['G3']\n",
    "\n",
    "plt.scatter(df_student_ab, df_student_g, alpha = 0.5)\n",
    "plt.show()\n",
    "\n",
    "sns.boxplot(df_student_ab, df_student_g)\n",
    "plt.show()"
   ]
  },
  {
   "cell_type": "markdown",
   "metadata": {},
   "source": [
    "Calculate the Pearson r for the correlation between female student study time and their grades."
   ]
  },
  {
   "cell_type": "code",
   "execution_count": 162,
   "metadata": {},
   "outputs": [
    {
     "data": {
      "text/plain": [
       "(0.25153238263502709, 6.3472194843242189e-07)"
      ]
     },
     "execution_count": 162,
     "metadata": {},
     "output_type": "execute_result"
    }
   ],
   "source": [
    "from scipy import stats\n",
    "\n",
    "stats.pearsonr(df_student_f_st, df_student_f_g)"
   ]
  },
  {
   "cell_type": "markdown",
   "metadata": {},
   "source": [
    "There is linear correlation (r=0.25), and the p value is small "
   ]
  },
  {
   "cell_type": "code",
   "execution_count": 163,
   "metadata": {},
   "outputs": [
    {
     "data": {
      "text/plain": [
       "(-0.39354412818102408, 1.9643396783858602e-25)"
      ]
     },
     "execution_count": 163,
     "metadata": {},
     "output_type": "execute_result"
    }
   ],
   "source": [
    "stats.pearsonr(df_student_fail, df_student_g)"
   ]
  },
  {
   "cell_type": "code",
   "execution_count": 164,
   "metadata": {},
   "outputs": [
    {
     "name": "stdout",
     "output_type": "stream",
     "text": [
      "0      0\n",
      "1      0\n",
      "2      0\n",
      "3      0\n",
      "4      0\n",
      "5      0\n",
      "6      0\n",
      "7      0\n",
      "8      0\n",
      "9      0\n",
      "10     0\n",
      "11     0\n",
      "12     0\n",
      "13     0\n",
      "14     0\n",
      "15     0\n",
      "16     0\n",
      "17     0\n",
      "18     0\n",
      "19     0\n",
      "20     0\n",
      "21     0\n",
      "22     0\n",
      "23     0\n",
      "24     0\n",
      "25     0\n",
      "26     0\n",
      "27     0\n",
      "28     0\n",
      "29     0\n",
      "      ..\n",
      "618    0\n",
      "619    0\n",
      "620    0\n",
      "621    0\n",
      "622    0\n",
      "623    0\n",
      "624    0\n",
      "625    0\n",
      "626    0\n",
      "627    0\n",
      "628    0\n",
      "629    0\n",
      "630    0\n",
      "631    0\n",
      "632    0\n",
      "633    0\n",
      "634    0\n",
      "635    0\n",
      "636    0\n",
      "637    0\n",
      "638    0\n",
      "639    0\n",
      "640    0\n",
      "641    0\n",
      "642    0\n",
      "643    0\n",
      "644    0\n",
      "645    0\n",
      "646    0\n",
      "647    0\n",
      "Name: higher, Length: 648, dtype: int32\n"
     ]
    },
    {
     "name": "stderr",
     "output_type": "stream",
     "text": [
      "C:\\Users\\hhtph\\Anaconda3\\lib\\site-packages\\scipy\\stats\\stats.py:3021: RuntimeWarning: invalid value encountered in double_scalars\n",
      "  r = r_num / r_den\n",
      "C:\\Users\\hhtph\\Anaconda3\\lib\\site-packages\\scipy\\stats\\stats.py:5277: RuntimeWarning: invalid value encountered in less\n",
      "  x = np.where(x < 1.0, x, 1.0)  # if x > 1 then return 1.0\n"
     ]
    },
    {
     "data": {
      "text/plain": [
       "(nan, 1.0)"
      ]
     },
     "execution_count": 164,
     "metadata": {},
     "output_type": "execute_result"
    }
   ],
   "source": [
    "df_student_high_no = df_student['higher'] == 1\n",
    "df_student_high_yes = df_student['higher']  == 0\n",
    "\n",
    "df_student_high_tot = df_student_high_no | df_student_high_yes\n",
    "df_student_high_tot = df_student_high_tot.astype(int)\n",
    "print(df_student_high_tot)\n",
    "stats.pearsonr(df_student_high_tot, df_student_g)"
   ]
  },
  {
   "cell_type": "code",
   "execution_count": 165,
   "metadata": {},
   "outputs": [
    {
     "data": {
      "text/plain": [
       "(-0.20501401923042509, 1.4038004566917858e-07)"
      ]
     },
     "execution_count": 165,
     "metadata": {},
     "output_type": "execute_result"
    }
   ],
   "source": [
    "stats.pearsonr(df_student_dalc, df_student_g)"
   ]
  },
  {
   "cell_type": "code",
   "execution_count": 166,
   "metadata": {},
   "outputs": [
    {
     "data": {
      "text/plain": [
       "(-0.091353184000580345, 0.020026682963397314)"
      ]
     },
     "execution_count": 166,
     "metadata": {},
     "output_type": "execute_result"
    }
   ],
   "source": [
    "stats.pearsonr(df_student_ab, df_student_g)"
   ]
  },
  {
   "cell_type": "code",
   "execution_count": 169,
   "metadata": {},
   "outputs": [
    {
     "data": {
      "text/plain": [
       "<bound method RegressionResults.summary of <statsmodels.regression.linear_model.OLSResults object at 0x000002A6636A9E48>>"
      ]
     },
     "execution_count": 169,
     "metadata": {},
     "output_type": "execute_result"
    }
   ],
   "source": [
    "import statsmodels.api as sm\n",
    "\n",
    "x = df_student_f_st\n",
    "y = df_student_f_g\n",
    "\n",
    "model = sm.OLS(y,x).fit()\n",
    "predict = model.predict(x)\n",
    "\n",
    "model.summary"
   ]
  },
  {
   "cell_type": "code",
   "execution_count": 172,
   "metadata": {},
   "outputs": [
    {
     "data": {
      "text/plain": [
       "LinregressResult(slope=-2.1432748538011741, intercept=12.383690708252113, rvalue=-0.39354412818102436, pvalue=1.96433967838559e-25, stderr=0.19698272368355124)"
      ]
     },
     "execution_count": 172,
     "metadata": {},
     "output_type": "execute_result"
    }
   ],
   "source": [
    "from scipy.stats import linregress\n",
    "linregress(df_student_fail, df_student_g)"
   ]
  },
  {
   "cell_type": "code",
   "execution_count": 174,
   "metadata": {},
   "outputs": [
    {
     "data": {
      "text/plain": [
       "LinregressResult(slope=-0.063591760791229177, intercept=12.140086519808648, rvalue=-0.091353184000580429, pvalue=0.020026682963396138, stderr=0.027273515238630933)"
      ]
     },
     "execution_count": 174,
     "metadata": {},
     "output_type": "execute_result"
    }
   ],
   "source": [
    "from scipy.stats import linregress\n",
    "linregress(df_student_ab, df_student_g)"
   ]
  },
  {
   "cell_type": "markdown",
   "metadata": {
    "collapsed": true
   },
   "source": [
    "Apply the sklearn preprocessing and one hot encoder to the categorical attributes: study time, failures, health, and absences. "
   ]
  },
  {
   "cell_type": "code",
   "execution_count": 175,
   "metadata": {
    "collapsed": true
   },
   "outputs": [],
   "source": [
    "from numpy import array\n",
    "from numpy import argmax\n",
    "from sklearn.preprocessing import LabelEncoder\n",
    "from sklearn.preprocessing import OneHotEncoder"
   ]
  },
  {
   "cell_type": "markdown",
   "metadata": {},
   "source": [
    "Preprocess the column with student absences."
   ]
  },
  {
   "cell_type": "code",
   "execution_count": 176,
   "metadata": {
    "collapsed": true
   },
   "outputs": [],
   "source": [
    "data = df_student_ab\n",
    "values = array(data)"
   ]
  },
  {
   "cell_type": "code",
   "execution_count": 177,
   "metadata": {},
   "outputs": [
    {
     "name": "stdout",
     "output_type": "stream",
     "text": [
      "[ 2  6  0  0  6  0  2  0  0  2  0  0  0  0  6 10  2  2  6  0  0  0  2  2  6\n",
      "  8  0  2  4  0  2  0  0  4  4  0  4  2  8 16  8  0  0 14  4  6  2  4  2  0\n",
      "  0  4  0  0  2  0  8  0  2  0  0  0  0  0  2  0  0  0  6  2  0  2  0  4  0\n",
      "  0  1  0 14  0  2  4  2  2  4  6  4  6  6  2  6  0  2  2  4  6  0  4  2 12\n",
      "  0  2 16  0 10  4  4  8  2  4  4 12 10  4  6  4  6 14  2  0  6  2  4  0  2\n",
      "  0  0  8  4  0 10  8  6  2 12  4 12  2  4  2  0  2 10  8  4  0  6  2  6 24\n",
      "  0  4  2  4 22  0  0  2  6  6 16  0  0  6  2  6  0  0 14  6  4  0  0  8  4\n",
      "  2  2  0 10  0  0  0  0  4  0  0  0  0  0  0  4  8  4  4  0  0 32  8  6  0\n",
      "  0 10  6  6  0 16  0  0  8  4 16 30  0  2  4  0 21  6 14  2  4  2  0  4 15\n",
      "  0 10  6  2 16 10  4  0  0 12  0  9  4  4  2  0  2  0  0  0  0  0  2  0  0\n",
      "  4  0 18 16 14 26  6  4 10  4  2 14 16  8  4  4  8  0  7  4  2  2 10 10 10\n",
      "  7  4  2 12  8  0  8  4  4  2  0  0  2  2  0  4  2  4  4  4  2  0  2  8  2\n",
      "  2  2  2  0  8  6  0  8  4 12 16 10  2  2  8  6  6 15  6  2  8  0  0 10 22\n",
      " 18  2  0 12 10  0  0  0  0  0  2  0  0  0  0  2  0  0  0  0  0  0  0  0  0\n",
      "  0  0  2  2  2  2  2  8  2  8  9  0  4  2 14  0  2  2 12  2  2  4  0  0  0\n",
      "  0  0  0  2  0  4  2  0  0  2  0  6  8  0  6  8  0  4  0  0  6 18  0  4  4\n",
      "  0  0 10  4 16  6  0 11  9  0  2  0 21  8  5 10  5 13 10 10  5  4 11  0  6\n",
      "  4  0  0  5  0  0  0  0  4  0  4  0  2  0  0  4  0  7  4  8  0  8  6  3  2\n",
      "  0  4  0  3  0  0  4  0  2  1  0  0  2  6  9  0  1  1  0  4  2  0  4  2  0\n",
      "  2 11  0  4  0  2  0  1  6  0  1  6  6  0  4 12  2  5  0  0  2  0  0  0 12\n",
      "  8  2  0  0  0  8  0  0  0  0  1  9  0  2  8  0  0  8  0  6  0  4  2  2  0\n",
      "  1  0  5  1  8  0  2  0  0 11  8 11  2  8  5  0  1  2  2  8  0  0  2  0  0\n",
      "  0  2  4  3  5  4  2  0  0  0  6  0  0  2  0  2  0  4  9  6  4  8  9 12  8\n",
      "  8  8  4  0  4  2  0  0  0  5  0  3  0  0  3  2  0  0  0  3  0  0  8  5  4\n",
      "  4  0  0  2  0  0  5  2  0  0  5  4  0  2  0  2  0  0  6  4  0  0  0  0  0\n",
      "  0  3  8  4  0  4  4  1  1 10  4  0  4  0  0  0  0  4  4  4  6  6  4]\n"
     ]
    }
   ],
   "source": [
    "print (values)"
   ]
  },
  {
   "cell_type": "markdown",
   "metadata": {},
   "source": [
    "Integer encode"
   ]
  },
  {
   "cell_type": "code",
   "execution_count": 180,
   "metadata": {},
   "outputs": [
    {
     "name": "stdout",
     "output_type": "stream",
     "text": [
      "[ 2  6  0  0  6  0  2  0  0  2  0  0  0  0  6 10  2  2  6  0  0  0  2  2  6\n",
      "  8  0  2  4  0  2  0  0  4  4  0  4  2  8 16  8  0  0 14  4  6  2  4  2  0\n",
      "  0  4  0  0  2  0  8  0  2  0  0  0  0  0  2  0  0  0  6  2  0  2  0  4  0\n",
      "  0  1  0 14  0  2  4  2  2  4  6  4  6  6  2  6  0  2  2  4  6  0  4  2 12\n",
      "  0  2 16  0 10  4  4  8  2  4  4 12 10  4  6  4  6 14  2  0  6  2  4  0  2\n",
      "  0  0  8  4  0 10  8  6  2 12  4 12  2  4  2  0  2 10  8  4  0  6  2  6 20\n",
      "  0  4  2  4 19  0  0  2  6  6 16  0  0  6  2  6  0  0 14  6  4  0  0  8  4\n",
      "  2  2  0 10  0  0  0  0  4  0  0  0  0  0  0  4  8  4  4  0  0 23  8  6  0\n",
      "  0 10  6  6  0 16  0  0  8  4 16 22  0  2  4  0 18  6 14  2  4  2  0  4 15\n",
      "  0 10  6  2 16 10  4  0  0 12  0  9  4  4  2  0  2  0  0  0  0  0  2  0  0\n",
      "  4  0 17 16 14 21  6  4 10  4  2 14 16  8  4  4  8  0  7  4  2  2 10 10 10\n",
      "  7  4  2 12  8  0  8  4  4  2  0  0  2  2  0  4  2  4  4  4  2  0  2  8  2\n",
      "  2  2  2  0  8  6  0  8  4 12 16 10  2  2  8  6  6 15  6  2  8  0  0 10 19\n",
      " 17  2  0 12 10  0  0  0  0  0  2  0  0  0  0  2  0  0  0  0  0  0  0  0  0\n",
      "  0  0  2  2  2  2  2  8  2  8  9  0  4  2 14  0  2  2 12  2  2  4  0  0  0\n",
      "  0  0  0  2  0  4  2  0  0  2  0  6  8  0  6  8  0  4  0  0  6 17  0  4  4\n",
      "  0  0 10  4 16  6  0 11  9  0  2  0 18  8  5 10  5 13 10 10  5  4 11  0  6\n",
      "  4  0  0  5  0  0  0  0  4  0  4  0  2  0  0  4  0  7  4  8  0  8  6  3  2\n",
      "  0  4  0  3  0  0  4  0  2  1  0  0  2  6  9  0  1  1  0  4  2  0  4  2  0\n",
      "  2 11  0  4  0  2  0  1  6  0  1  6  6  0  4 12  2  5  0  0  2  0  0  0 12\n",
      "  8  2  0  0  0  8  0  0  0  0  1  9  0  2  8  0  0  8  0  6  0  4  2  2  0\n",
      "  1  0  5  1  8  0  2  0  0 11  8 11  2  8  5  0  1  2  2  8  0  0  2  0  0\n",
      "  0  2  4  3  5  4  2  0  0  0  6  0  0  2  0  2  0  4  9  6  4  8  9 12  8\n",
      "  8  8  4  0  4  2  0  0  0  5  0  3  0  0  3  2  0  0  0  3  0  0  8  5  4\n",
      "  4  0  0  2  0  0  5  2  0  0  5  4  0  2  0  2  0  0  6  4  0  0  0  0  0\n",
      "  0  3  8  4  0  4  4  1  1 10  4  0  4  0  0  0  0  4  4  4  6  6  4]\n"
     ]
    }
   ],
   "source": [
    "label_encoder = LabelEncoder()\n",
    "integer_encoded = label_encoder.fit_transform(values)\n",
    "print (integer_encoded)"
   ]
  },
  {
   "cell_type": "markdown",
   "metadata": {},
   "source": [
    "Binary encode"
   ]
  },
  {
   "cell_type": "code",
   "execution_count": 181,
   "metadata": {},
   "outputs": [
    {
     "name": "stdout",
     "output_type": "stream",
     "text": [
      "[[ 0.  0.  1. ...,  0.  0.  0.]\n",
      " [ 0.  0.  0. ...,  0.  0.  0.]\n",
      " [ 1.  0.  0. ...,  0.  0.  0.]\n",
      " ..., \n",
      " [ 0.  0.  0. ...,  0.  0.  0.]\n",
      " [ 0.  0.  0. ...,  0.  0.  0.]\n",
      " [ 0.  0.  0. ...,  0.  0.  0.]]\n"
     ]
    }
   ],
   "source": [
    "onehot_encoder = OneHotEncoder(sparse = False)\n",
    "integer_encoded = integer_encoded.reshape(len(integer_encoded),1)\n",
    "onehot_encoded = onehot_encoder.fit_transform(integer_encoded)\n",
    "print(onehot_encoded)"
   ]
  },
  {
   "cell_type": "markdown",
   "metadata": {},
   "source": [
    "Invert"
   ]
  },
  {
   "cell_type": "code",
   "execution_count": 182,
   "metadata": {},
   "outputs": [
    {
     "name": "stdout",
     "output_type": "stream",
     "text": [
      "[2]\n"
     ]
    }
   ],
   "source": [
    "inverted = label_encoder.inverse_transform([argmax(onehot_encoded[0 , :])])\n",
    "print(inverted)"
   ]
  },
  {
   "cell_type": "code",
   "execution_count": null,
   "metadata": {
    "collapsed": true
   },
   "outputs": [],
   "source": []
  }
 ],
 "metadata": {
  "kernelspec": {
   "display_name": "Python 3",
   "language": "python",
   "name": "python3"
  },
  "language_info": {
   "codemirror_mode": {
    "name": "ipython",
    "version": 3
   },
   "file_extension": ".py",
   "mimetype": "text/x-python",
   "name": "python",
   "nbconvert_exporter": "python",
   "pygments_lexer": "ipython3",
   "version": "3.6.3"
  }
 },
 "nbformat": 4,
 "nbformat_minor": 2
}
