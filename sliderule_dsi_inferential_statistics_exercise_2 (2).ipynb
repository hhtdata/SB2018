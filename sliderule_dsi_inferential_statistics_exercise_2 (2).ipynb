{
 "cells": [
  {
   "cell_type": "markdown",
   "metadata": {},
   "source": [
    "# Examining Racial Discrimination in the US Job Market\n",
    "\n",
    "### Background\n",
    "Racial discrimination continues to be pervasive in cultures throughout the world. Researchers examined the level of racial discrimination in the United States labor market by randomly assigning identical résumés to black-sounding or white-sounding names and observing the impact on requests for interviews from employers.\n",
    "\n",
    "### Data\n",
    "In the dataset provided, each row represents a resume. The 'race' column has two values, 'b' and 'w', indicating black-sounding and white-sounding. The column 'call' has two values, 1 and 0, indicating whether the resume received a call from employers or not.\n",
    "\n",
    "Note that the 'b' and 'w' values in race are assigned randomly to the resumes when presented to the employer."
   ]
  },
  {
   "cell_type": "markdown",
   "metadata": {},
   "source": [
    "<div class=\"span5 alert alert-info\">\n",
    "### Exercises\n",
    "You will perform a statistical analysis to establish whether race has a significant impact on the rate of callbacks for resumes.\n",
    "\n",
    "Answer the following questions **in this notebook below and submit to your Github account**. \n",
    "\n",
    "   1. What test is appropriate for this problem? Does CLT apply?\n",
    "   2. What are the null and alternate hypotheses?\n",
    "   3. Compute margin of error, confidence interval, and p-value. Try using both the bootstrapping and the frequentist statistical approaches.\n",
    "   4. Write a story describing the statistical significance in the context or the original problem.\n",
    "   5. Does your analysis mean that race/name is the most important factor in callback success? Why or why not? If not, how would you amend your analysis?\n",
    "\n",
    "You can include written notes in notebook cells using Markdown: \n",
    "   - In the control panel at the top, choose Cell > Cell Type > Markdown\n",
    "   - Markdown syntax: http://nestacms.com/docs/creating-content/markdown-cheat-sheet\n",
    "\n",
    "\n",
    "#### Resources\n",
    "+ Experiment information and data source: http://www.povertyactionlab.org/evaluation/discrimination-job-market-united-states\n",
    "+ Scipy statistical methods: http://docs.scipy.org/doc/scipy/reference/stats.html \n",
    "+ Markdown syntax: http://nestacms.com/docs/creating-content/markdown-cheat-sheet\n",
    "+ Formulas for the Bernoulli distribution: https://en.wikipedia.org/wiki/Bernoulli_distribution\n",
    "</div>\n",
    "****"
   ]
  },
  {
   "cell_type": "code",
   "execution_count": 126,
   "metadata": {
    "collapsed": true
   },
   "outputs": [],
   "source": [
    "import pandas as pd\n",
    "import numpy as np\n",
    "from scipy import stats"
   ]
  },
  {
   "cell_type": "code",
   "execution_count": 127,
   "metadata": {
    "collapsed": true,
    "scrolled": true
   },
   "outputs": [],
   "source": [
    "data = pd.io.stata.read_stata(r'C:\\Users\\hhtph\\Documents\\Heather\\Big Data Classes\\Unit8\\us_job_market_discrimination.dta')"
   ]
  },
  {
   "cell_type": "code",
   "execution_count": 128,
   "metadata": {},
   "outputs": [
    {
     "data": {
      "text/html": [
       "<div>\n",
       "<style>\n",
       "    .dataframe thead tr:only-child th {\n",
       "        text-align: right;\n",
       "    }\n",
       "\n",
       "    .dataframe thead th {\n",
       "        text-align: left;\n",
       "    }\n",
       "\n",
       "    .dataframe tbody tr th {\n",
       "        vertical-align: top;\n",
       "    }\n",
       "</style>\n",
       "<table border=\"1\" class=\"dataframe\">\n",
       "  <thead>\n",
       "    <tr style=\"text-align: right;\">\n",
       "      <th></th>\n",
       "      <th>id</th>\n",
       "      <th>ad</th>\n",
       "      <th>education</th>\n",
       "      <th>ofjobs</th>\n",
       "      <th>yearsexp</th>\n",
       "      <th>honors</th>\n",
       "      <th>volunteer</th>\n",
       "      <th>military</th>\n",
       "      <th>empholes</th>\n",
       "      <th>occupspecific</th>\n",
       "      <th>...</th>\n",
       "      <th>compreq</th>\n",
       "      <th>orgreq</th>\n",
       "      <th>manuf</th>\n",
       "      <th>transcom</th>\n",
       "      <th>bankreal</th>\n",
       "      <th>trade</th>\n",
       "      <th>busservice</th>\n",
       "      <th>othservice</th>\n",
       "      <th>missind</th>\n",
       "      <th>ownership</th>\n",
       "    </tr>\n",
       "  </thead>\n",
       "  <tbody>\n",
       "    <tr>\n",
       "      <th>0</th>\n",
       "      <td>b</td>\n",
       "      <td>1</td>\n",
       "      <td>4</td>\n",
       "      <td>2</td>\n",
       "      <td>6</td>\n",
       "      <td>0</td>\n",
       "      <td>0</td>\n",
       "      <td>0</td>\n",
       "      <td>1</td>\n",
       "      <td>17</td>\n",
       "      <td>...</td>\n",
       "      <td>1.0</td>\n",
       "      <td>0.0</td>\n",
       "      <td>1.0</td>\n",
       "      <td>0.0</td>\n",
       "      <td>0.0</td>\n",
       "      <td>0.0</td>\n",
       "      <td>0.0</td>\n",
       "      <td>0.0</td>\n",
       "      <td>0.0</td>\n",
       "      <td></td>\n",
       "    </tr>\n",
       "    <tr>\n",
       "      <th>1</th>\n",
       "      <td>b</td>\n",
       "      <td>1</td>\n",
       "      <td>3</td>\n",
       "      <td>3</td>\n",
       "      <td>6</td>\n",
       "      <td>0</td>\n",
       "      <td>1</td>\n",
       "      <td>1</td>\n",
       "      <td>0</td>\n",
       "      <td>316</td>\n",
       "      <td>...</td>\n",
       "      <td>1.0</td>\n",
       "      <td>0.0</td>\n",
       "      <td>1.0</td>\n",
       "      <td>0.0</td>\n",
       "      <td>0.0</td>\n",
       "      <td>0.0</td>\n",
       "      <td>0.0</td>\n",
       "      <td>0.0</td>\n",
       "      <td>0.0</td>\n",
       "      <td></td>\n",
       "    </tr>\n",
       "    <tr>\n",
       "      <th>2</th>\n",
       "      <td>b</td>\n",
       "      <td>1</td>\n",
       "      <td>4</td>\n",
       "      <td>1</td>\n",
       "      <td>6</td>\n",
       "      <td>0</td>\n",
       "      <td>0</td>\n",
       "      <td>0</td>\n",
       "      <td>0</td>\n",
       "      <td>19</td>\n",
       "      <td>...</td>\n",
       "      <td>1.0</td>\n",
       "      <td>0.0</td>\n",
       "      <td>1.0</td>\n",
       "      <td>0.0</td>\n",
       "      <td>0.0</td>\n",
       "      <td>0.0</td>\n",
       "      <td>0.0</td>\n",
       "      <td>0.0</td>\n",
       "      <td>0.0</td>\n",
       "      <td></td>\n",
       "    </tr>\n",
       "    <tr>\n",
       "      <th>3</th>\n",
       "      <td>b</td>\n",
       "      <td>1</td>\n",
       "      <td>3</td>\n",
       "      <td>4</td>\n",
       "      <td>6</td>\n",
       "      <td>0</td>\n",
       "      <td>1</td>\n",
       "      <td>0</td>\n",
       "      <td>1</td>\n",
       "      <td>313</td>\n",
       "      <td>...</td>\n",
       "      <td>1.0</td>\n",
       "      <td>0.0</td>\n",
       "      <td>1.0</td>\n",
       "      <td>0.0</td>\n",
       "      <td>0.0</td>\n",
       "      <td>0.0</td>\n",
       "      <td>0.0</td>\n",
       "      <td>0.0</td>\n",
       "      <td>0.0</td>\n",
       "      <td></td>\n",
       "    </tr>\n",
       "    <tr>\n",
       "      <th>4</th>\n",
       "      <td>b</td>\n",
       "      <td>1</td>\n",
       "      <td>3</td>\n",
       "      <td>3</td>\n",
       "      <td>22</td>\n",
       "      <td>0</td>\n",
       "      <td>0</td>\n",
       "      <td>0</td>\n",
       "      <td>0</td>\n",
       "      <td>313</td>\n",
       "      <td>...</td>\n",
       "      <td>1.0</td>\n",
       "      <td>1.0</td>\n",
       "      <td>0.0</td>\n",
       "      <td>0.0</td>\n",
       "      <td>0.0</td>\n",
       "      <td>0.0</td>\n",
       "      <td>0.0</td>\n",
       "      <td>1.0</td>\n",
       "      <td>0.0</td>\n",
       "      <td>Nonprofit</td>\n",
       "    </tr>\n",
       "  </tbody>\n",
       "</table>\n",
       "<p>5 rows × 65 columns</p>\n",
       "</div>"
      ],
      "text/plain": [
       "  id ad  education  ofjobs  yearsexp  honors  volunteer  military  empholes  \\\n",
       "0  b  1          4       2         6       0          0         0         1   \n",
       "1  b  1          3       3         6       0          1         1         0   \n",
       "2  b  1          4       1         6       0          0         0         0   \n",
       "3  b  1          3       4         6       0          1         0         1   \n",
       "4  b  1          3       3        22       0          0         0         0   \n",
       "\n",
       "   occupspecific    ...      compreq  orgreq  manuf  transcom  bankreal trade  \\\n",
       "0             17    ...          1.0     0.0    1.0       0.0       0.0   0.0   \n",
       "1            316    ...          1.0     0.0    1.0       0.0       0.0   0.0   \n",
       "2             19    ...          1.0     0.0    1.0       0.0       0.0   0.0   \n",
       "3            313    ...          1.0     0.0    1.0       0.0       0.0   0.0   \n",
       "4            313    ...          1.0     1.0    0.0       0.0       0.0   0.0   \n",
       "\n",
       "  busservice othservice  missind  ownership  \n",
       "0        0.0        0.0      0.0             \n",
       "1        0.0        0.0      0.0             \n",
       "2        0.0        0.0      0.0             \n",
       "3        0.0        0.0      0.0             \n",
       "4        0.0        1.0      0.0  Nonprofit  \n",
       "\n",
       "[5 rows x 65 columns]"
      ]
     },
     "execution_count": 128,
     "metadata": {},
     "output_type": "execute_result"
    }
   ],
   "source": [
    "data.head()"
   ]
  },
  {
   "cell_type": "code",
   "execution_count": 129,
   "metadata": {},
   "outputs": [
    {
     "data": {
      "text/plain": [
       "<bound method DataFrame.count of      id   ad  education  ofjobs  yearsexp  honors  volunteer  military  \\\n",
       "0     b    1          4       2         6       0          0         0   \n",
       "1     b    1          3       3         6       0          1         1   \n",
       "2     b    1          4       1         6       0          0         0   \n",
       "3     b    1          3       4         6       0          1         0   \n",
       "4     b    1          3       3        22       0          0         0   \n",
       "5     b    1          4       2         6       1          0         0   \n",
       "6     b    1          4       2         5       0          1         0   \n",
       "7     b    1          3       4        21       0          1         0   \n",
       "8     b    1          4       3         3       0          0         0   \n",
       "9     b    1          4       2         6       0          1         0   \n",
       "10    b    1          4       4         8       0          1         0   \n",
       "11    b    1          4       4         8       0          0         0   \n",
       "12    b    1          4       4         4       0          0         0   \n",
       "13    b    1          4       2         4       0          0         0   \n",
       "14    b    1          4       2         5       0          1         0   \n",
       "15    b    1          1       3         4       0          0         0   \n",
       "16    b    1          4       3         5       0          1         0   \n",
       "17    b    1          4       3         6       0          0         0   \n",
       "18    b    1          4       2         6       1          1         0   \n",
       "19    b    1          2       2         8       0          0         0   \n",
       "20    b    1          4       3         4       0          1         0   \n",
       "21    b    1          4       3         3       0          0         0   \n",
       "22    b    1          2       2         2       0          0         0   \n",
       "23    b    1          4       3         7       0          0         0   \n",
       "24    b    1          4       3         3       0          1         0   \n",
       "25    b    1          4       4         6       0          0         0   \n",
       "26    b    1          1       3         4       0          1         0   \n",
       "27    b    1          3       4         6       0          1         0   \n",
       "28    b    1          3       3         7       0          0         0   \n",
       "29    b    1          4       3         2       0          0         0   \n",
       "...  ..  ...        ...     ...       ...     ...        ...       ...   \n",
       "4840  a  93b          4       3         7       0          0         0   \n",
       "4841  a  93b          4       6         8       0          1         0   \n",
       "4842  b   95          3       6        16       0          1         0   \n",
       "4843  b   95          4       4        11       0          0         0   \n",
       "4844  b   95          3       2         2       0          0         0   \n",
       "4845  b   95          4       1         5       0          1         0   \n",
       "4846  a  95b          4       4         2       0          1         1   \n",
       "4847  a  95b          4       3         7       0          0         0   \n",
       "4848  a  95b          4       6         8       0          1         0   \n",
       "4849  a  95b          4       4         6       0          0         0   \n",
       "4850  b   96          3       5         4       0          0         0   \n",
       "4851  b   96          2       4        19       0          1         0   \n",
       "4852  b   96          3       5        13       0          0         0   \n",
       "4853  b   96          3       7        18       0          1         0   \n",
       "4854  a  96b          4       6         8       0          1         0   \n",
       "4855  a  96b          4       3         7       0          0         0   \n",
       "4856  a  96b          4       4         6       0          0         0   \n",
       "4857  a  96b          4       4         2       0          1         1   \n",
       "4858  a  98b          4       4         2       0          1         1   \n",
       "4859  a  98b          4       4         6       0          0         0   \n",
       "4860  a  98b          4       6         8       0          1         0   \n",
       "4861  a  98b          4       3         7       0          0         0   \n",
       "4862  b   99          3       5        13       0          0         0   \n",
       "4863  b   99          2       4        16       0          0         0   \n",
       "4864  b   99          3       5        26       1          1         0   \n",
       "4865  b   99          3       2         1       0          0         0   \n",
       "4866  a  99b          4       4         6       0          0         0   \n",
       "4867  a  99b          4       6         8       0          1         0   \n",
       "4868  a  99b          4       4         2       0          1         1   \n",
       "4869  a  99b          4       3         7       0          0         0   \n",
       "\n",
       "      empholes  occupspecific    ...      compreq  orgreq  manuf  transcom  \\\n",
       "0            1             17    ...          1.0     0.0    1.0       0.0   \n",
       "1            0            316    ...          1.0     0.0    1.0       0.0   \n",
       "2            0             19    ...          1.0     0.0    1.0       0.0   \n",
       "3            1            313    ...          1.0     0.0    1.0       0.0   \n",
       "4            0            313    ...          1.0     1.0    0.0       0.0   \n",
       "5            0            266    ...          0.0     0.0    0.0       0.0   \n",
       "6            0             13    ...          0.0     0.0    0.0       0.0   \n",
       "7            1            313    ...          1.0     1.0    0.0       0.0   \n",
       "8            0            316    ...          0.0     0.0    0.0       0.0   \n",
       "9            0            263    ...          0.0     0.0    0.0       0.0   \n",
       "10           1            379    ...          1.0     0.0    0.0       0.0   \n",
       "11           0            316    ...          1.0     0.0    0.0       0.0   \n",
       "12           1             27    ...          1.0     1.0    0.0       0.0   \n",
       "13           0             21    ...          1.0     1.0    0.0       0.0   \n",
       "14           0            263    ...          0.0     0.0    0.0       0.0   \n",
       "15           0            316    ...          0.0     0.0    0.0       0.0   \n",
       "16           0            268    ...          0.0     0.0    0.0       0.0   \n",
       "17           0            267    ...          0.0     0.0    0.0       0.0   \n",
       "18           0            266    ...          0.0     0.0    0.0       0.0   \n",
       "19           1            265    ...          0.0     0.0    0.0       0.0   \n",
       "20           0            316    ...          0.0     0.0    0.0       0.0   \n",
       "21           0            317    ...          0.0     0.0    0.0       0.0   \n",
       "22           0            265    ...          0.0     0.0    0.0       0.0   \n",
       "23           1            313    ...          1.0     0.0    0.0       0.0   \n",
       "24           0            316    ...          0.0     0.0    0.0       0.0   \n",
       "25           1            313    ...          1.0     0.0    0.0       0.0   \n",
       "26           0            316    ...          0.0     0.0    0.0       0.0   \n",
       "27           1            313    ...          1.0     0.0    0.0       0.0   \n",
       "28           0            313    ...          1.0     0.0    0.0       0.0   \n",
       "29           0            317    ...          0.0     0.0    0.0       0.0   \n",
       "...        ...            ...    ...          ...     ...    ...       ...   \n",
       "4840         1            274    ...          0.0     0.0    0.0       0.0   \n",
       "4841         0             21    ...          0.0     0.0    0.0       0.0   \n",
       "4842         0             21    ...          1.0     0.0    0.0       0.0   \n",
       "4843         0            387    ...          1.0     0.0    0.0       0.0   \n",
       "4844         1            379    ...          1.0     0.0    0.0       0.0   \n",
       "4845         0            379    ...          1.0     0.0    0.0       0.0   \n",
       "4846         0            267    ...          0.0     0.0    0.0       0.0   \n",
       "4847         1            274    ...          0.0     0.0    0.0       0.0   \n",
       "4848         0             21    ...          0.0     0.0    0.0       0.0   \n",
       "4849         0            285    ...          0.0     0.0    0.0       0.0   \n",
       "4850         1            443    ...          0.0     0.0    0.0       0.0   \n",
       "4851         0             22    ...          0.0     0.0    0.0       0.0   \n",
       "4852         1            307    ...          0.0     0.0    0.0       0.0   \n",
       "4853         1            304    ...          0.0     0.0    0.0       0.0   \n",
       "4854         0             21    ...          0.0     0.0    0.0       0.0   \n",
       "4855         1            274    ...          0.0     0.0    0.0       0.0   \n",
       "4856         0            285    ...          0.0     0.0    0.0       0.0   \n",
       "4857         0            267    ...          0.0     0.0    0.0       0.0   \n",
       "4858         0            267    ...          0.0     0.0    0.0       0.0   \n",
       "4859         0            285    ...          0.0     0.0    0.0       0.0   \n",
       "4860         0             21    ...          0.0     0.0    0.0       0.0   \n",
       "4861         1            274    ...          0.0     0.0    0.0       0.0   \n",
       "4862         0             27    ...          1.0     0.0    0.0       0.0   \n",
       "4863         1             27    ...          1.0     0.0    0.0       0.0   \n",
       "4864         1            313    ...          1.0     0.0    0.0       0.0   \n",
       "4865         1            313    ...          1.0     0.0    0.0       0.0   \n",
       "4866         0            285    ...          0.0     0.0    0.0       0.0   \n",
       "4867         0             21    ...          0.0     0.0    0.0       0.0   \n",
       "4868         0            267    ...          0.0     0.0    0.0       0.0   \n",
       "4869         1            274    ...          0.0     0.0    0.0       0.0   \n",
       "\n",
       "      bankreal trade busservice othservice  missind  ownership  \n",
       "0          0.0   0.0        0.0        0.0      0.0             \n",
       "1          0.0   0.0        0.0        0.0      0.0             \n",
       "2          0.0   0.0        0.0        0.0      0.0             \n",
       "3          0.0   0.0        0.0        0.0      0.0             \n",
       "4          0.0   0.0        0.0        1.0      0.0  Nonprofit  \n",
       "5          0.0   1.0        0.0        0.0      0.0    Private  \n",
       "6          0.0   1.0        0.0        0.0      0.0    Private  \n",
       "7          0.0   0.0        0.0        1.0      0.0  Nonprofit  \n",
       "8          0.0   1.0        0.0        0.0      0.0    Private  \n",
       "9          0.0   1.0        0.0        0.0      0.0    Private  \n",
       "10         0.0   0.0        0.0        1.0      0.0  Nonprofit  \n",
       "11         0.0   0.0        0.0        1.0      0.0  Nonprofit  \n",
       "12         0.0   0.0        1.0        0.0      0.0    Private  \n",
       "13         0.0   0.0        1.0        0.0      0.0    Private  \n",
       "14         0.0   1.0        0.0        0.0      0.0             \n",
       "15         0.0   1.0        0.0        0.0      0.0             \n",
       "16         0.0   1.0        0.0        0.0      0.0             \n",
       "17         0.0   1.0        0.0        0.0      0.0             \n",
       "18         0.0   1.0        0.0        0.0      0.0    Private  \n",
       "19         0.0   1.0        0.0        0.0      0.0    Private  \n",
       "20         0.0   1.0        0.0        0.0      0.0    Private  \n",
       "21         0.0   1.0        0.0        0.0      0.0    Private  \n",
       "22         0.0   1.0        0.0        0.0      0.0             \n",
       "23         0.0   0.0        0.0        1.0      0.0  Nonprofit  \n",
       "24         0.0   1.0        0.0        0.0      0.0             \n",
       "25         0.0   0.0        0.0        1.0      0.0  Nonprofit  \n",
       "26         0.0   1.0        0.0        0.0      0.0             \n",
       "27         0.0   0.0        0.0        1.0      0.0  Nonprofit  \n",
       "28         0.0   0.0        0.0        1.0      0.0  Nonprofit  \n",
       "29         0.0   1.0        0.0        0.0      0.0             \n",
       "...        ...   ...        ...        ...      ...        ...  \n",
       "4840       0.0   1.0        0.0        0.0      0.0    Private  \n",
       "4841       0.0   1.0        0.0        0.0      0.0    Private  \n",
       "4842       0.0   0.0        1.0        0.0      0.0     Public  \n",
       "4843       0.0   0.0        1.0        0.0      0.0     Public  \n",
       "4844       0.0   0.0        1.0        0.0      0.0     Public  \n",
       "4845       0.0   0.0        1.0        0.0      0.0     Public  \n",
       "4846       0.0   1.0        0.0        0.0      0.0    Private  \n",
       "4847       0.0   1.0        0.0        0.0      0.0    Private  \n",
       "4848       0.0   1.0        0.0        0.0      0.0    Private  \n",
       "4849       0.0   1.0        0.0        0.0      0.0    Private  \n",
       "4850       0.0   0.0        1.0        0.0      0.0    Private  \n",
       "4851       0.0   0.0        1.0        0.0      0.0    Private  \n",
       "4852       0.0   0.0        1.0        0.0      0.0    Private  \n",
       "4853       0.0   0.0        1.0        0.0      0.0    Private  \n",
       "4854       0.0   0.0        0.0        0.0      1.0             \n",
       "4855       0.0   0.0        0.0        0.0      1.0             \n",
       "4856       0.0   0.0        0.0        0.0      1.0             \n",
       "4857       0.0   0.0        0.0        0.0      1.0             \n",
       "4858       0.0   1.0        0.0        0.0      0.0    Private  \n",
       "4859       0.0   1.0        0.0        0.0      0.0    Private  \n",
       "4860       0.0   1.0        0.0        0.0      0.0    Private  \n",
       "4861       0.0   1.0        0.0        0.0      0.0    Private  \n",
       "4862       1.0   0.0        0.0        0.0      0.0    Private  \n",
       "4863       1.0   0.0        0.0        0.0      0.0    Private  \n",
       "4864       1.0   0.0        0.0        0.0      0.0    Private  \n",
       "4865       1.0   0.0        0.0        0.0      0.0    Private  \n",
       "4866       0.0   0.0        0.0        0.0      1.0             \n",
       "4867       0.0   0.0        0.0        0.0      1.0             \n",
       "4868       0.0   0.0        0.0        0.0      1.0             \n",
       "4869       0.0   0.0        0.0        0.0      1.0             \n",
       "\n",
       "[4870 rows x 65 columns]>"
      ]
     },
     "execution_count": 129,
     "metadata": {},
     "output_type": "execute_result"
    }
   ],
   "source": [
    "data.count"
   ]
  },
  {
   "cell_type": "code",
   "execution_count": 130,
   "metadata": {},
   "outputs": [
    {
     "data": {
      "text/plain": [
       "235.0"
      ]
     },
     "execution_count": 130,
     "metadata": {},
     "output_type": "execute_result"
    }
   ],
   "source": [
    "# number of callbacks for black-sounding names\n",
    "sum(data[data.race=='w'].call)"
   ]
  },
  {
   "cell_type": "code",
   "execution_count": 131,
   "metadata": {},
   "outputs": [
    {
     "data": {
      "text/plain": [
       "['id',\n",
       " 'ad',\n",
       " 'education',\n",
       " 'ofjobs',\n",
       " 'yearsexp',\n",
       " 'honors',\n",
       " 'volunteer',\n",
       " 'military',\n",
       " 'empholes',\n",
       " 'occupspecific',\n",
       " 'occupbroad',\n",
       " 'workinschool',\n",
       " 'email',\n",
       " 'computerskills',\n",
       " 'specialskills',\n",
       " 'firstname',\n",
       " 'sex',\n",
       " 'race',\n",
       " 'h',\n",
       " 'l',\n",
       " 'call',\n",
       " 'city',\n",
       " 'kind',\n",
       " 'adid',\n",
       " 'fracblack',\n",
       " 'fracwhite',\n",
       " 'lmedhhinc',\n",
       " 'fracdropout',\n",
       " 'fraccolp',\n",
       " 'linc',\n",
       " 'col',\n",
       " 'expminreq',\n",
       " 'schoolreq',\n",
       " 'eoe',\n",
       " 'parent_sales',\n",
       " 'parent_emp',\n",
       " 'branch_sales',\n",
       " 'branch_emp',\n",
       " 'fed',\n",
       " 'fracblack_empzip',\n",
       " 'fracwhite_empzip',\n",
       " 'lmedhhinc_empzip',\n",
       " 'fracdropout_empzip',\n",
       " 'fraccolp_empzip',\n",
       " 'linc_empzip',\n",
       " 'manager',\n",
       " 'supervisor',\n",
       " 'secretary',\n",
       " 'offsupport',\n",
       " 'salesrep',\n",
       " 'retailsales',\n",
       " 'req',\n",
       " 'expreq',\n",
       " 'comreq',\n",
       " 'educreq',\n",
       " 'compreq',\n",
       " 'orgreq',\n",
       " 'manuf',\n",
       " 'transcom',\n",
       " 'bankreal',\n",
       " 'trade',\n",
       " 'busservice',\n",
       " 'othservice',\n",
       " 'missind',\n",
       " 'ownership']"
      ]
     },
     "execution_count": 131,
     "metadata": {},
     "output_type": "execute_result"
    }
   ],
   "source": [
    "list(data.columns.values)"
   ]
  },
  {
   "cell_type": "code",
   "execution_count": 132,
   "metadata": {},
   "outputs": [
    {
     "data": {
      "text/plain": [
       "id                     object\n",
       "ad                     object\n",
       "education                int8\n",
       "ofjobs                   int8\n",
       "yearsexp                 int8\n",
       "honors                   int8\n",
       "volunteer                int8\n",
       "military                 int8\n",
       "empholes                 int8\n",
       "occupspecific           int16\n",
       "occupbroad               int8\n",
       "workinschool             int8\n",
       "email                    int8\n",
       "computerskills           int8\n",
       "specialskills            int8\n",
       "firstname              object\n",
       "sex                    object\n",
       "race                   object\n",
       "h                     float32\n",
       "l                     float32\n",
       "call                  float32\n",
       "city                   object\n",
       "kind                   object\n",
       "adid                  float32\n",
       "fracblack             float32\n",
       "fracwhite             float32\n",
       "lmedhhinc             float32\n",
       "fracdropout           float32\n",
       "fraccolp              float32\n",
       "linc                  float32\n",
       "                       ...   \n",
       "parent_emp            float32\n",
       "branch_sales          float32\n",
       "branch_emp            float32\n",
       "fed                   float32\n",
       "fracblack_empzip      float32\n",
       "fracwhite_empzip      float32\n",
       "lmedhhinc_empzip      float32\n",
       "fracdropout_empzip    float32\n",
       "fraccolp_empzip       float32\n",
       "linc_empzip           float32\n",
       "manager               float32\n",
       "supervisor            float32\n",
       "secretary             float32\n",
       "offsupport            float32\n",
       "salesrep              float32\n",
       "retailsales           float32\n",
       "req                   float32\n",
       "expreq                float32\n",
       "comreq                float32\n",
       "educreq               float32\n",
       "compreq               float32\n",
       "orgreq                float32\n",
       "manuf                 float32\n",
       "transcom              float32\n",
       "bankreal              float32\n",
       "trade                 float32\n",
       "busservice            float32\n",
       "othservice            float32\n",
       "missind               float32\n",
       "ownership              object\n",
       "Length: 65, dtype: object"
      ]
     },
     "execution_count": 132,
     "metadata": {},
     "output_type": "execute_result"
    }
   ],
   "source": [
    "data.dtypes"
   ]
  },
  {
   "cell_type": "markdown",
   "metadata": {
    "collapsed": true
   },
   "source": [
    " The z test should be applied here\n",
    " Ho = number of black sounding names and white sounding names that were called back are the same\n",
    " Ha = the number of black sounding names and white sounding names that were called back are not \n",
    " the same\n",
    "\n",
    " The central limit theorme (CTL) applies because the sample size is large and the sample was chosen\n",
    " randomly"
   ]
  },
  {
   "cell_type": "code",
   "execution_count": 133,
   "metadata": {
    "collapsed": true
   },
   "outputs": [],
   "source": [
    "b_call = np.sum(data[data.race=='b'].call)"
   ]
  },
  {
   "cell_type": "code",
   "execution_count": 134,
   "metadata": {},
   "outputs": [
    {
     "name": "stdout",
     "output_type": "stream",
     "text": [
      "157.0\n"
     ]
    }
   ],
   "source": [
    "print(b_call)"
   ]
  },
  {
   "cell_type": "code",
   "execution_count": 135,
   "metadata": {
    "collapsed": true
   },
   "outputs": [],
   "source": [
    "sum_b = np.sum(data.race=='b')"
   ]
  },
  {
   "cell_type": "code",
   "execution_count": 136,
   "metadata": {},
   "outputs": [
    {
     "name": "stdout",
     "output_type": "stream",
     "text": [
      "2435\n"
     ]
    }
   ],
   "source": [
    "print(sum_b)"
   ]
  },
  {
   "cell_type": "code",
   "execution_count": 137,
   "metadata": {
    "collapsed": true
   },
   "outputs": [],
   "source": [
    "w_call = np.sum(data[data.race=='w'].call)"
   ]
  },
  {
   "cell_type": "code",
   "execution_count": 138,
   "metadata": {},
   "outputs": [
    {
     "name": "stdout",
     "output_type": "stream",
     "text": [
      "235.0\n"
     ]
    }
   ],
   "source": [
    "print(w_call)"
   ]
  },
  {
   "cell_type": "code",
   "execution_count": 139,
   "metadata": {
    "collapsed": true
   },
   "outputs": [],
   "source": [
    "sum_w=sum(data.race=='w')"
   ]
  },
  {
   "cell_type": "code",
   "execution_count": 140,
   "metadata": {},
   "outputs": [
    {
     "name": "stdout",
     "output_type": "stream",
     "text": [
      "2435\n"
     ]
    }
   ],
   "source": [
    "print(sum_w)"
   ]
  },
  {
   "cell_type": "markdown",
   "metadata": {
    "collapsed": true
   },
   "source": [
    " Compute the z statistic"
   ]
  },
  {
   "cell_type": "code",
   "execution_count": 141,
   "metadata": {
    "collapsed": true
   },
   "outputs": [],
   "source": [
    "z_top = (w_call/sum_w) - (b_call/sum_b)"
   ]
  },
  {
   "cell_type": "code",
   "execution_count": 142,
   "metadata": {},
   "outputs": [
    {
     "name": "stdout",
     "output_type": "stream",
     "text": [
      "0.0320328542094\n"
     ]
    }
   ],
   "source": [
    "print(z_top)"
   ]
  },
  {
   "cell_type": "code",
   "execution_count": 143,
   "metadata": {
    "collapsed": true
   },
   "outputs": [],
   "source": [
    "z_bottom_1 = (w_call + b_call)/(sum_w + sum_b)"
   ]
  },
  {
   "cell_type": "code",
   "execution_count": 144,
   "metadata": {},
   "outputs": [
    {
     "name": "stdout",
     "output_type": "stream",
     "text": [
      "0.0804928131417\n"
     ]
    }
   ],
   "source": [
    "print(z_bottom_1)"
   ]
  },
  {
   "cell_type": "code",
   "execution_count": 145,
   "metadata": {
    "collapsed": true
   },
   "outputs": [],
   "source": [
    "z_bottom_2 = 1 - ((w_call + b_call)/(sum_w + sum_b))"
   ]
  },
  {
   "cell_type": "code",
   "execution_count": 146,
   "metadata": {},
   "outputs": [
    {
     "name": "stdout",
     "output_type": "stream",
     "text": [
      "0.919507186858\n"
     ]
    }
   ],
   "source": [
    "print(z_bottom_2)"
   ]
  },
  {
   "cell_type": "code",
   "execution_count": 147,
   "metadata": {
    "collapsed": true
   },
   "outputs": [],
   "source": [
    "z_bottom_3 = (1/sum_w)+(1/sum_b)"
   ]
  },
  {
   "cell_type": "code",
   "execution_count": 148,
   "metadata": {},
   "outputs": [
    {
     "name": "stdout",
     "output_type": "stream",
     "text": [
      "0.00082135523614\n"
     ]
    }
   ],
   "source": [
    "print(z_bottom_3)"
   ]
  },
  {
   "cell_type": "code",
   "execution_count": 149,
   "metadata": {
    "collapsed": true
   },
   "outputs": [],
   "source": [
    "z_bottom = np.sqrt(z_bottom_1 * z_bottom_2 * z_bottom_3)"
   ]
  },
  {
   "cell_type": "code",
   "execution_count": 150,
   "metadata": {
    "collapsed": true
   },
   "outputs": [],
   "source": [
    "z = z_top/z_bottom"
   ]
  },
  {
   "cell_type": "code",
   "execution_count": 151,
   "metadata": {},
   "outputs": [
    {
     "name": "stdout",
     "output_type": "stream",
     "text": [
      "4.10841215243\n"
     ]
    }
   ],
   "source": [
    "# Compute the z statistic\n",
    "print(z)"
   ]
  },
  {
   "cell_type": "code",
   "execution_count": 152,
   "metadata": {},
   "outputs": [
    {
     "name": "stdout",
     "output_type": "stream",
     "text": [
      "3.98388683759e-05\n"
     ]
    }
   ],
   "source": [
    "# Compute the p value\n",
    "from scipy import stats\n",
    "p = stats.norm.cdf(-z)*2\n",
    "print(p)"
   ]
  },
  {
   "cell_type": "markdown",
   "metadata": {
    "collapsed": true
   },
   "source": [
    " Conclusion\n",
    "\n",
    " The data set for this exercise consists of 4870 rows and 65 columns. Each row represents an\n",
    " individual's resume and the columns are the atributes of the individual such as education attained, \n",
    " computer skills, race, sex, etc. The question posed for this exercise is, 'Are individuals with\n",
    " black sounding names called back for an interview at the same rate as individuals with white \n",
    " sounding names. A z-test was utilized with the null hypothesis being that the number of people with \n",
    " black sounding last names were called back for an interview at the same rate as the number of people \n",
    " with white sounding last names. The alternative hypothesis was that the call back rate was not the\n",
    " same. The result of the z test was 4.1. At a 95% confidence level the null hypothesis is rejected if \n",
    " it is greater than 1.96 or smaller than -1.96. Our null hypothesis was therefore rejected and we\n",
    " conclude that people with black sounding names do not get called back for an interview at the same\n",
    " rate of people with white sounding names.\n",
    "\n",
    " Call back success\n",
    " \n",
    " I don't believe that race alone is the most important factor in call back success. The call back \n",
    " success is also influenced by the individuals other attributes including education and experience.\n",
    " If the result of the analysis was the same for individuals normalized for education or experience,\n",
    " or computer skills, then the conclusion that race is the most important factor in call back success\n",
    " would have a stronger basis for this claim."
   ]
  },
  {
   "cell_type": "code",
   "execution_count": null,
   "metadata": {
    "collapsed": true
   },
   "outputs": [],
   "source": []
  }
 ],
 "metadata": {
  "kernelspec": {
   "display_name": "Python 3",
   "language": "python",
   "name": "python3"
  },
  "language_info": {
   "codemirror_mode": {
    "name": "ipython",
    "version": 3
   },
   "file_extension": ".py",
   "mimetype": "text/x-python",
   "name": "python",
   "nbconvert_exporter": "python",
   "pygments_lexer": "ipython3",
   "version": "3.6.3"
  }
 },
 "nbformat": 4,
 "nbformat_minor": 1
}
