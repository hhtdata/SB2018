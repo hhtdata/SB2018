{
 "cells": [
  {
   "cell_type": "markdown",
   "metadata": {},
   "source": [
    "# Basic Text Classification with Naive Bayes\n",
    "***\n",
    "In the mini-project, you'll learn the basics of text analysis using a subset of movie reviews from the rotten tomatoes database. You'll also use a fundamental technique in Bayesian inference, called Naive Bayes. This mini-project is based on [Lab 10 of Harvard's CS109](https://github.com/cs109/2015lab10) class.  Please free to go to the original lab for additional exercises and solutions."
   ]
  },
  {
   "cell_type": "code",
   "execution_count": 1,
   "metadata": {
    "collapsed": true
   },
   "outputs": [],
   "source": [
    "%matplotlib inline\n",
    "import numpy as np\n",
    "import scipy as sp\n",
    "import matplotlib as mpl\n",
    "import matplotlib.cm as cm\n",
    "import matplotlib.pyplot as plt\n",
    "import pandas as pd\n",
    "import seaborn as sns\n",
    "from six.moves import range\n",
    "\n",
    "# Setup Pandas\n",
    "pd.set_option('display.width', 500)\n",
    "pd.set_option('display.max_columns', 100)\n",
    "pd.set_option('display.notebook_repr_html', True)\n",
    "\n",
    "# Setup Seaborn\n",
    "sns.set_style(\"whitegrid\")\n",
    "sns.set_context(\"poster\")"
   ]
  },
  {
   "cell_type": "markdown",
   "metadata": {},
   "source": [
    "# Table of Contents\n",
    "\n",
    "* [Rotten Tomatoes Dataset](#Rotten-Tomatoes-Dataset)\n",
    "    * [Explore](#Explore)\n",
    "* [The Vector Space Model and a Search Engine](#The-Vector-Space-Model-and-a-Search-Engine)\n",
    "    * [In Code](#In-Code)\n",
    "* [Naive Bayes](#Naive-Bayes)\n",
    "    * [Multinomial Naive Bayes and Other Likelihood Functions](#Multinomial-Naive-Bayes-and-Other-Likelihood-Functions)\n",
    "    * [Picking Hyperparameters for Naive Bayes and Text Maintenance](#Picking-Hyperparameters-for-Naive-Bayes-and-Text-Maintenance)\n",
    "* [Interpretation](#Interpretation)\n"
   ]
  },
  {
   "cell_type": "markdown",
   "metadata": {},
   "source": [
    "## Rotten Tomatoes Dataset"
   ]
  },
  {
   "cell_type": "code",
   "execution_count": 2,
   "metadata": {},
   "outputs": [
    {
     "data": {
      "text/html": [
       "<div>\n",
       "<style>\n",
       "    .dataframe thead tr:only-child th {\n",
       "        text-align: right;\n",
       "    }\n",
       "\n",
       "    .dataframe thead th {\n",
       "        text-align: left;\n",
       "    }\n",
       "\n",
       "    .dataframe tbody tr th {\n",
       "        vertical-align: top;\n",
       "    }\n",
       "</style>\n",
       "<table border=\"1\" class=\"dataframe\">\n",
       "  <thead>\n",
       "    <tr style=\"text-align: right;\">\n",
       "      <th></th>\n",
       "      <th>critic</th>\n",
       "      <th>fresh</th>\n",
       "      <th>imdb</th>\n",
       "      <th>publication</th>\n",
       "      <th>quote</th>\n",
       "      <th>review_date</th>\n",
       "      <th>rtid</th>\n",
       "      <th>title</th>\n",
       "    </tr>\n",
       "  </thead>\n",
       "  <tbody>\n",
       "    <tr>\n",
       "      <th>1</th>\n",
       "      <td>Derek Adams</td>\n",
       "      <td>fresh</td>\n",
       "      <td>114709</td>\n",
       "      <td>Time Out</td>\n",
       "      <td>So ingenious in concept, design and execution ...</td>\n",
       "      <td>2009-10-04</td>\n",
       "      <td>9559</td>\n",
       "      <td>Toy story</td>\n",
       "    </tr>\n",
       "    <tr>\n",
       "      <th>2</th>\n",
       "      <td>Richard Corliss</td>\n",
       "      <td>fresh</td>\n",
       "      <td>114709</td>\n",
       "      <td>TIME Magazine</td>\n",
       "      <td>The year's most inventive comedy.</td>\n",
       "      <td>2008-08-31</td>\n",
       "      <td>9559</td>\n",
       "      <td>Toy story</td>\n",
       "    </tr>\n",
       "    <tr>\n",
       "      <th>3</th>\n",
       "      <td>David Ansen</td>\n",
       "      <td>fresh</td>\n",
       "      <td>114709</td>\n",
       "      <td>Newsweek</td>\n",
       "      <td>A winning animated feature that has something ...</td>\n",
       "      <td>2008-08-18</td>\n",
       "      <td>9559</td>\n",
       "      <td>Toy story</td>\n",
       "    </tr>\n",
       "    <tr>\n",
       "      <th>4</th>\n",
       "      <td>Leonard Klady</td>\n",
       "      <td>fresh</td>\n",
       "      <td>114709</td>\n",
       "      <td>Variety</td>\n",
       "      <td>The film sports a provocative and appealing st...</td>\n",
       "      <td>2008-06-09</td>\n",
       "      <td>9559</td>\n",
       "      <td>Toy story</td>\n",
       "    </tr>\n",
       "    <tr>\n",
       "      <th>5</th>\n",
       "      <td>Jonathan Rosenbaum</td>\n",
       "      <td>fresh</td>\n",
       "      <td>114709</td>\n",
       "      <td>Chicago Reader</td>\n",
       "      <td>An entertaining computer-generated, hyperreali...</td>\n",
       "      <td>2008-03-10</td>\n",
       "      <td>9559</td>\n",
       "      <td>Toy story</td>\n",
       "    </tr>\n",
       "  </tbody>\n",
       "</table>\n",
       "</div>"
      ],
      "text/plain": [
       "               critic  fresh    imdb     publication                                              quote review_date  rtid      title\n",
       "1         Derek Adams  fresh  114709        Time Out  So ingenious in concept, design and execution ...  2009-10-04  9559  Toy story\n",
       "2     Richard Corliss  fresh  114709   TIME Magazine                  The year's most inventive comedy.  2008-08-31  9559  Toy story\n",
       "3         David Ansen  fresh  114709        Newsweek  A winning animated feature that has something ...  2008-08-18  9559  Toy story\n",
       "4       Leonard Klady  fresh  114709         Variety  The film sports a provocative and appealing st...  2008-06-09  9559  Toy story\n",
       "5  Jonathan Rosenbaum  fresh  114709  Chicago Reader  An entertaining computer-generated, hyperreali...  2008-03-10  9559  Toy story"
      ]
     },
     "execution_count": 2,
     "metadata": {},
     "output_type": "execute_result"
    }
   ],
   "source": [
    "critics = pd.read_csv('./critics.csv')\n",
    "#let's drop rows with missing quotes\n",
    "critics = critics[~critics.quote.isnull()]\n",
    "critics.head()"
   ]
  },
  {
   "cell_type": "markdown",
   "metadata": {},
   "source": [
    "### Explore"
   ]
  },
  {
   "cell_type": "code",
   "execution_count": 3,
   "metadata": {},
   "outputs": [
    {
     "name": "stdout",
     "output_type": "stream",
     "text": [
      "Number of reviews: 15561\n",
      "Number of critics: 623\n",
      "Number of movies:  1921\n"
     ]
    }
   ],
   "source": [
    "n_reviews = len(critics)\n",
    "n_movies = critics.rtid.unique().size\n",
    "n_critics = critics.critic.unique().size\n",
    "\n",
    "\n",
    "print(\"Number of reviews: {:d}\".format(n_reviews))\n",
    "print(\"Number of critics: {:d}\".format(n_critics))\n",
    "print(\"Number of movies:  {:d}\".format(n_movies))"
   ]
  },
  {
   "cell_type": "code",
   "execution_count": 4,
   "metadata": {},
   "outputs": [
    {
     "data": {
      "image/png": "[encoded data removed]",
      "text/plain": [
       "<matplotlib.figure.Figure at 0x212c3d02ef0>"
      ]
     },
     "metadata": {},
     "output_type": "display_data"
    }
   ],
   "source": [
    "df = critics.copy()\n",
    "df['fresh'] = df.fresh == 'fresh'\n",
    "grp = df.groupby('critic')\n",
    "counts = grp.critic.count()  # number of reviews by each critic\n",
    "means = grp.fresh.mean()     # average freshness for each critic\n",
    "\n",
    "means[counts > 100].hist(bins=10, edgecolor='w', lw=1)\n",
    "plt.xlabel(\"Average Rating per critic\")\n",
    "plt.ylabel(\"Number of Critics\")\n",
    "plt.yticks([0, 2, 4, 6, 8, 10]);"
   ]
  },
  {
   "cell_type": "markdown",
   "metadata": {},
   "source": [
    "<div class=\"span5 alert alert-info\">\n",
    "<h3>Exercise Set I</h3>\n",
    "<br/>\n",
    "<b>Exercise:</b> Look at the histogram above. Tell a story about the average ratings per critic. What shape does the distribution look like? What is interesting about the distribution? What might explain these interesting things?\n",
    "</div>"
   ]
  },
  {
   "cell_type": "markdown",
   "metadata": {},
   "source": [
    "### Answer\n",
    "\n",
    "The histogram shows that the average movie rating of 0.6 to 0.7 are the most frequent ratings. The distribution is normal, however there is more weight above the average of 0.6 than there is below the average of 0.6. This means that the critics are giving more higher ratings than lower ratings."
   ]
  },
  {
   "cell_type": "markdown",
   "metadata": {},
   "source": [
    "## The Vector Space Model and a Search Engine"
   ]
  },
  {
   "cell_type": "markdown",
   "metadata": {},
   "source": [
    "All the diagrams here are snipped from [*Introduction to Information Retrieval* by Manning et. al.]( http://nlp.stanford.edu/IR-book/) which is a great resource on text processing. For additional information on text mining and natural language processing, see [*Foundations of Statistical Natural Language Processing* by Manning and Schutze](http://nlp.stanford.edu/fsnlp/).\n",
    "\n",
    "Also check out Python packages [`nltk`](http://www.nltk.org/), [`spaCy`](https://spacy.io/), [`pattern`](http://www.clips.ua.ac.be/pattern), and their associated resources. Also see [`word2vec`](https://en.wikipedia.org/wiki/Word2vec).\n",
    "\n",
    "Let us define the vector derived from document $d$ by $\\bar V(d)$. What does this mean? Each document is treated as a vector containing information about the words contained in it. Each vector has the same length and each entry \"slot\" in the vector contains some kind of data about the words that appear in the document such as presence/absence (1/0), count (an integer) or some other statistic. Each vector has the same length because each document shared the same vocabulary across the full collection of documents -- this collection is called a *corpus*.\n",
    "\n",
    "To define the vocabulary, we take a union of all words we have seen in all documents. We then just associate an array index with them. So \"hello\" may be at index 5 and \"world\" at index 99.\n",
    "\n",
    "Suppose we have the following corpus:\n",
    "\n",
    "`A Fox one day spied a beautiful bunch of ripe grapes hanging from a vine trained along the branches of a tree. The grapes seemed ready to burst with juice, and the Fox's mouth watered as he gazed longingly at them.`\n",
    "\n",
    "Suppose we treat each sentence as a document $d$. The vocabulary (often called the *lexicon*) is the following:\n",
    "\n",
    "$V = \\left\\{\\right.$ `a, along, and, as, at, beautiful, branches, bunch, burst, day, fox, fox's, from, gazed, grapes, hanging, he, juice, longingly, mouth, of, one, ready, ripe, seemed, spied, the, them, to, trained, tree, vine, watered, with`$\\left.\\right\\}$\n",
    "\n",
    "Then the document\n",
    "\n",
    "`A Fox one day spied a beautiful bunch of ripe grapes hanging from a vine trained along the branches of a tree`\n",
    "\n",
    "may be represented as the following sparse vector of word counts:\n",
    "\n",
    "$$\\bar V(d) = \\left( 4,1,0,0,0,1,1,1,0,1,1,0,1,0,1,1,0,0,0,0,2,1,0,1,0,0,1,0,0,1,1,1,0,0 \\right)$$\n",
    "\n",
    "or more succinctly as\n",
    "\n",
    "`[(0, 4), (1, 1), (5, 1), (6, 1), (7, 1), (9, 1), (10, 1), (12, 1), (14, 1), (15, 1), (20, 2), (21, 1), (23, 1),`\n",
    "`(26, 1), (29,1), (30, 1), (31, 1)]`\n",
    "\n",
    "along with a dictionary\n",
    "\n",
    "``\n",
    "{\n",
    "    0: a, 1: along, 5: beautiful, 6: branches, 7: bunch, 9: day, 10: fox, 12: from, 14: grapes, 15: hanging, 19: mouth, 20: of, 21: one, 23: ripe, 24: seemed, 25: spied, 26: the, 29:trained, 30: tree, 31: vine, \n",
    "}\n",
    "``\n",
    "\n",
    "Then, a set of documents becomes, in the usual `sklearn` style, a sparse matrix with rows being sparse arrays representing documents and columns representing the features/words in the vocabulary.\n",
    "\n",
    "Notice that this representation loses the relative ordering of the terms in the document. That is \"cat ate rat\" and \"rat ate cat\" are the same. Thus, this representation is also known as the Bag-Of-Words representation.\n",
    "\n",
    "Here is another example, from the book quoted above, although the matrix is transposed here so that documents are columns:\n",
    "\n",
    "![novel terms](terms.png)\n",
    "\n",
    "Such a matrix is also catted a Term-Document Matrix. Here, the terms being indexed could be stemmed before indexing; for instance, `jealous` and `jealousy` after stemming are the same feature. One could also make use of other \"Natural Language Processing\" transformations in constructing the vocabulary. We could use Lemmatization, which reduces words to lemmas: work, working, worked would all reduce to work. We could remove \"stopwords\" from our vocabulary, such as common words like \"the\". We could look for particular parts of speech, such as adjectives. This is often done in Sentiment Analysis. And so on. It all depends on our application.\n",
    "\n",
    "From the book:\n",
    ">The standard way of quantifying the similarity between two documents $d_1$ and $d_2$  is to compute the cosine similarity of their vector representations $\\bar V(d_1)$ and $\\bar V(d_2)$:\n",
    "\n",
    "$$S_{12} = \\frac{\\bar V(d_1) \\cdot \\bar V(d_2)}{|\\bar V(d_1)| \\times |\\bar V(d_2)|}$$\n",
    "\n",
    "![Vector Space Model](vsm.png)\n",
    "\n",
    "\n",
    ">There is a far more compelling reason to represent documents as vectors: we can also view a query as a vector. Consider the query q = jealous gossip. This query turns into the unit vector $\\bar V(q)$ = (0, 0.707, 0.707) on the three coordinates below. \n",
    "\n",
    "![novel terms](terms2.png)\n",
    "\n",
    ">The key idea now: to assign to each document d a score equal to the dot product:\n",
    "\n",
    "$$\\bar V(q) \\cdot \\bar V(d)$$\n",
    "\n",
    "Then we can use this simple Vector Model as a Search engine."
   ]
  },
  {
   "cell_type": "markdown",
   "metadata": {},
   "source": [
    "### In Code"
   ]
  },
  {
   "cell_type": "code",
   "execution_count": 5,
   "metadata": {},
   "outputs": [
    {
     "name": "stdout",
     "output_type": "stream",
     "text": [
      "Original text is\n",
      "Hop on pop\n",
      "Hop off pop\n",
      "Hop Hop hop\n",
      "\n",
      "Transformed text vector is \n",
      "[[1 0 1 1]\n",
      " [1 1 0 1]\n",
      " [3 0 0 0]]\n",
      "\n",
      "Words for each feature:\n",
      "['hop', 'off', 'on', 'pop']\n"
     ]
    }
   ],
   "source": [
    "from sklearn.feature_extraction.text import CountVectorizer\n",
    "\n",
    "text = ['Hop on pop', 'Hop off pop', 'Hop Hop hop']\n",
    "print(\"Original text is\\n{}\".format('\\n'.join(text)))\n",
    "\n",
    "vectorizer = CountVectorizer(min_df=0)\n",
    "\n",
    "# call `fit` to build the vocabulary\n",
    "vectorizer.fit(text)\n",
    "\n",
    "# call `transform` to convert text to a bag of words\n",
    "x = vectorizer.transform(text)\n",
    "\n",
    "# CountVectorizer uses a sparse array to save memory, but it's easier in this assignment to \n",
    "# convert back to a \"normal\" numpy array\n",
    "x = x.toarray()\n",
    "\n",
    "print(\"\")\n",
    "print(\"Transformed text vector is \\n{}\".format(x))\n",
    "\n",
    "# `get_feature_names` tracks which word is associated with each column of the transformed x\n",
    "print(\"\")\n",
    "print(\"Words for each feature:\")\n",
    "print(vectorizer.get_feature_names())\n",
    "\n",
    "# Notice that the bag of words treatment doesn't preserve information about the *order* of words, \n",
    "# just their frequency"
   ]
  },
  {
   "cell_type": "code",
   "execution_count": 6,
   "metadata": {},
   "outputs": [
    {
     "name": "stdout",
     "output_type": "stream",
     "text": [
      "  (1028, 0)\t1\n",
      "  (3215, 0)\t1\n",
      "  (4740, 0)\t1\n",
      "  (4741, 0)\t1\n",
      "  (8722, 0)\t2\n",
      "  (8820, 0)\t1\n",
      "  (12118, 0)\t1\n",
      "  (4031, 1)\t1\n",
      "  (74, 2)\t1\n",
      "  (76, 2)\t1\n",
      "  (3653, 2)\t1\n",
      "  (4031, 2)\t1\n",
      "  (8023, 2)\t1\n",
      "  (10704, 2)\t1\n",
      "  (13425, 2)\t1\n",
      "  (13435, 2)\t1\n",
      "  (13668, 2)\t1\n",
      "  (13693, 2)\t1\n",
      "  (8647, 3)\t1\n",
      "  (369, 4)\t1\n",
      "  (24, 5)\t1\n",
      "  (65, 5)\t1\n",
      "  (472, 5)\t1\n",
      "  (625, 5)\t1\n",
      "  (731, 5)\t1\n",
      "  :\t:\n",
      "  (14548, 22402)\t1\n",
      "  (14551, 22402)\t1\n",
      "  (958, 22403)\t1\n",
      "  (10209, 22403)\t1\n",
      "  (6804, 22404)\t1\n",
      "  (8594, 22405)\t1\n",
      "  (14697, 22406)\t1\n",
      "  (6465, 22407)\t1\n",
      "  (4134, 22408)\t1\n",
      "  (8145, 22408)\t1\n",
      "  (4471, 22409)\t1\n",
      "  (4477, 22409)\t1\n",
      "  (4478, 22409)\t1\n",
      "  (4476, 22410)\t1\n",
      "  (8847, 22411)\t1\n",
      "  (1076, 22412)\t1\n",
      "  (3126, 22412)\t1\n",
      "  (3128, 22412)\t1\n",
      "  (9252, 22412)\t1\n",
      "  (2774, 22413)\t1\n",
      "  (3360, 22414)\t1\n",
      "  (5930, 22414)\t1\n",
      "  (10457, 22414)\t1\n",
      "  (4473, 22415)\t1\n",
      "  (8518, 22416)\t1\n",
      "[1 1 1 ..., 1 1 1]\n"
     ]
    }
   ],
   "source": [
    "def make_xy(critics, vectorizer=None):\n",
    "    #Your code here    \n",
    "    if vectorizer is None:\n",
    "        vectorizer = CountVectorizer()\n",
    "    X = vectorizer.fit_transform(critics.quote)\n",
    "    X = X.tocsc()  # some versions of sklearn return COO format\n",
    "    y = (critics.fresh == 'fresh').values.astype(np.int)\n",
    "    return X, y\n",
    "X, y = make_xy(critics)\n",
    "\n",
    "print (X)\n",
    "print(y)"
   ]
  },
  {
   "cell_type": "markdown",
   "metadata": {},
   "source": [
    "## Naive Bayes"
   ]
  },
  {
   "cell_type": "markdown",
   "metadata": {},
   "source": [
    "From Bayes' Theorem, we have that\n",
    "\n",
    "$$P(c \\vert f) = \\frac{P(c \\cap f)}{P(f)}$$\n",
    "\n",
    "where $c$ represents a *class* or category, and $f$ represents a feature vector, such as $\\bar V(d)$ as above. **We are computing the probability that a document (or whatever we are classifying) belongs to category *c* given the features in the document.** $P(f)$ is really just a normalization constant, so the literature usually writes Bayes' Theorem in context of Naive Bayes as\n",
    "\n",
    "$$P(c \\vert f) \\propto P(f \\vert c) P(c) $$\n",
    "\n",
    "$P(c)$ is called the *prior* and is simply the probability of seeing class $c$. But what is $P(f \\vert c)$? This is the probability that we see feature set $f$ given that this document is actually in class $c$. This is called the *likelihood* and comes from the data. One of the major assumptions of the Naive Bayes model is that the features are *conditionally independent* given the class. While the presence of a particular discriminative word may uniquely identify the document as being part of class $c$ and thus violate general feature independence, conditional independence means that the presence of that term is independent of all the other words that appear *within that class*. This is a very important distinction. Recall that if two events are independent, then:\n",
    "\n",
    "$$P(A \\cap B) = P(A) \\cdot P(B)$$\n",
    "\n",
    "Thus, conditional independence implies\n",
    "\n",
    "$$P(f \\vert c)  = \\prod_i P(f_i | c) $$\n",
    "\n",
    "where $f_i$ is an individual feature (a word in this example).\n",
    "\n",
    "To make a classification, we then choose the class $c$ such that $P(c \\vert f)$ is maximal.\n",
    "\n",
    "There is a small caveat when computing these probabilities. For [floating point underflow](http://nlp.stanford.edu/IR-book/html/htmledition/naive-bayes-text-classification-1.html) we change the product into a sum by going into log space. This is called the LogSumExp trick. So:\n",
    "\n",
    "$$\\log P(f \\vert c)  = \\sum_i \\log P(f_i \\vert c) $$\n",
    "\n",
    "There is another caveat. What if we see a term that didn't exist in the training data? This means that $P(f_i \\vert c) = 0$ for that term, and thus $P(f \\vert c)  = \\prod_i P(f_i | c) = 0$, which doesn't help us at all. Instead of using zeros, we add a small negligible value called $\\alpha$ to each count. This is called Laplace Smoothing.\n",
    "\n",
    "$$P(f_i \\vert c) = \\frac{N_{ic}+\\alpha}{N_c + \\alpha N_i}$$\n",
    "\n",
    "where $N_{ic}$ is the number of times feature $i$ was seen in class $c$, $N_c$ is the number of times class $c$ was seen and $N_i$ is the number of times feature $i$ was seen globally. $\\alpha$ is sometimes called a regularization parameter."
   ]
  },
  {
   "cell_type": "markdown",
   "metadata": {},
   "source": [
    "### Multinomial Naive Bayes and Other Likelihood Functions\n",
    "\n",
    "Since we are modeling word counts, we are using variation of Naive Bayes called Multinomial Naive Bayes. This is because the likelihood function actually takes the form of the multinomial distribution.\n",
    "\n",
    "$$P(f \\vert c) = \\frac{\\left( \\sum_i f_i \\right)!}{\\prod_i f_i!} \\prod_{f_i} P(f_i \\vert c)^{f_i} \\propto \\prod_{i} P(f_i \\vert c)$$\n",
    "\n",
    "where the nasty term out front is absorbed as a normalization constant such that probabilities sum to 1.\n",
    "\n",
    "There are many other variations of Naive Bayes, all which depend on what type of value $f_i$ takes. If $f_i$ is continuous, we may be able to use *Gaussian Naive Bayes*. First compute the mean and variance for each class $c$. Then the likelihood, $P(f \\vert c)$ is given as follows\n",
    "\n",
    "$$P(f_i = v \\vert c) = \\frac{1}{\\sqrt{2\\pi \\sigma^2_c}} e^{- \\frac{\\left( v - \\mu_c \\right)^2}{2 \\sigma^2_c}}$$"
   ]
  },
  {
   "cell_type": "markdown",
   "metadata": {},
   "source": [
    "<div class=\"span5 alert alert-info\">\n",
    "<h3>Exercise Set II</h3>\n",
    "\n",
    "<p><b>Exercise:</b> Implement a simple Naive Bayes classifier:</p>\n",
    "\n",
    "<ol>\n",
    "<li> split the data set into a training and test set\n",
    "<li> Use `scikit-learn`'s `MultinomialNB()` classifier with default parameters.\n",
    "<li> train the classifier over the training set and test on the test set\n",
    "<li> print the accuracy scores for both the training and the test sets\n",
    "</ol>\n",
    "\n",
    "What do you notice? Is this a good classifier? If not, why not?\n",
    "</div>"
   ]
  },
  {
   "cell_type": "markdown",
   "metadata": {
    "collapsed": true
   },
   "source": [
    "### Answer"
   ]
  },
  {
   "cell_type": "code",
   "execution_count": 7,
   "metadata": {
    "collapsed": true
   },
   "outputs": [],
   "source": [
    "import pandas as pd\n",
    "from sklearn import datasets, linear_model\n",
    "from sklearn.model_selection import train_test_split\n",
    "from sklearn.naive_bayes import MultinomialNB\n",
    "from matplotlib import pyplot as plt"
   ]
  },
  {
   "cell_type": "code",
   "execution_count": 8,
   "metadata": {
    "collapsed": true
   },
   "outputs": [],
   "source": [
    "# split the data\n",
    "\n",
    "X_train, X_test, y_train, y_test = train_test_split(X,y)"
   ]
  },
  {
   "cell_type": "code",
   "execution_count": 9,
   "metadata": {
    "collapsed": true
   },
   "outputs": [],
   "source": [
    "# creat classifier\n",
    "\n",
    "classf = MultinomialNB().fit(X_train, y_train)"
   ]
  },
  {
   "cell_type": "code",
   "execution_count": 10,
   "metadata": {},
   "outputs": [
    {
     "name": "stdout",
     "output_type": "stream",
     "text": [
      "Multinomial accuracy is for the test data is: 0.782061166795\n"
     ]
    }
   ],
   "source": [
    "# calculate the accuracy for the test data\n",
    "\n",
    "accuracy = classf.score(X_test, y_test)\n",
    "print ('Multinomial accuracy is for the test data is:', accuracy)"
   ]
  },
  {
   "cell_type": "code",
   "execution_count": 11,
   "metadata": {},
   "outputs": [
    {
     "name": "stdout",
     "output_type": "stream",
     "text": [
      "Multinomial accuracy for the training data is: 0.92030848329\n"
     ]
    }
   ],
   "source": [
    "# calculate the accuracy for the training data\n",
    "\n",
    "train_accuracy = classf.score(X_train, y_train)\n",
    "print ('Multinomial accuracy for the training data is:', train_accuracy)"
   ]
  },
  {
   "cell_type": "markdown",
   "metadata": {},
   "source": [
    "## With a multinomial accuracy of 0.92 for the test data, I conclude that the data overfitted."
   ]
  },
  {
   "cell_type": "markdown",
   "metadata": {},
   "source": [
    "### Picking Hyperparameters for Naive Bayes and Text Maintenance"
   ]
  },
  {
   "cell_type": "markdown",
   "metadata": {},
   "source": [
    "We need to know what value to use for $\\alpha$, and we also need to know which words to include in the vocabulary. As mentioned earlier, some words are obvious stopwords. Other words appear so infrequently that they serve as noise, and other words in addition to stopwords appear so frequently that they may also serve as noise."
   ]
  },
  {
   "cell_type": "markdown",
   "metadata": {},
   "source": [
    "First, let's find an appropriate value for `min_df` for the `CountVectorizer`. `min_df` can be either an integer or a float/decimal. If it is an integer, `min_df` represents the minimum number of documents a word must appear in for it to be included in the vocabulary. If it is a float, it represents the minimum *percentage* of documents a word must appear in to be included in the vocabulary. From the documentation:"
   ]
  },
  {
   "cell_type": "markdown",
   "metadata": {},
   "source": [
    ">min_df: When building the vocabulary ignore terms that have a document frequency strictly lower than the given threshold. This value is also called cut-off in the literature. If float, the parameter represents a proportion of documents, integer absolute counts. This parameter is ignored if vocabulary is not None."
   ]
  },
  {
   "cell_type": "markdown",
   "metadata": {},
   "source": [
    "<div class=\"span5 alert alert-info\">\n",
    "<h3>Exercise Set III</h3>\n",
    "\n",
    "<p><b>Exercise:</b> Construct the cumulative distribution of document frequencies (df). The $x$-axis is a document count $x_i$ and the $y$-axis is the percentage of words that appear less than $x_i$ times. For example, at $x=5$, plot a point representing the percentage or number of words that appear in 5 or fewer documents.</p>\n",
    "\n",
    "<p><b>Exercise:</b> Look for the point at which the curve begins climbing steeply. This may be a good value for `min_df`. If we were interested in also picking `max_df`, we would likely pick the value where the curve starts to plateau. What value did you choose?</p>\n",
    "</div>"
   ]
  },
  {
   "cell_type": "markdown",
   "metadata": {
    "collapsed": true
   },
   "source": [
    "### Answer"
   ]
  },
  {
   "cell_type": "code",
   "execution_count": 27,
   "metadata": {
    "collapsed": true
   },
   "outputs": [],
   "source": [
    "# Create a dataframe where the x-axis is a document count. Return a list.\n",
    "\n",
    "df = list(sorted((X>0).sum(axis = 0).reshape(-1).tolist()[0]))"
   ]
  },
  {
   "cell_type": "code",
   "execution_count": 28,
   "metadata": {},
   "outputs": [
    {
     "name": "stdout",
     "output_type": "stream",
     "text": [
      "15561\n",
      "22417\n"
     ]
    }
   ],
   "source": [
    "rows, features = X.shape\n",
    "\n",
    "print(rows)\n",
    "print (features)"
   ]
  },
  {
   "cell_type": "code",
   "execution_count": 29,
   "metadata": {},
   "outputs": [
    {
     "name": "stdout",
     "output_type": "stream",
     "text": [
      "[21347   537   179    96    44    36    27    24    23    12     8     7\n",
      "     6     7     4     4     2     3     1     4     1     5     3     0\n",
      "     1     2     0     2     0     0     0     3     1     2     2     1\n",
      "     0     0     1     0     2     1     0     2     0     0     0     0\n",
      "     0     0     0     0     0     0     1     0     0     1     0     0\n",
      "     0     0     0     0     1     1     0     0     0     0     1     0\n",
      "     1     0     1     0     0     2     0     0     0     0     0     0\n",
      "     0     0     0     0     0     0     0     0     0     0     0     0\n",
      "     0     0     0     0     0     0     0     0     0     0     0     0\n",
      "     1     0     0     0     0     0     0     0     0     0     0     0\n",
      "     0     1     0     0     0     0     0     0     0     0     0     0\n",
      "     0     0     0     0     0     0     0     0     0     0     1     0\n",
      "     0     0     0     0     0     0     0     0     0     0     0     0\n",
      "     0     0     0     0     0     0     0     1     0     0     0     0\n",
      "     0     1     0     0     0     0     0     0     0     0     0     0\n",
      "     0     0     0     0     0     0     0     0     0     0     0     0\n",
      "     0     0     0     0     0     0     0     0     0     0     0     0\n",
      "     0     0     0     0     0     0     0     0     0     0     0     0\n",
      "     0     0     0     0     0     0     0     0     0     0     0     0\n",
      "     0     0     0     0     0     0     0     1     0     0     0     0\n",
      "     0     0     0     0     0     0     0     0     0     1     0     0\n",
      "     0     0     0     0     0     0     0     0     0     0     0     0\n",
      "     0     0     0     0     0     0     0     0     0     0     0     0\n",
      "     0     0     0     0     0     0     0     0     0     0     0     0\n",
      "     0     0     0     0     0     0     0     0     0     0     0     0\n",
      "     0     0     0     0     0     0     0     0     0     0     0     0\n",
      "     0     1]\n",
      "[  1.00000000e+00   3.12579618e+01   6.15159236e+01   9.17738854e+01\n",
      "   1.22031847e+02   1.52289809e+02   1.82547771e+02   2.12805732e+02\n",
      "   2.43063694e+02   2.73321656e+02   3.03579618e+02   3.33837580e+02\n",
      "   3.64095541e+02   3.94353503e+02   4.24611465e+02   4.54869427e+02\n",
      "   4.85127389e+02   5.15385350e+02   5.45643312e+02   5.75901274e+02\n",
      "   6.06159236e+02   6.36417197e+02   6.66675159e+02   6.96933121e+02\n",
      "   7.27191083e+02   7.57449045e+02   7.87707006e+02   8.17964968e+02\n",
      "   8.48222930e+02   8.78480892e+02   9.08738854e+02   9.38996815e+02\n",
      "   9.69254777e+02   9.99512739e+02   1.02977070e+03   1.06002866e+03\n",
      "   1.09028662e+03   1.12054459e+03   1.15080255e+03   1.18106051e+03\n",
      "   1.21131847e+03   1.24157643e+03   1.27183439e+03   1.30209236e+03\n",
      "   1.33235032e+03   1.36260828e+03   1.39286624e+03   1.42312420e+03\n",
      "   1.45338217e+03   1.48364013e+03   1.51389809e+03   1.54415605e+03\n",
      "   1.57441401e+03   1.60467197e+03   1.63492994e+03   1.66518790e+03\n",
      "   1.69544586e+03   1.72570382e+03   1.75596178e+03   1.78621975e+03\n",
      "   1.81647771e+03   1.84673567e+03   1.87699363e+03   1.90725159e+03\n",
      "   1.93750955e+03   1.96776752e+03   1.99802548e+03   2.02828344e+03\n",
      "   2.05854140e+03   2.08879936e+03   2.11905732e+03   2.14931529e+03\n",
      "   2.17957325e+03   2.20983121e+03   2.24008917e+03   2.27034713e+03\n",
      "   2.30060510e+03   2.33086306e+03   2.36112102e+03   2.39137898e+03\n",
      "   2.42163694e+03   2.45189490e+03   2.48215287e+03   2.51241083e+03\n",
      "   2.54266879e+03   2.57292675e+03   2.60318471e+03   2.63344268e+03\n",
      "   2.66370064e+03   2.69395860e+03   2.72421656e+03   2.75447452e+03\n",
      "   2.78473248e+03   2.81499045e+03   2.84524841e+03   2.87550637e+03\n",
      "   2.90576433e+03   2.93602229e+03   2.96628025e+03   2.99653822e+03\n",
      "   3.02679618e+03   3.05705414e+03   3.08731210e+03   3.11757006e+03\n",
      "   3.14782803e+03   3.17808599e+03   3.20834395e+03   3.23860191e+03\n",
      "   3.26885987e+03   3.29911783e+03   3.32937580e+03   3.35963376e+03\n",
      "   3.38989172e+03   3.42014968e+03   3.45040764e+03   3.48066561e+03\n",
      "   3.51092357e+03   3.54118153e+03   3.57143949e+03   3.60169745e+03\n",
      "   3.63195541e+03   3.66221338e+03   3.69247134e+03   3.72272930e+03\n",
      "   3.75298726e+03   3.78324522e+03   3.81350318e+03   3.84376115e+03\n",
      "   3.87401911e+03   3.90427707e+03   3.93453503e+03   3.96479299e+03\n",
      "   3.99505096e+03   4.02530892e+03   4.05556688e+03   4.08582484e+03\n",
      "   4.11608280e+03   4.14634076e+03   4.17659873e+03   4.20685669e+03\n",
      "   4.23711465e+03   4.26737261e+03   4.29763057e+03   4.32788854e+03\n",
      "   4.35814650e+03   4.38840446e+03   4.41866242e+03   4.44892038e+03\n",
      "   4.47917834e+03   4.50943631e+03   4.53969427e+03   4.56995223e+03\n",
      "   4.60021019e+03   4.63046815e+03   4.66072611e+03   4.69098408e+03\n",
      "   4.72124204e+03   4.75150000e+03   4.78175796e+03   4.81201592e+03\n",
      "   4.84227389e+03   4.87253185e+03   4.90278981e+03   4.93304777e+03\n",
      "   4.96330573e+03   4.99356369e+03   5.02382166e+03   5.05407962e+03\n",
      "   5.08433758e+03   5.11459554e+03   5.14485350e+03   5.17511146e+03\n",
      "   5.20536943e+03   5.23562739e+03   5.26588535e+03   5.29614331e+03\n",
      "   5.32640127e+03   5.35665924e+03   5.38691720e+03   5.41717516e+03\n",
      "   5.44743312e+03   5.47769108e+03   5.50794904e+03   5.53820701e+03\n",
      "   5.56846497e+03   5.59872293e+03   5.62898089e+03   5.65923885e+03\n",
      "   5.68949682e+03   5.71975478e+03   5.75001274e+03   5.78027070e+03\n",
      "   5.81052866e+03   5.84078662e+03   5.87104459e+03   5.90130255e+03\n",
      "   5.93156051e+03   5.96181847e+03   5.99207643e+03   6.02233439e+03\n",
      "   6.05259236e+03   6.08285032e+03   6.11310828e+03   6.14336624e+03\n",
      "   6.17362420e+03   6.20388217e+03   6.23414013e+03   6.26439809e+03\n",
      "   6.29465605e+03   6.32491401e+03   6.35517197e+03   6.38542994e+03\n",
      "   6.41568790e+03   6.44594586e+03   6.47620382e+03   6.50646178e+03\n",
      "   6.53671975e+03   6.56697771e+03   6.59723567e+03   6.62749363e+03\n",
      "   6.65775159e+03   6.68800955e+03   6.71826752e+03   6.74852548e+03\n",
      "   6.77878344e+03   6.80904140e+03   6.83929936e+03   6.86955732e+03\n",
      "   6.89981529e+03   6.93007325e+03   6.96033121e+03   6.99058917e+03\n",
      "   7.02084713e+03   7.05110510e+03   7.08136306e+03   7.11162102e+03\n",
      "   7.14187898e+03   7.17213694e+03   7.20239490e+03   7.23265287e+03\n",
      "   7.26291083e+03   7.29316879e+03   7.32342675e+03   7.35368471e+03\n",
      "   7.38394268e+03   7.41420064e+03   7.44445860e+03   7.47471656e+03\n",
      "   7.50497452e+03   7.53523248e+03   7.56549045e+03   7.59574841e+03\n",
      "   7.62600637e+03   7.65626433e+03   7.68652229e+03   7.71678025e+03\n",
      "   7.74703822e+03   7.77729618e+03   7.80755414e+03   7.83781210e+03\n",
      "   7.86807006e+03   7.89832803e+03   7.92858599e+03   7.95884395e+03\n",
      "   7.98910191e+03   8.01935987e+03   8.04961783e+03   8.07987580e+03\n",
      "   8.11013376e+03   8.14039172e+03   8.17064968e+03   8.20090764e+03\n",
      "   8.23116561e+03   8.26142357e+03   8.29168153e+03   8.32193949e+03\n",
      "   8.35219745e+03   8.38245541e+03   8.41271338e+03   8.44297134e+03\n",
      "   8.47322930e+03   8.50348726e+03   8.53374522e+03   8.56400318e+03\n",
      "   8.59426115e+03   8.62451911e+03   8.65477707e+03   8.68503503e+03\n",
      "   8.71529299e+03   8.74555096e+03   8.77580892e+03   8.80606688e+03\n",
      "   8.83632484e+03   8.86658280e+03   8.89684076e+03   8.92709873e+03\n",
      "   8.95735669e+03   8.98761465e+03   9.01787261e+03   9.04813057e+03\n",
      "   9.07838854e+03   9.10864650e+03   9.13890446e+03   9.16916242e+03\n",
      "   9.19942038e+03   9.22967834e+03   9.25993631e+03   9.29019427e+03\n",
      "   9.32045223e+03   9.35071019e+03   9.38096815e+03   9.41122611e+03\n",
      "   9.44148408e+03   9.47174204e+03   9.50200000e+03]\n"
     ]
    }
   ],
   "source": [
    "height, axis = np.histogram(df, bins = len(np.unique(df)))\n",
    "\n",
    "print (height)\n",
    "print (axis)"
   ]
  },
  {
   "cell_type": "code",
   "execution_count": 30,
   "metadata": {},
   "outputs": [
    {
     "name": "stdout",
     "output_type": "stream",
     "text": [
      "[ 0.95226837  0.9762234   0.98420841  0.98849088  0.99045367  0.9920596\n",
      "  0.99326404  0.99433466  0.99536066  0.99589597  0.99625284  0.99656511\n",
      "  0.99683276  0.99714502  0.99732346  0.9975019   0.99759111  0.99772494\n",
      "  0.99776955  0.99794799  0.99799259  0.99821564  0.99834947  0.99834947\n",
      "  0.99839408  0.99848329  0.99848329  0.99857251  0.99857251  0.99857251\n",
      "  0.99857251  0.99870634  0.99875095  0.99884017  0.99892938  0.99897399\n",
      "  0.99897399  0.99897399  0.9990186   0.9990186   0.99910782  0.99915243\n",
      "  0.99915243  0.99924165  0.99924165  0.99924165  0.99924165  0.99924165\n",
      "  0.99924165  0.99924165  0.99924165  0.99924165  0.99924165  0.99924165\n",
      "  0.99928626  0.99928626  0.99928626  0.99933086  0.99933086  0.99933086\n",
      "  0.99933086  0.99933086  0.99933086  0.99933086  0.99937547  0.99942008\n",
      "  0.99942008  0.99942008  0.99942008  0.99942008  0.99946469  0.99946469\n",
      "  0.9995093   0.9995093   0.99955391  0.99955391  0.99955391  0.99964313\n",
      "  0.99964313  0.99964313  0.99964313  0.99964313  0.99964313  0.99964313\n",
      "  0.99964313  0.99964313  0.99964313  0.99964313  0.99964313  0.99964313\n",
      "  0.99964313  0.99964313  0.99964313  0.99964313  0.99964313  0.99964313\n",
      "  0.99964313  0.99964313  0.99964313  0.99964313  0.99964313  0.99964313\n",
      "  0.99964313  0.99964313  0.99964313  0.99964313  0.99964313  0.99964313\n",
      "  0.99968774  0.99968774  0.99968774  0.99968774  0.99968774  0.99968774\n",
      "  0.99968774  0.99968774  0.99968774  0.99968774  0.99968774  0.99968774\n",
      "  0.99968774  0.99973235  0.99973235  0.99973235  0.99973235  0.99973235\n",
      "  0.99973235  0.99973235  0.99973235  0.99973235  0.99973235  0.99973235\n",
      "  0.99973235  0.99973235  0.99973235  0.99973235  0.99973235  0.99973235\n",
      "  0.99973235  0.99973235  0.99973235  0.99973235  0.99977695  0.99977695\n",
      "  0.99977695  0.99977695  0.99977695  0.99977695  0.99977695  0.99977695\n",
      "  0.99977695  0.99977695  0.99977695  0.99977695  0.99977695  0.99977695\n",
      "  0.99977695  0.99977695  0.99977695  0.99977695  0.99977695  0.99977695\n",
      "  0.99977695  0.99982156  0.99982156  0.99982156  0.99982156  0.99982156\n",
      "  0.99982156  0.99986617  0.99986617  0.99986617  0.99986617  0.99986617\n",
      "  0.99986617  0.99986617  0.99986617  0.99986617  0.99986617  0.99986617\n",
      "  0.99986617  0.99986617  0.99986617  0.99986617  0.99986617  0.99986617\n",
      "  0.99986617  0.99986617  0.99986617  0.99986617  0.99986617  0.99986617\n",
      "  0.99986617  0.99986617  0.99986617  0.99986617  0.99986617  0.99986617\n",
      "  0.99986617  0.99986617  0.99986617  0.99986617  0.99986617  0.99986617\n",
      "  0.99986617  0.99986617  0.99986617  0.99986617  0.99986617  0.99986617\n",
      "  0.99986617  0.99986617  0.99986617  0.99986617  0.99986617  0.99986617\n",
      "  0.99986617  0.99986617  0.99986617  0.99986617  0.99986617  0.99986617\n",
      "  0.99986617  0.99986617  0.99986617  0.99986617  0.99986617  0.99986617\n",
      "  0.99986617  0.99986617  0.99986617  0.99986617  0.99986617  0.99986617\n",
      "  0.99986617  0.99991078  0.99991078  0.99991078  0.99991078  0.99991078\n",
      "  0.99991078  0.99991078  0.99991078  0.99991078  0.99991078  0.99991078\n",
      "  0.99991078  0.99991078  0.99991078  0.99995539  0.99995539  0.99995539\n",
      "  0.99995539  0.99995539  0.99995539  0.99995539  0.99995539  0.99995539\n",
      "  0.99995539  0.99995539  0.99995539  0.99995539  0.99995539  0.99995539\n",
      "  0.99995539  0.99995539  0.99995539  0.99995539  0.99995539  0.99995539\n",
      "  0.99995539  0.99995539  0.99995539  0.99995539  0.99995539  0.99995539\n",
      "  0.99995539  0.99995539  0.99995539  0.99995539  0.99995539  0.99995539\n",
      "  0.99995539  0.99995539  0.99995539  0.99995539  0.99995539  0.99995539\n",
      "  0.99995539  0.99995539  0.99995539  0.99995539  0.99995539  0.99995539\n",
      "  0.99995539  0.99995539  0.99995539  0.99995539  0.99995539  0.99995539\n",
      "  0.99995539  0.99995539  0.99995539  0.99995539  0.99995539  0.99995539\n",
      "  0.99995539  0.99995539  0.99995539  0.99995539  0.99995539  0.99995539\n",
      "  0.99995539  1.        ]\n"
     ]
    }
   ],
   "source": [
    "cum_hist = np.cumsum(height *1, axis = 0) / features\n",
    "\n",
    "print (cum_hist)"
   ]
  },
  {
   "cell_type": "code",
   "execution_count": 31,
   "metadata": {},
   "outputs": [
    {
     "name": "stdout",
     "output_type": "stream",
     "text": [
      "[  0.00000000e+00   1.00000000e+00   3.12579618e+01   6.15159236e+01\n",
      "   9.17738854e+01   1.22031847e+02   1.52289809e+02   1.82547771e+02\n",
      "   2.12805732e+02   2.43063694e+02   2.73321656e+02   3.03579618e+02\n",
      "   3.33837580e+02   3.64095541e+02   3.94353503e+02   4.24611465e+02\n",
      "   4.54869427e+02   4.85127389e+02   5.15385350e+02   5.45643312e+02\n",
      "   5.75901274e+02   6.06159236e+02   6.36417197e+02   6.66675159e+02\n",
      "   6.96933121e+02   7.27191083e+02   7.57449045e+02   7.87707006e+02\n",
      "   8.17964968e+02   8.48222930e+02   8.78480892e+02   9.08738854e+02\n",
      "   9.38996815e+02   9.69254777e+02   9.99512739e+02   1.02977070e+03\n",
      "   1.06002866e+03   1.09028662e+03   1.12054459e+03   1.15080255e+03\n",
      "   1.18106051e+03   1.21131847e+03   1.24157643e+03   1.27183439e+03\n",
      "   1.30209236e+03   1.33235032e+03   1.36260828e+03   1.39286624e+03\n",
      "   1.42312420e+03   1.45338217e+03   1.48364013e+03   1.51389809e+03\n",
      "   1.54415605e+03   1.57441401e+03   1.60467197e+03   1.63492994e+03\n",
      "   1.66518790e+03   1.69544586e+03   1.72570382e+03   1.75596178e+03\n",
      "   1.78621975e+03   1.81647771e+03   1.84673567e+03   1.87699363e+03\n",
      "   1.90725159e+03   1.93750955e+03   1.96776752e+03   1.99802548e+03\n",
      "   2.02828344e+03   2.05854140e+03   2.08879936e+03   2.11905732e+03\n",
      "   2.14931529e+03   2.17957325e+03   2.20983121e+03   2.24008917e+03\n",
      "   2.27034713e+03   2.30060510e+03   2.33086306e+03   2.36112102e+03\n",
      "   2.39137898e+03   2.42163694e+03   2.45189490e+03   2.48215287e+03\n",
      "   2.51241083e+03   2.54266879e+03   2.57292675e+03   2.60318471e+03\n",
      "   2.63344268e+03   2.66370064e+03   2.69395860e+03   2.72421656e+03\n",
      "   2.75447452e+03   2.78473248e+03   2.81499045e+03   2.84524841e+03\n",
      "   2.87550637e+03   2.90576433e+03   2.93602229e+03   2.96628025e+03\n",
      "   2.99653822e+03   3.02679618e+03   3.05705414e+03   3.08731210e+03\n",
      "   3.11757006e+03   3.14782803e+03   3.17808599e+03   3.20834395e+03\n",
      "   3.23860191e+03   3.26885987e+03   3.29911783e+03   3.32937580e+03\n",
      "   3.35963376e+03   3.38989172e+03   3.42014968e+03   3.45040764e+03\n",
      "   3.48066561e+03   3.51092357e+03   3.54118153e+03   3.57143949e+03\n",
      "   3.60169745e+03   3.63195541e+03   3.66221338e+03   3.69247134e+03\n",
      "   3.72272930e+03   3.75298726e+03   3.78324522e+03   3.81350318e+03\n",
      "   3.84376115e+03   3.87401911e+03   3.90427707e+03   3.93453503e+03\n",
      "   3.96479299e+03   3.99505096e+03   4.02530892e+03   4.05556688e+03\n",
      "   4.08582484e+03   4.11608280e+03   4.14634076e+03   4.17659873e+03\n",
      "   4.20685669e+03   4.23711465e+03   4.26737261e+03   4.29763057e+03\n",
      "   4.32788854e+03   4.35814650e+03   4.38840446e+03   4.41866242e+03\n",
      "   4.44892038e+03   4.47917834e+03   4.50943631e+03   4.53969427e+03\n",
      "   4.56995223e+03   4.60021019e+03   4.63046815e+03   4.66072611e+03\n",
      "   4.69098408e+03   4.72124204e+03   4.75150000e+03   4.78175796e+03\n",
      "   4.81201592e+03   4.84227389e+03   4.87253185e+03   4.90278981e+03\n",
      "   4.93304777e+03   4.96330573e+03   4.99356369e+03   5.02382166e+03\n",
      "   5.05407962e+03   5.08433758e+03   5.11459554e+03   5.14485350e+03\n",
      "   5.17511146e+03   5.20536943e+03   5.23562739e+03   5.26588535e+03\n",
      "   5.29614331e+03   5.32640127e+03   5.35665924e+03   5.38691720e+03\n",
      "   5.41717516e+03   5.44743312e+03   5.47769108e+03   5.50794904e+03\n",
      "   5.53820701e+03   5.56846497e+03   5.59872293e+03   5.62898089e+03\n",
      "   5.65923885e+03   5.68949682e+03   5.71975478e+03   5.75001274e+03\n",
      "   5.78027070e+03   5.81052866e+03   5.84078662e+03   5.87104459e+03\n",
      "   5.90130255e+03   5.93156051e+03   5.96181847e+03   5.99207643e+03\n",
      "   6.02233439e+03   6.05259236e+03   6.08285032e+03   6.11310828e+03\n",
      "   6.14336624e+03   6.17362420e+03   6.20388217e+03   6.23414013e+03\n",
      "   6.26439809e+03   6.29465605e+03   6.32491401e+03   6.35517197e+03\n",
      "   6.38542994e+03   6.41568790e+03   6.44594586e+03   6.47620382e+03\n",
      "   6.50646178e+03   6.53671975e+03   6.56697771e+03   6.59723567e+03\n",
      "   6.62749363e+03   6.65775159e+03   6.68800955e+03   6.71826752e+03\n",
      "   6.74852548e+03   6.77878344e+03   6.80904140e+03   6.83929936e+03\n",
      "   6.86955732e+03   6.89981529e+03   6.93007325e+03   6.96033121e+03\n",
      "   6.99058917e+03   7.02084713e+03   7.05110510e+03   7.08136306e+03\n",
      "   7.11162102e+03   7.14187898e+03   7.17213694e+03   7.20239490e+03\n",
      "   7.23265287e+03   7.26291083e+03   7.29316879e+03   7.32342675e+03\n",
      "   7.35368471e+03   7.38394268e+03   7.41420064e+03   7.44445860e+03\n",
      "   7.47471656e+03   7.50497452e+03   7.53523248e+03   7.56549045e+03\n",
      "   7.59574841e+03   7.62600637e+03   7.65626433e+03   7.68652229e+03\n",
      "   7.71678025e+03   7.74703822e+03   7.77729618e+03   7.80755414e+03\n",
      "   7.83781210e+03   7.86807006e+03   7.89832803e+03   7.92858599e+03\n",
      "   7.95884395e+03   7.98910191e+03   8.01935987e+03   8.04961783e+03\n",
      "   8.07987580e+03   8.11013376e+03   8.14039172e+03   8.17064968e+03\n",
      "   8.20090764e+03   8.23116561e+03   8.26142357e+03   8.29168153e+03\n",
      "   8.32193949e+03   8.35219745e+03   8.38245541e+03   8.41271338e+03\n",
      "   8.44297134e+03   8.47322930e+03   8.50348726e+03   8.53374522e+03\n",
      "   8.56400318e+03   8.59426115e+03   8.62451911e+03   8.65477707e+03\n",
      "   8.68503503e+03   8.71529299e+03   8.74555096e+03   8.77580892e+03\n",
      "   8.80606688e+03   8.83632484e+03   8.86658280e+03   8.89684076e+03\n",
      "   8.92709873e+03   8.95735669e+03   8.98761465e+03   9.01787261e+03\n",
      "   9.04813057e+03   9.07838854e+03   9.10864650e+03   9.13890446e+03\n",
      "   9.16916242e+03   9.19942038e+03   9.22967834e+03   9.25993631e+03\n",
      "   9.29019427e+03   9.32045223e+03   9.35071019e+03   9.38096815e+03\n",
      "   9.41122611e+03   9.44148408e+03   9.47174204e+03   9.50200000e+03]\n"
     ]
    }
   ],
   "source": [
    "axis = np.insert(axis, 0, 0)\n",
    "\n",
    "print (axis)"
   ]
  },
  {
   "cell_type": "code",
   "execution_count": 32,
   "metadata": {},
   "outputs": [
    {
     "name": "stdout",
     "output_type": "stream",
     "text": [
      "[ 0.          0.95226837  0.9762234   0.98420841  0.98849088  0.99045367\n",
      "  0.9920596   0.99326404  0.99433466  0.99536066  0.99589597  0.99625284\n",
      "  0.99656511  0.99683276  0.99714502  0.99732346  0.9975019   0.99759111\n",
      "  0.99772494  0.99776955  0.99794799  0.99799259  0.99821564  0.99834947\n",
      "  0.99834947  0.99839408  0.99848329  0.99848329  0.99857251  0.99857251\n",
      "  0.99857251  0.99857251  0.99870634  0.99875095  0.99884017  0.99892938\n",
      "  0.99897399  0.99897399  0.99897399  0.9990186   0.9990186   0.99910782\n",
      "  0.99915243  0.99915243  0.99924165  0.99924165  0.99924165  0.99924165\n",
      "  0.99924165  0.99924165  0.99924165  0.99924165  0.99924165  0.99924165\n",
      "  0.99924165  0.99928626  0.99928626  0.99928626  0.99933086  0.99933086\n",
      "  0.99933086  0.99933086  0.99933086  0.99933086  0.99933086  0.99937547\n",
      "  0.99942008  0.99942008  0.99942008  0.99942008  0.99942008  0.99946469\n",
      "  0.99946469  0.9995093   0.9995093   0.99955391  0.99955391  0.99955391\n",
      "  0.99964313  0.99964313  0.99964313  0.99964313  0.99964313  0.99964313\n",
      "  0.99964313  0.99964313  0.99964313  0.99964313  0.99964313  0.99964313\n",
      "  0.99964313  0.99964313  0.99964313  0.99964313  0.99964313  0.99964313\n",
      "  0.99964313  0.99964313  0.99964313  0.99964313  0.99964313  0.99964313\n",
      "  0.99964313  0.99964313  0.99964313  0.99964313  0.99964313  0.99964313\n",
      "  0.99964313  0.99968774  0.99968774  0.99968774  0.99968774  0.99968774\n",
      "  0.99968774  0.99968774  0.99968774  0.99968774  0.99968774  0.99968774\n",
      "  0.99968774  0.99968774  0.99973235  0.99973235  0.99973235  0.99973235\n",
      "  0.99973235  0.99973235  0.99973235  0.99973235  0.99973235  0.99973235\n",
      "  0.99973235  0.99973235  0.99973235  0.99973235  0.99973235  0.99973235\n",
      "  0.99973235  0.99973235  0.99973235  0.99973235  0.99973235  0.99977695\n",
      "  0.99977695  0.99977695  0.99977695  0.99977695  0.99977695  0.99977695\n",
      "  0.99977695  0.99977695  0.99977695  0.99977695  0.99977695  0.99977695\n",
      "  0.99977695  0.99977695  0.99977695  0.99977695  0.99977695  0.99977695\n",
      "  0.99977695  0.99977695  0.99982156  0.99982156  0.99982156  0.99982156\n",
      "  0.99982156  0.99982156  0.99986617  0.99986617  0.99986617  0.99986617\n",
      "  0.99986617  0.99986617  0.99986617  0.99986617  0.99986617  0.99986617\n",
      "  0.99986617  0.99986617  0.99986617  0.99986617  0.99986617  0.99986617\n",
      "  0.99986617  0.99986617  0.99986617  0.99986617  0.99986617  0.99986617\n",
      "  0.99986617  0.99986617  0.99986617  0.99986617  0.99986617  0.99986617\n",
      "  0.99986617  0.99986617  0.99986617  0.99986617  0.99986617  0.99986617\n",
      "  0.99986617  0.99986617  0.99986617  0.99986617  0.99986617  0.99986617\n",
      "  0.99986617  0.99986617  0.99986617  0.99986617  0.99986617  0.99986617\n",
      "  0.99986617  0.99986617  0.99986617  0.99986617  0.99986617  0.99986617\n",
      "  0.99986617  0.99986617  0.99986617  0.99986617  0.99986617  0.99986617\n",
      "  0.99986617  0.99986617  0.99986617  0.99986617  0.99986617  0.99986617\n",
      "  0.99986617  0.99986617  0.99991078  0.99991078  0.99991078  0.99991078\n",
      "  0.99991078  0.99991078  0.99991078  0.99991078  0.99991078  0.99991078\n",
      "  0.99991078  0.99991078  0.99991078  0.99991078  0.99995539  0.99995539\n",
      "  0.99995539  0.99995539  0.99995539  0.99995539  0.99995539  0.99995539\n",
      "  0.99995539  0.99995539  0.99995539  0.99995539  0.99995539  0.99995539\n",
      "  0.99995539  0.99995539  0.99995539  0.99995539  0.99995539  0.99995539\n",
      "  0.99995539  0.99995539  0.99995539  0.99995539  0.99995539  0.99995539\n",
      "  0.99995539  0.99995539  0.99995539  0.99995539  0.99995539  0.99995539\n",
      "  0.99995539  0.99995539  0.99995539  0.99995539  0.99995539  0.99995539\n",
      "  0.99995539  0.99995539  0.99995539  0.99995539  0.99995539  0.99995539\n",
      "  0.99995539  0.99995539  0.99995539  0.99995539  0.99995539  0.99995539\n",
      "  0.99995539  0.99995539  0.99995539  0.99995539  0.99995539  0.99995539\n",
      "  0.99995539  0.99995539  0.99995539  0.99995539  0.99995539  0.99995539\n",
      "  0.99995539  0.99995539  1.        ]\n"
     ]
    }
   ],
   "source": [
    "cum_hist = np.insert(cum_hist, 0, 0)\n",
    "\n",
    "print(cum_hist)"
   ]
  },
  {
   "cell_type": "code",
   "execution_count": 33,
   "metadata": {},
   "outputs": [
    {
     "data": {
      "text/plain": [
       "Text(0,0.5,'Cumulative Document Frequency')"
      ]
     },
     "execution_count": 33,
     "metadata": {},
     "output_type": "execute_result"
    },
    {
     "data": {
      "image/png": "[encoded data removed]",
      "text/plain": [
       "<matplotlib.figure.Figure at 0x212c476dc18>"
      ]
     },
     "metadata": {},
     "output_type": "display_data"
    }
   ],
   "source": [
    "plt.plot(axis[:-1], cum_hist)\n",
    "plt.xlim(-1, 100)\n",
    "plt.xlabel('Document Frequency')\n",
    "plt.ylabel('Cumulative Document Frequency')"
   ]
  },
  {
   "cell_type": "markdown",
   "metadata": {},
   "source": [
    "### max_df would be 1.0."
   ]
  },
  {
   "cell_type": "markdown",
   "metadata": {},
   "source": [
    "The parameter $\\alpha$ is chosen to be a small value that simply avoids having zeros in the probability computations. This value can sometimes be chosen arbitrarily with domain expertise, but we will use K-fold cross validation. In K-fold cross-validation, we divide the data into $K$ non-overlapping parts. We train on $K-1$ of the folds and test on the remaining fold. We then iterate, so that each fold serves as the test fold exactly once. The function `cv_score` performs the K-fold cross-validation algorithm for us, but we need to pass a function that measures the performance of the algorithm on each fold. "
   ]
  },
  {
   "cell_type": "code",
   "execution_count": null,
   "metadata": {
    "collapsed": true
   },
   "outputs": [],
   "source": [
    "from sklearn.model_selection import KFold\n",
    "def cv_score(clf, X, y, scorefunc):\n",
    "    result = 0.\n",
    "    nfold = 5\n",
    "    for train, test in KFold(nfold).split(X): # split data into train/test groups, 5 times\n",
    "        clf.fit(X[train], y[train]) # fit the classifier, passed is as clf.\n",
    "        result += scorefunc(clf, X[test], y[test]) # evaluate score function on held-out data\n",
    "    return result / nfold # average"
   ]
  },
  {
   "cell_type": "markdown",
   "metadata": {},
   "source": [
    "We use the log-likelihood as the score here in `scorefunc`. The higher the log-likelihood, the better. Indeed, what we do in `cv_score` above is to implement the cross-validation part of `GridSearchCV`.\n",
    "\n",
    "The custom scoring function `scorefunc` allows us to use different metrics depending on the decision risk we care about (precision, accuracy, profit etc.) directly on the validation set. You will often find people using `roc_auc`, precision, recall, or `F1-score` as the scoring function."
   ]
  },
  {
   "cell_type": "code",
   "execution_count": null,
   "metadata": {
    "collapsed": true
   },
   "outputs": [],
   "source": [
    "def log_likelihood(clf, x, y):\n",
    "    prob = clf.predict_log_proba(x)\n",
    "    rotten = y == 0\n",
    "    fresh = ~rotten\n",
    "    return prob[rotten, 0].sum() + prob[fresh, 1].sum()"
   ]
  },
  {
   "cell_type": "markdown",
   "metadata": {},
   "source": [
    "We'll cross-validate over the regularization parameter $\\alpha$."
   ]
  },
  {
   "cell_type": "markdown",
   "metadata": {},
   "source": [
    "Let's set up the train and test masks first, and then we can run the cross-validation procedure."
   ]
  },
  {
   "cell_type": "code",
   "execution_count": null,
   "metadata": {},
   "outputs": [],
   "source": [
    "from sklearn.model_selection import train_test_split\n",
    "_, itest = train_test_split(range(critics.shape[0]), train_size=0.7)\n",
    "mask = np.zeros(critics.shape[0], dtype=np.bool)\n",
    "mask[itest] = True"
   ]
  },
  {
   "cell_type": "markdown",
   "metadata": {},
   "source": [
    "<div class=\"span5 alert alert-info\">\n",
    "<h3>Exercise Set IV</h3>\n",
    "\n",
    "<p><b>Exercise:</b> What does using the function `log_likelihood` as the score mean? What are we trying to optimize for?</p>\n",
    "\n",
    "<p><b>Exercise:</b> Without writing any code, what do you think would happen if you choose a value of $\\alpha$ that is too high?</p>\n",
    "\n",
    "<p><b>Exercise:</b> Using the skeleton code below, find the best values of the parameter `alpha`, and use the value of `min_df` you chose in the previous exercise set. Use the `cv_score` function above with the `log_likelihood` function for scoring.</p>\n",
    "</div>"
   ]
  },
  {
   "cell_type": "code",
   "execution_count": null,
   "metadata": {},
   "outputs": [],
   "source": [
    "#the grid of parameters to search over\n",
    "alphas = [0, .1, 1, 5, 10, 50]\n",
    "min_dfs = [1e-5, 1e-4, 1e-3, 1e-2, 1e-1]\n",
    "\n",
    "#Find the best value for alpha and min_df, and the best classifier\n",
    "best_alpha = None\n",
    "best_min_df = None\n",
    "max_loglike = -np.inf\n",
    "\n",
    "for alpha in alphas:\n",
    "    for min_df in min_dfs:         \n",
    "        vectorizer = CountVectorizer(min_df = min_df)       \n",
    "        X, Y = make_xy(critics, vectorizer)\n",
    "        \n",
    "        #your code here\n",
    "        clf = MultinomialNB(alpha=alpha)\n",
    "        loglike = cv_score(clf, X, Y, log_likelihood)\n",
    "\n",
    "        if loglike > max_loglike:\n",
    "            max_loglike = loglike\n",
    "            best_alpha, best_min_df = alpha, min_df"
   ]
  },
  {
   "cell_type": "code",
   "execution_count": null,
   "metadata": {},
   "outputs": [],
   "source": [
    "print(\"alpha: {}\".format(best_alpha))\n",
    "print(\"min_df: {}\".format(best_min_df))"
   ]
  },
  {
   "cell_type": "markdown",
   "metadata": {},
   "source": [
    "<div class=\"span5 alert alert-info\">\n",
    "<h3>Exercise Set V: Working with the Best Parameters</h3>\n",
    "\n",
    "<p><b>Exercise:</b> Using the best value of  `alpha` you just found, calculate the accuracy on the training and test sets. Is this classifier better? Why (not)?</p>\n",
    "\n",
    "</div>"
   ]
  },
  {
   "cell_type": "code",
   "execution_count": null,
   "metadata": {},
   "outputs": [],
   "source": [
    "vectorizer = CountVectorizer(min_df=best_min_df)\n",
    "X, y = make_xy(critics, vectorizer)\n",
    "xtrain=X[mask]\n",
    "ytrain=y[mask]\n",
    "xtest=X[~mask]\n",
    "ytest=y[~mask]\n",
    "\n",
    "clf = MultinomialNB(alpha=best_alpha).fit(xtrain, ytrain)\n",
    "\n",
    "#your turn. Print the accuracy on the test and training dataset\n",
    "training_accuracy = clf.score(xtrain, ytrain)\n",
    "test_accuracy = clf.score(xtest, ytest)\n",
    "\n",
    "print(\"Accuracy on training data: {:2f}\".format(training_accuracy))\n",
    "print(\"Accuracy on test data:     {:2f}\".format(test_accuracy))"
   ]
  },
  {
   "cell_type": "markdown",
   "metadata": {},
   "source": [
    "The new model is less accurate on the test data (74% vs 77% on the original model). However, it is both better calibrated and less over-fit than before. "
   ]
  },
  {
   "cell_type": "code",
   "execution_count": null,
   "metadata": {},
   "outputs": [],
   "source": [
    "from sklearn.metrics import confusion_matrix\n",
    "print(confusion_matrix(ytest, clf.predict(xtest)))"
   ]
  },
  {
   "cell_type": "markdown",
   "metadata": {},
   "source": [
    "## Interpretation"
   ]
  },
  {
   "cell_type": "markdown",
   "metadata": {},
   "source": [
    "### What are the strongly predictive features?\n",
    "\n",
    "We use a neat trick to identify strongly predictive features (i.e. words). \n",
    "\n",
    "* first, create a data set such that each row has exactly one feature. This is represented by the identity matrix.\n",
    "* use the trained classifier to make predictions on this matrix\n",
    "* sort the rows by predicted probabilities, and pick the top and bottom $K$ rows"
   ]
  },
  {
   "cell_type": "code",
   "execution_count": null,
   "metadata": {},
   "outputs": [],
   "source": [
    "words = np.array(vectorizer.get_feature_names())\n",
    "\n",
    "x = np.eye(xtest.shape[1])\n",
    "probs = clf.predict_log_proba(x)[:, 0]\n",
    "\n",
    "print (probs)\n",
    "\n",
    "ind = np.argsort(probs)\n",
    "\n",
    "good_words = words[ind[:10]]\n",
    "bad_words = words[ind[-10:]]\n",
    "\n",
    "good_prob = probs[ind[:10]]\n",
    "bad_prob = probs[ind[-10:]]\n",
    "\n",
    "print(\"Good words\\t     P(fresh | word)\")\n",
    "for w, p in zip(good_words, good_prob):\n",
    "    print(\"{:>20}\".format(w), \"{:.2f}\".format(1 - np.exp(p)))\n",
    "    \n",
    "print(\"Bad words\\t     P(fresh | word)\")\n",
    "for w, p in zip(bad_words, bad_prob):\n",
    "    print(\"{:>20}\".format(w), \"{:.2f}\".format(1 - np.exp(p)))"
   ]
  },
  {
   "cell_type": "markdown",
   "metadata": {},
   "source": [
    "<div class=\"span5 alert alert-info\">\n",
    "<h3>Exercise Set VI</h3>\n",
    "\n",
    "<p><b>Exercise:</b> Why does this method work? What does the probability for each row in the identity matrix represent</p>\n",
    "\n",
    "</div>"
   ]
  },
  {
   "cell_type": "markdown",
   "metadata": {},
   "source": [
    "### Answer\n",
    "\n",
    "This method takes the array of descriptions and incidence (probability) and sorts them from highest to lowest. The words with the highest probability are the \"good\" words and the words with the lowest probability are the \"bad\" words. The probability represents the chance of a \"good\" word."
   ]
  },
  {
   "cell_type": "markdown",
   "metadata": {},
   "source": [
    "The above exercise is an example of *feature selection*. There are many other feature selection methods. A list of feature selection methods available in `sklearn` is [here](http://scikit-learn.org/stable/modules/classes.html#module-sklearn.feature_selection). The most common feature selection technique for text mining is the chi-squared $\\left( \\chi^2 \\right)$ [method](http://nlp.stanford.edu/IR-book/html/htmledition/feature-selectionchi2-feature-selection-1.html)."
   ]
  },
  {
   "cell_type": "markdown",
   "metadata": {},
   "source": [
    "### Prediction Errors\n",
    "\n",
    "We can see mis-predictions as well."
   ]
  },
  {
   "cell_type": "code",
   "execution_count": null,
   "metadata": {},
   "outputs": [],
   "source": [
    "x, y = make_xy(critics, vectorizer)\n",
    "\n",
    "prob = clf.predict_proba(x)[:, 0]\n",
    "predict = clf.predict(x)\n",
    "\n",
    "bad_rotten = np.argsort(prob[y == 0])[:5]\n",
    "bad_fresh = np.argsort(prob[y == 1])[-5:]\n",
    "\n",
    "print(\"Mis-predicted Rotten quotes\")\n",
    "print('---------------------------')\n",
    "for row in bad_rotten:\n",
    "    print(critics[y == 0].quote.iloc[row])\n",
    "    print(\"\")\n",
    "\n",
    "print(\"Mis-predicted Fresh quotes\")\n",
    "print('--------------------------')\n",
    "for row in bad_fresh:\n",
    "    print(critics[y == 1].quote.iloc[row])\n",
    "    print(\"\")"
   ]
  },
  {
   "cell_type": "markdown",
   "metadata": {},
   "source": [
    "<div class=\"span5 alert alert-info\">\n",
    "<h3>Exercise Set VII: Predicting the Freshness for a New Review</h3>\n",
    "<br/>\n",
    "<div>\n",
    "<b>Exercise:</b>\n",
    "<ul>\n",
    "<li> Using your best trained classifier, predict the freshness of the following sentence: *'This movie is not remarkable, touching, or superb in any way'*\n",
    "<li> Is the result what you'd expect? Why (not)?\n",
    "</ul>\n",
    "</div>\n",
    "</div>"
   ]
  },
  {
   "cell_type": "code",
   "execution_count": null,
   "metadata": {},
   "outputs": [],
   "source": [
    "clf.predict_proba(vectorizer.transform(['This movie is not remarkable, touching or superb in any wat.']))"
   ]
  },
  {
   "cell_type": "markdown",
   "metadata": {},
   "source": [
    "### Answer\n",
    "\n",
    "The fresh rating for this description is 94%. This is due to the quote containing the words \"remarkable\", \"touching\", and \"superb\". These words were weighted more heavily than the word \"not\"."
   ]
  },
  {
   "cell_type": "markdown",
   "metadata": {},
   "source": [
    "### Aside: TF-IDF Weighting for Term Importance\n",
    "\n",
    "TF-IDF stands for \n",
    "\n",
    "`Term-Frequency X Inverse Document Frequency`.\n",
    "\n",
    "In the standard `CountVectorizer` model above, we used just the term frequency in a document of words in our vocabulary. In TF-IDF, we weight this term frequency by the inverse of its popularity in all documents. For example, if the word \"movie\" showed up in all the documents, it would not have much predictive value. It could actually be considered a stopword. By weighing its counts by 1 divided by its overall frequency, we downweight it. We can then use this TF-IDF weighted features as inputs to any classifier. **TF-IDF is essentially a measure of term importance, and of how discriminative a word is in a corpus.** There are a variety of nuances involved in computing TF-IDF, mainly involving where to add the smoothing term to avoid division by 0, or log of 0 errors. The formula for TF-IDF in `scikit-learn` differs from that of most textbooks: \n",
    "\n",
    "$$\\mbox{TF-IDF}(t, d) = \\mbox{TF}(t, d)\\times \\mbox{IDF}(t) = n_{td} \\log{\\left( \\frac{\\vert D \\vert}{\\vert d : t \\in d \\vert} + 1 \\right)}$$\n",
    "\n",
    "where $n_{td}$ is the number of times term $t$ occurs in document $d$, $\\vert D \\vert$ is the number of documents, and $\\vert d : t \\in d \\vert$ is the number of documents that contain $t$"
   ]
  },
  {
   "cell_type": "code",
   "execution_count": null,
   "metadata": {
    "collapsed": true
   },
   "outputs": [],
   "source": [
    "# http://scikit-learn.org/dev/modules/feature_extraction.html#text-feature-extraction\n",
    "# http://scikit-learn.org/dev/modules/classes.html#text-feature-extraction-ref\n",
    "from sklearn.feature_extraction.text import TfidfVectorizer\n",
    "tfidfvectorizer = TfidfVectorizer(min_df=1, stop_words='english')\n",
    "Xtfidf=tfidfvectorizer.fit_transform(critics.quote)"
   ]
  },
  {
   "cell_type": "markdown",
   "metadata": {},
   "source": [
    "<div class=\"span5 alert alert-info\">\n",
    "<h3>Exercise Set VIII: Enrichment <b>(Optional)</b></h3>\n",
    "\n",
    "<p>\n",
    "There are several additional things we could try. Try some of these as exercises:\n",
    "<ol>\n",
    "<li> Build a Naive Bayes model where the features are n-grams instead of words. N-grams are phrases containing n words next to each other: a bigram contains 2 words, a trigram contains 3 words, and 6-gram contains 6 words. This is useful because \"not good\" and \"so good\" mean very different things. On the other hand, as n increases, the model does not scale well since the feature set becomes more sparse.\n",
    "<li> Try a model besides Naive Bayes, one that would allow for interactions between words -- for example, a Random Forest classifier.\n",
    "<li> Try adding supplemental features -- information about genre, director, cast, etc.\n",
    "<li> Use word2vec or [Latent Dirichlet Allocation](https://en.wikipedia.org/wiki/Latent_Dirichlet_allocation) to group words into topics and use those topics for prediction.\n",
    "<li> Use TF-IDF weighting instead of word counts.\n",
    "</ol>\n",
    "</p>\n",
    "\n",
    "<b>Exercise:</b> Try at least one of these ideas to improve the model (or any other ideas of your own). Implement here and report on the result. \n",
    "</div>"
   ]
  },
  {
   "cell_type": "code",
   "execution_count": null,
   "metadata": {},
   "outputs": [],
   "source": [
    "# Your turn\n",
    "\n",
    "from sklearn.feature_extraction.text import TfidfVectorizer\n",
    "tfidfvectorizer = TfidfVectorizer(min_df=1, stop_words='english')\n",
    "Xtfidf=tfidfvectorizer.fit_transform(critics.quote)\n",
    "\n",
    "print(Xtfidf)"
   ]
  },
  {
   "cell_type": "code",
   "execution_count": null,
   "metadata": {},
   "outputs": [],
   "source": [
    "Xtfidf.shape"
   ]
  },
  {
   "cell_type": "code",
   "execution_count": null,
   "metadata": {},
   "outputs": [],
   "source": [
    "# Naive Bayes model with bigrams\n",
    "\n",
    "vectorizer = CountVectorizer(ngram_range = (2,2), min_df = best_min_df)\n",
    "X, y = make_xy(critics, vectorizer)\n",
    "\n",
    "X_train = X[mask]\n",
    "y_train = y[mask]\n",
    "X_test = X[~mask]\n",
    "y_test = y[~mask]\n",
    "\n",
    "clf = MultinomialNB(alpha=best_alpha).fit(X_train, y_train)\n",
    "\n",
    "train_accuracy = clf.score(X_train, y_train)\n",
    "test_accuracy = clf.score(X_test, y_test)\n",
    "\n",
    "print('train accuracy is  ', train_accuracy)\n",
    "print('test accuracy is  ', test_accuracy)"
   ]
  },
  {
   "cell_type": "markdown",
   "metadata": {},
   "source": [
    "The model performance using bigrams is worse than using single words."
   ]
  },
  {
   "cell_type": "code",
   "execution_count": null,
   "metadata": {},
   "outputs": [],
   "source": [
    "# Naive Bayes model with 4-grams\n",
    "\n",
    "vectorizer = CountVectorizer(ngram_range = (4,4), min_df = best_min_df)\n",
    "X, y = make_xy(critics, vectorizer)\n",
    "\n",
    "X_train = X[mask]\n",
    "y_train = y[mask]\n",
    "X_test = X[~mask]\n",
    "y_test = y[~mask]\n",
    "\n",
    "clf = MultinomialNB(alpha=best_alpha).fit(X_train, y_train)\n",
    "\n",
    "train_accuracy = clf.score(X_train, y_train)\n",
    "test_accuracy = clf.score(X_test, y_test)\n",
    "\n",
    "print('train accuracy is  ', train_accuracy)\n",
    "print('test accuracy is  ', test_accuracy)"
   ]
  },
  {
   "cell_type": "markdown",
   "metadata": {},
   "source": [
    "The model performance is even worse with 4-grams."
   ]
  }
 ],
 "metadata": {
  "kernelspec": {
   "display_name": "Python 3",
   "language": "python",
   "name": "python3"
  },
  "language_info": {
   "codemirror_mode": {
    "name": "ipython",
    "version": 3
   },
   "file_extension": ".py",
   "mimetype": "text/x-python",
   "name": "python",
   "nbconvert_exporter": "python",
   "pygments_lexer": "ipython3",
   "version": "3.6.3"
  }
 },
 "nbformat": 4,
 "nbformat_minor": 1
}
